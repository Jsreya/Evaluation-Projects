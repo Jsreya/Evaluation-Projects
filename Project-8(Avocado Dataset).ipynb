{
 "cells": [
  {
   "cell_type": "code",
   "execution_count": 80,
   "metadata": {},
   "outputs": [],
   "source": [
    "import pandas as pd\n",
    "import numpy as np\n",
    "import seaborn as sns\n",
    "import matplotlib.pyplot as plt\n",
    "import warnings\n",
    "warnings.filterwarnings('ignore')"
   ]
  },
  {
   "cell_type": "code",
   "execution_count": 81,
   "metadata": {},
   "outputs": [],
   "source": [
    "data=pd.read_csv('avocado.csv')"
   ]
  },
  {
   "cell_type": "code",
   "execution_count": 82,
   "metadata": {},
   "outputs": [
    {
     "data": {
      "text/html": [
       "<div>\n",
       "<style scoped>\n",
       "    .dataframe tbody tr th:only-of-type {\n",
       "        vertical-align: middle;\n",
       "    }\n",
       "\n",
       "    .dataframe tbody tr th {\n",
       "        vertical-align: top;\n",
       "    }\n",
       "\n",
       "    .dataframe thead th {\n",
       "        text-align: right;\n",
       "    }\n",
       "</style>\n",
       "<table border=\"1\" class=\"dataframe\">\n",
       "  <thead>\n",
       "    <tr style=\"text-align: right;\">\n",
       "      <th></th>\n",
       "      <th>i</th>\n",
       "      <th>Date</th>\n",
       "      <th>AveragePrice</th>\n",
       "      <th>Total Volume</th>\n",
       "      <th>4046</th>\n",
       "      <th>4225</th>\n",
       "      <th>4770</th>\n",
       "      <th>Total Bags</th>\n",
       "      <th>Small Bags</th>\n",
       "      <th>Large Bags</th>\n",
       "      <th>XLarge Bags</th>\n",
       "      <th>type</th>\n",
       "      <th>year</th>\n",
       "      <th>region</th>\n",
       "    </tr>\n",
       "  </thead>\n",
       "  <tbody>\n",
       "    <tr>\n",
       "      <td>0</td>\n",
       "      <td>0</td>\n",
       "      <td>27-12-2015</td>\n",
       "      <td>1.33</td>\n",
       "      <td>64236.62</td>\n",
       "      <td>1036.74</td>\n",
       "      <td>54454.85</td>\n",
       "      <td>48.16</td>\n",
       "      <td>8696.87</td>\n",
       "      <td>8603.62</td>\n",
       "      <td>93.25</td>\n",
       "      <td>0.0</td>\n",
       "      <td>conventional</td>\n",
       "      <td>2015</td>\n",
       "      <td>Albany</td>\n",
       "    </tr>\n",
       "    <tr>\n",
       "      <td>1</td>\n",
       "      <td>1</td>\n",
       "      <td>20-12-2015</td>\n",
       "      <td>1.35</td>\n",
       "      <td>54876.98</td>\n",
       "      <td>674.28</td>\n",
       "      <td>44638.81</td>\n",
       "      <td>58.33</td>\n",
       "      <td>9505.56</td>\n",
       "      <td>9408.07</td>\n",
       "      <td>97.49</td>\n",
       "      <td>0.0</td>\n",
       "      <td>conventional</td>\n",
       "      <td>2015</td>\n",
       "      <td>Albany</td>\n",
       "    </tr>\n",
       "    <tr>\n",
       "      <td>2</td>\n",
       "      <td>2</td>\n",
       "      <td>13-12-2015</td>\n",
       "      <td>0.93</td>\n",
       "      <td>118220.22</td>\n",
       "      <td>794.70</td>\n",
       "      <td>109149.67</td>\n",
       "      <td>130.50</td>\n",
       "      <td>8145.35</td>\n",
       "      <td>8042.21</td>\n",
       "      <td>103.14</td>\n",
       "      <td>0.0</td>\n",
       "      <td>conventional</td>\n",
       "      <td>2015</td>\n",
       "      <td>Albany</td>\n",
       "    </tr>\n",
       "    <tr>\n",
       "      <td>3</td>\n",
       "      <td>3</td>\n",
       "      <td>06-12-2015</td>\n",
       "      <td>1.08</td>\n",
       "      <td>78992.15</td>\n",
       "      <td>1132.00</td>\n",
       "      <td>71976.41</td>\n",
       "      <td>72.58</td>\n",
       "      <td>5811.16</td>\n",
       "      <td>5677.40</td>\n",
       "      <td>133.76</td>\n",
       "      <td>0.0</td>\n",
       "      <td>conventional</td>\n",
       "      <td>2015</td>\n",
       "      <td>Albany</td>\n",
       "    </tr>\n",
       "    <tr>\n",
       "      <td>4</td>\n",
       "      <td>4</td>\n",
       "      <td>29-11-2015</td>\n",
       "      <td>1.28</td>\n",
       "      <td>51039.60</td>\n",
       "      <td>941.48</td>\n",
       "      <td>43838.39</td>\n",
       "      <td>75.78</td>\n",
       "      <td>6183.95</td>\n",
       "      <td>5986.26</td>\n",
       "      <td>197.69</td>\n",
       "      <td>0.0</td>\n",
       "      <td>conventional</td>\n",
       "      <td>2015</td>\n",
       "      <td>Albany</td>\n",
       "    </tr>\n",
       "  </tbody>\n",
       "</table>\n",
       "</div>"
      ],
      "text/plain": [
       "   i        Date  AveragePrice  Total Volume     4046       4225    4770  \\\n",
       "0  0  27-12-2015          1.33      64236.62  1036.74   54454.85   48.16   \n",
       "1  1  20-12-2015          1.35      54876.98   674.28   44638.81   58.33   \n",
       "2  2  13-12-2015          0.93     118220.22   794.70  109149.67  130.50   \n",
       "3  3  06-12-2015          1.08      78992.15  1132.00   71976.41   72.58   \n",
       "4  4  29-11-2015          1.28      51039.60   941.48   43838.39   75.78   \n",
       "\n",
       "   Total Bags  Small Bags  Large Bags  XLarge Bags          type  year  region  \n",
       "0     8696.87     8603.62       93.25          0.0  conventional  2015  Albany  \n",
       "1     9505.56     9408.07       97.49          0.0  conventional  2015  Albany  \n",
       "2     8145.35     8042.21      103.14          0.0  conventional  2015  Albany  \n",
       "3     5811.16     5677.40      133.76          0.0  conventional  2015  Albany  \n",
       "4     6183.95     5986.26      197.69          0.0  conventional  2015  Albany  "
      ]
     },
     "execution_count": 82,
     "metadata": {},
     "output_type": "execute_result"
    }
   ],
   "source": [
    "data.head()"
   ]
  },
  {
   "cell_type": "code",
   "execution_count": 83,
   "metadata": {},
   "outputs": [
    {
     "data": {
      "text/html": [
       "<div>\n",
       "<style scoped>\n",
       "    .dataframe tbody tr th:only-of-type {\n",
       "        vertical-align: middle;\n",
       "    }\n",
       "\n",
       "    .dataframe tbody tr th {\n",
       "        vertical-align: top;\n",
       "    }\n",
       "\n",
       "    .dataframe thead th {\n",
       "        text-align: right;\n",
       "    }\n",
       "</style>\n",
       "<table border=\"1\" class=\"dataframe\">\n",
       "  <thead>\n",
       "    <tr style=\"text-align: right;\">\n",
       "      <th></th>\n",
       "      <th>i</th>\n",
       "      <th>Date</th>\n",
       "      <th>AveragePrice</th>\n",
       "      <th>Total Volume</th>\n",
       "      <th>4046</th>\n",
       "      <th>4225</th>\n",
       "      <th>4770</th>\n",
       "      <th>Total Bags</th>\n",
       "      <th>Small Bags</th>\n",
       "      <th>Large Bags</th>\n",
       "      <th>XLarge Bags</th>\n",
       "      <th>type</th>\n",
       "      <th>year</th>\n",
       "      <th>region</th>\n",
       "    </tr>\n",
       "  </thead>\n",
       "  <tbody>\n",
       "    <tr>\n",
       "      <td>1512</td>\n",
       "      <td>10</td>\n",
       "      <td>16-10-2016</td>\n",
       "      <td>1.39</td>\n",
       "      <td>190846.01</td>\n",
       "      <td>57529.11</td>\n",
       "      <td>56366.66</td>\n",
       "      <td>17531.78</td>\n",
       "      <td>59418.46</td>\n",
       "      <td>48823.53</td>\n",
       "      <td>10354.65</td>\n",
       "      <td>240.28</td>\n",
       "      <td>conventional</td>\n",
       "      <td>2016</td>\n",
       "      <td>Charlotte</td>\n",
       "    </tr>\n",
       "    <tr>\n",
       "      <td>1513</td>\n",
       "      <td>11</td>\n",
       "      <td>09-10-2016</td>\n",
       "      <td>1.51</td>\n",
       "      <td>178235.75</td>\n",
       "      <td>43325.87</td>\n",
       "      <td>52189.61</td>\n",
       "      <td>19419.57</td>\n",
       "      <td>63300.70</td>\n",
       "      <td>54704.14</td>\n",
       "      <td>8596.56</td>\n",
       "      <td>0.00</td>\n",
       "      <td>conventional</td>\n",
       "      <td>2016</td>\n",
       "      <td>Charlotte</td>\n",
       "    </tr>\n",
       "    <tr>\n",
       "      <td>1514</td>\n",
       "      <td>12</td>\n",
       "      <td>02-10-2016</td>\n",
       "      <td>1.48</td>\n",
       "      <td>178410.82</td>\n",
       "      <td>46364.75</td>\n",
       "      <td>52893.38</td>\n",
       "      <td>16736.92</td>\n",
       "      <td>62415.77</td>\n",
       "      <td>53332.61</td>\n",
       "      <td>8258.16</td>\n",
       "      <td>825.00</td>\n",
       "      <td>conventional</td>\n",
       "      <td>2016</td>\n",
       "      <td>Charlotte</td>\n",
       "    </tr>\n",
       "    <tr>\n",
       "      <td>1515</td>\n",
       "      <td>13</td>\n",
       "      <td>25-09-2016</td>\n",
       "      <td>1.47</td>\n",
       "      <td>189131.52</td>\n",
       "      <td>54110.79</td>\n",
       "      <td>53593.58</td>\n",
       "      <td>17495.42</td>\n",
       "      <td>63931.73</td>\n",
       "      <td>55653.47</td>\n",
       "      <td>8278.26</td>\n",
       "      <td>0.00</td>\n",
       "      <td>conventional</td>\n",
       "      <td>2016</td>\n",
       "      <td>Charlotte</td>\n",
       "    </tr>\n",
       "    <tr>\n",
       "      <td>1516</td>\n",
       "      <td>14</td>\n",
       "      <td>18-09-2016</td>\n",
       "      <td>1.43</td>\n",
       "      <td>182978.30</td>\n",
       "      <td>43116.41</td>\n",
       "      <td>54193.42</td>\n",
       "      <td>16563.91</td>\n",
       "      <td>69104.56</td>\n",
       "      <td>57456.21</td>\n",
       "      <td>11648.35</td>\n",
       "      <td>0.00</td>\n",
       "      <td>conventional</td>\n",
       "      <td>2016</td>\n",
       "      <td>Charlotte</td>\n",
       "    </tr>\n",
       "  </tbody>\n",
       "</table>\n",
       "</div>"
      ],
      "text/plain": [
       "       i        Date  AveragePrice  Total Volume      4046      4225  \\\n",
       "1512  10  16-10-2016          1.39     190846.01  57529.11  56366.66   \n",
       "1513  11  09-10-2016          1.51     178235.75  43325.87  52189.61   \n",
       "1514  12  02-10-2016          1.48     178410.82  46364.75  52893.38   \n",
       "1515  13  25-09-2016          1.47     189131.52  54110.79  53593.58   \n",
       "1516  14  18-09-2016          1.43     182978.30  43116.41  54193.42   \n",
       "\n",
       "          4770  Total Bags  Small Bags  Large Bags  XLarge Bags          type  \\\n",
       "1512  17531.78    59418.46    48823.53    10354.65       240.28  conventional   \n",
       "1513  19419.57    63300.70    54704.14     8596.56         0.00  conventional   \n",
       "1514  16736.92    62415.77    53332.61     8258.16       825.00  conventional   \n",
       "1515  17495.42    63931.73    55653.47     8278.26         0.00  conventional   \n",
       "1516  16563.91    69104.56    57456.21    11648.35         0.00  conventional   \n",
       "\n",
       "      year     region  \n",
       "1512  2016  Charlotte  \n",
       "1513  2016  Charlotte  \n",
       "1514  2016  Charlotte  \n",
       "1515  2016  Charlotte  \n",
       "1516  2016  Charlotte  "
      ]
     },
     "execution_count": 83,
     "metadata": {},
     "output_type": "execute_result"
    }
   ],
   "source": [
    "data.tail()"
   ]
  },
  {
   "cell_type": "code",
   "execution_count": 84,
   "metadata": {},
   "outputs": [
    {
     "data": {
      "text/html": [
       "<div>\n",
       "<style scoped>\n",
       "    .dataframe tbody tr th:only-of-type {\n",
       "        vertical-align: middle;\n",
       "    }\n",
       "\n",
       "    .dataframe tbody tr th {\n",
       "        vertical-align: top;\n",
       "    }\n",
       "\n",
       "    .dataframe thead th {\n",
       "        text-align: right;\n",
       "    }\n",
       "</style>\n",
       "<table border=\"1\" class=\"dataframe\">\n",
       "  <thead>\n",
       "    <tr style=\"text-align: right;\">\n",
       "      <th></th>\n",
       "      <th>Date</th>\n",
       "      <th>AveragePrice</th>\n",
       "      <th>Total Volume</th>\n",
       "      <th>4046</th>\n",
       "      <th>4225</th>\n",
       "      <th>4770</th>\n",
       "      <th>Total Bags</th>\n",
       "      <th>Small Bags</th>\n",
       "      <th>Large Bags</th>\n",
       "      <th>XLarge Bags</th>\n",
       "      <th>type</th>\n",
       "      <th>year</th>\n",
       "      <th>region</th>\n",
       "    </tr>\n",
       "  </thead>\n",
       "  <tbody>\n",
       "    <tr>\n",
       "      <td>0</td>\n",
       "      <td>27-12-2015</td>\n",
       "      <td>1.33</td>\n",
       "      <td>64236.62</td>\n",
       "      <td>1036.74</td>\n",
       "      <td>54454.85</td>\n",
       "      <td>48.16</td>\n",
       "      <td>8696.87</td>\n",
       "      <td>8603.62</td>\n",
       "      <td>93.25</td>\n",
       "      <td>0.0</td>\n",
       "      <td>conventional</td>\n",
       "      <td>2015</td>\n",
       "      <td>Albany</td>\n",
       "    </tr>\n",
       "    <tr>\n",
       "      <td>1</td>\n",
       "      <td>20-12-2015</td>\n",
       "      <td>1.35</td>\n",
       "      <td>54876.98</td>\n",
       "      <td>674.28</td>\n",
       "      <td>44638.81</td>\n",
       "      <td>58.33</td>\n",
       "      <td>9505.56</td>\n",
       "      <td>9408.07</td>\n",
       "      <td>97.49</td>\n",
       "      <td>0.0</td>\n",
       "      <td>conventional</td>\n",
       "      <td>2015</td>\n",
       "      <td>Albany</td>\n",
       "    </tr>\n",
       "  </tbody>\n",
       "</table>\n",
       "</div>"
      ],
      "text/plain": [
       "         Date  AveragePrice  Total Volume     4046      4225   4770  \\\n",
       "0  27-12-2015          1.33      64236.62  1036.74  54454.85  48.16   \n",
       "1  20-12-2015          1.35      54876.98   674.28  44638.81  58.33   \n",
       "\n",
       "   Total Bags  Small Bags  Large Bags  XLarge Bags          type  year  region  \n",
       "0     8696.87     8603.62       93.25          0.0  conventional  2015  Albany  \n",
       "1     9505.56     9408.07       97.49          0.0  conventional  2015  Albany  "
      ]
     },
     "execution_count": 84,
     "metadata": {},
     "output_type": "execute_result"
    }
   ],
   "source": [
    "avoc=data.drop([\"i\"],axis=1)\n",
    "avoc.head(2)"
   ]
  },
  {
   "cell_type": "code",
   "execution_count": 85,
   "metadata": {},
   "outputs": [
    {
     "data": {
      "text/plain": [
       "(1517, 13)"
      ]
     },
     "execution_count": 85,
     "metadata": {},
     "output_type": "execute_result"
    }
   ],
   "source": [
    "avoc.shape"
   ]
  },
  {
   "cell_type": "code",
   "execution_count": 86,
   "metadata": {},
   "outputs": [
    {
     "data": {
      "text/plain": [
       "Index(['Date', 'AveragePrice', 'Total Volume', '4046', '4225', '4770',\n",
       "       'Total Bags', 'Small Bags', 'Large Bags', 'XLarge Bags', 'type', 'year',\n",
       "       'region'],\n",
       "      dtype='object')"
      ]
     },
     "execution_count": 86,
     "metadata": {},
     "output_type": "execute_result"
    }
   ],
   "source": [
    "avoc.columns"
   ]
  },
  {
   "cell_type": "code",
   "execution_count": 87,
   "metadata": {},
   "outputs": [
    {
     "name": "stdout",
     "output_type": "stream",
     "text": [
      "<class 'pandas.core.frame.DataFrame'>\n",
      "RangeIndex: 1517 entries, 0 to 1516\n",
      "Data columns (total 13 columns):\n",
      "Date            1517 non-null object\n",
      "AveragePrice    1517 non-null float64\n",
      "Total Volume    1517 non-null float64\n",
      "4046            1517 non-null float64\n",
      "4225            1517 non-null float64\n",
      "4770            1517 non-null float64\n",
      "Total Bags      1517 non-null float64\n",
      "Small Bags      1517 non-null float64\n",
      "Large Bags      1517 non-null float64\n",
      "XLarge Bags     1517 non-null float64\n",
      "type            1517 non-null object\n",
      "year            1517 non-null int64\n",
      "region          1517 non-null object\n",
      "dtypes: float64(9), int64(1), object(3)\n",
      "memory usage: 154.2+ KB\n"
     ]
    }
   ],
   "source": [
    "avoc.info()"
   ]
  },
  {
   "cell_type": "code",
   "execution_count": 88,
   "metadata": {},
   "outputs": [],
   "source": [
    "avoc['Date'] = pd.to_datetime(avoc['Date'])"
   ]
  },
  {
   "cell_type": "code",
   "execution_count": 89,
   "metadata": {},
   "outputs": [],
   "source": [
    "avoc['Month'] = avoc['Date'].dt.month\n",
    "avoc['Day'] = avoc['Date'].dt.day"
   ]
  },
  {
   "cell_type": "code",
   "execution_count": 90,
   "metadata": {},
   "outputs": [
    {
     "data": {
      "text/html": [
       "<div>\n",
       "<style scoped>\n",
       "    .dataframe tbody tr th:only-of-type {\n",
       "        vertical-align: middle;\n",
       "    }\n",
       "\n",
       "    .dataframe tbody tr th {\n",
       "        vertical-align: top;\n",
       "    }\n",
       "\n",
       "    .dataframe thead th {\n",
       "        text-align: right;\n",
       "    }\n",
       "</style>\n",
       "<table border=\"1\" class=\"dataframe\">\n",
       "  <thead>\n",
       "    <tr style=\"text-align: right;\">\n",
       "      <th></th>\n",
       "      <th>Date</th>\n",
       "      <th>AveragePrice</th>\n",
       "      <th>Total Volume</th>\n",
       "      <th>4046</th>\n",
       "      <th>4225</th>\n",
       "      <th>4770</th>\n",
       "      <th>Total Bags</th>\n",
       "      <th>Small Bags</th>\n",
       "      <th>Large Bags</th>\n",
       "      <th>XLarge Bags</th>\n",
       "      <th>type</th>\n",
       "      <th>year</th>\n",
       "      <th>region</th>\n",
       "      <th>Month</th>\n",
       "      <th>Day</th>\n",
       "    </tr>\n",
       "  </thead>\n",
       "  <tbody>\n",
       "    <tr>\n",
       "      <td>0</td>\n",
       "      <td>2015-12-27</td>\n",
       "      <td>1.33</td>\n",
       "      <td>64236.62</td>\n",
       "      <td>1036.74</td>\n",
       "      <td>54454.85</td>\n",
       "      <td>48.16</td>\n",
       "      <td>8696.87</td>\n",
       "      <td>8603.62</td>\n",
       "      <td>93.25</td>\n",
       "      <td>0.0</td>\n",
       "      <td>conventional</td>\n",
       "      <td>2015</td>\n",
       "      <td>Albany</td>\n",
       "      <td>12</td>\n",
       "      <td>27</td>\n",
       "    </tr>\n",
       "    <tr>\n",
       "      <td>1</td>\n",
       "      <td>2015-12-20</td>\n",
       "      <td>1.35</td>\n",
       "      <td>54876.98</td>\n",
       "      <td>674.28</td>\n",
       "      <td>44638.81</td>\n",
       "      <td>58.33</td>\n",
       "      <td>9505.56</td>\n",
       "      <td>9408.07</td>\n",
       "      <td>97.49</td>\n",
       "      <td>0.0</td>\n",
       "      <td>conventional</td>\n",
       "      <td>2015</td>\n",
       "      <td>Albany</td>\n",
       "      <td>12</td>\n",
       "      <td>20</td>\n",
       "    </tr>\n",
       "  </tbody>\n",
       "</table>\n",
       "</div>"
      ],
      "text/plain": [
       "        Date  AveragePrice  Total Volume     4046      4225   4770  \\\n",
       "0 2015-12-27          1.33      64236.62  1036.74  54454.85  48.16   \n",
       "1 2015-12-20          1.35      54876.98   674.28  44638.81  58.33   \n",
       "\n",
       "   Total Bags  Small Bags  Large Bags  XLarge Bags          type  year  \\\n",
       "0     8696.87     8603.62       93.25          0.0  conventional  2015   \n",
       "1     9505.56     9408.07       97.49          0.0  conventional  2015   \n",
       "\n",
       "   region  Month  Day  \n",
       "0  Albany     12   27  \n",
       "1  Albany     12   20  "
      ]
     },
     "execution_count": 90,
     "metadata": {},
     "output_type": "execute_result"
    }
   ],
   "source": [
    "avoc.head(2)"
   ]
  },
  {
   "cell_type": "code",
   "execution_count": 91,
   "metadata": {},
   "outputs": [
    {
     "data": {
      "text/plain": [
       "<matplotlib.axes._subplots.AxesSubplot at 0x3f4b0596c8>"
      ]
     },
     "execution_count": 91,
     "metadata": {},
     "output_type": "execute_result"
    },
    {
     "data": {
      "image/png": "[encoded data removed]",
      "text/plain": [
       "<Figure size 432x288 with 2 Axes>"
      ]
     },
     "metadata": {
      "needs_background": "light"
     },
     "output_type": "display_data"
    }
   ],
   "source": [
    "#To check missing value\n",
    "sns.heatmap(avoc.isnull())"
   ]
  },
  {
   "cell_type": "code",
   "execution_count": 92,
   "metadata": {},
   "outputs": [
    {
     "data": {
      "text/plain": [
       "Date            0\n",
       "AveragePrice    0\n",
       "Total Volume    0\n",
       "4046            0\n",
       "4225            0\n",
       "4770            0\n",
       "Total Bags      0\n",
       "Small Bags      0\n",
       "Large Bags      0\n",
       "XLarge Bags     0\n",
       "type            0\n",
       "year            0\n",
       "region          0\n",
       "Month           0\n",
       "Day             0\n",
       "dtype: int64"
      ]
     },
     "execution_count": 92,
     "metadata": {},
     "output_type": "execute_result"
    }
   ],
   "source": [
    "avoc.isnull().sum()"
   ]
  },
  {
   "cell_type": "code",
   "execution_count": 93,
   "metadata": {},
   "outputs": [
    {
     "data": {
      "text/plain": [
       "0"
      ]
     },
     "execution_count": 93,
     "metadata": {},
     "output_type": "execute_result"
    }
   ],
   "source": [
    "#To check duplicate values\n",
    "avoc.duplicated().sum()"
   ]
  },
  {
   "cell_type": "markdown",
   "metadata": {},
   "source": [
    "Summary Statistics"
   ]
  },
  {
   "cell_type": "code",
   "execution_count": 94,
   "metadata": {},
   "outputs": [
    {
     "data": {
      "text/html": [
       "<div>\n",
       "<style scoped>\n",
       "    .dataframe tbody tr th:only-of-type {\n",
       "        vertical-align: middle;\n",
       "    }\n",
       "\n",
       "    .dataframe tbody tr th {\n",
       "        vertical-align: top;\n",
       "    }\n",
       "\n",
       "    .dataframe thead th {\n",
       "        text-align: right;\n",
       "    }\n",
       "</style>\n",
       "<table border=\"1\" class=\"dataframe\">\n",
       "  <thead>\n",
       "    <tr style=\"text-align: right;\">\n",
       "      <th></th>\n",
       "      <th>AveragePrice</th>\n",
       "      <th>Total Volume</th>\n",
       "      <th>4046</th>\n",
       "      <th>4225</th>\n",
       "      <th>4770</th>\n",
       "      <th>Total Bags</th>\n",
       "      <th>Small Bags</th>\n",
       "      <th>Large Bags</th>\n",
       "      <th>XLarge Bags</th>\n",
       "      <th>year</th>\n",
       "      <th>Month</th>\n",
       "      <th>Day</th>\n",
       "    </tr>\n",
       "  </thead>\n",
       "  <tbody>\n",
       "    <tr>\n",
       "      <td>count</td>\n",
       "      <td>1517.000000</td>\n",
       "      <td>1.517000e+03</td>\n",
       "      <td>1.517000e+03</td>\n",
       "      <td>1.517000e+03</td>\n",
       "      <td>1.517000e+03</td>\n",
       "      <td>1.517000e+03</td>\n",
       "      <td>1.517000e+03</td>\n",
       "      <td>1.517000e+03</td>\n",
       "      <td>1517.000000</td>\n",
       "      <td>1517.000000</td>\n",
       "      <td>1517.000000</td>\n",
       "      <td>1517.000000</td>\n",
       "    </tr>\n",
       "    <tr>\n",
       "      <td>mean</td>\n",
       "      <td>1.074990</td>\n",
       "      <td>1.601879e+06</td>\n",
       "      <td>6.464387e+05</td>\n",
       "      <td>6.114375e+05</td>\n",
       "      <td>5.040550e+04</td>\n",
       "      <td>2.935974e+05</td>\n",
       "      <td>2.487736e+05</td>\n",
       "      <td>4.264205e+04</td>\n",
       "      <td>2181.771074</td>\n",
       "      <td>2015.162821</td>\n",
       "      <td>6.362558</td>\n",
       "      <td>15.253790</td>\n",
       "    </tr>\n",
       "    <tr>\n",
       "      <td>std</td>\n",
       "      <td>0.188891</td>\n",
       "      <td>4.433143e+06</td>\n",
       "      <td>1.947614e+06</td>\n",
       "      <td>1.672906e+06</td>\n",
       "      <td>1.377812e+05</td>\n",
       "      <td>7.579765e+05</td>\n",
       "      <td>6.474765e+05</td>\n",
       "      <td>1.182157e+05</td>\n",
       "      <td>7455.712144</td>\n",
       "      <td>0.369324</td>\n",
       "      <td>3.472146</td>\n",
       "      <td>8.965902</td>\n",
       "    </tr>\n",
       "    <tr>\n",
       "      <td>min</td>\n",
       "      <td>0.490000</td>\n",
       "      <td>3.875074e+04</td>\n",
       "      <td>4.677200e+02</td>\n",
       "      <td>1.783770e+03</td>\n",
       "      <td>0.000000e+00</td>\n",
       "      <td>3.311770e+03</td>\n",
       "      <td>3.311770e+03</td>\n",
       "      <td>0.000000e+00</td>\n",
       "      <td>0.000000</td>\n",
       "      <td>2015.000000</td>\n",
       "      <td>1.000000</td>\n",
       "      <td>1.000000</td>\n",
       "    </tr>\n",
       "    <tr>\n",
       "      <td>25%</td>\n",
       "      <td>0.980000</td>\n",
       "      <td>1.474700e+05</td>\n",
       "      <td>2.040034e+04</td>\n",
       "      <td>4.147606e+04</td>\n",
       "      <td>9.112500e+02</td>\n",
       "      <td>3.620689e+04</td>\n",
       "      <td>2.972722e+04</td>\n",
       "      <td>5.407400e+02</td>\n",
       "      <td>0.000000</td>\n",
       "      <td>2015.000000</td>\n",
       "      <td>3.000000</td>\n",
       "      <td>7.000000</td>\n",
       "    </tr>\n",
       "    <tr>\n",
       "      <td>50%</td>\n",
       "      <td>1.080000</td>\n",
       "      <td>4.027919e+05</td>\n",
       "      <td>8.175117e+04</td>\n",
       "      <td>1.186649e+05</td>\n",
       "      <td>7.688170e+03</td>\n",
       "      <td>7.397906e+04</td>\n",
       "      <td>6.237569e+04</td>\n",
       "      <td>5.044350e+03</td>\n",
       "      <td>0.000000</td>\n",
       "      <td>2015.000000</td>\n",
       "      <td>6.000000</td>\n",
       "      <td>15.000000</td>\n",
       "    </tr>\n",
       "    <tr>\n",
       "      <td>75%</td>\n",
       "      <td>1.190000</td>\n",
       "      <td>9.819751e+05</td>\n",
       "      <td>3.775785e+05</td>\n",
       "      <td>4.851503e+05</td>\n",
       "      <td>2.916730e+04</td>\n",
       "      <td>1.576097e+05</td>\n",
       "      <td>1.461994e+05</td>\n",
       "      <td>2.926767e+04</td>\n",
       "      <td>401.480000</td>\n",
       "      <td>2015.000000</td>\n",
       "      <td>9.000000</td>\n",
       "      <td>22.000000</td>\n",
       "    </tr>\n",
       "    <tr>\n",
       "      <td>max</td>\n",
       "      <td>1.680000</td>\n",
       "      <td>4.465546e+07</td>\n",
       "      <td>1.893304e+07</td>\n",
       "      <td>1.895648e+07</td>\n",
       "      <td>1.381516e+06</td>\n",
       "      <td>6.736304e+06</td>\n",
       "      <td>5.893642e+06</td>\n",
       "      <td>1.121076e+06</td>\n",
       "      <td>108072.790000</td>\n",
       "      <td>2016.000000</td>\n",
       "      <td>12.000000</td>\n",
       "      <td>31.000000</td>\n",
       "    </tr>\n",
       "  </tbody>\n",
       "</table>\n",
       "</div>"
      ],
      "text/plain": [
       "       AveragePrice  Total Volume          4046          4225          4770  \\\n",
       "count   1517.000000  1.517000e+03  1.517000e+03  1.517000e+03  1.517000e+03   \n",
       "mean       1.074990  1.601879e+06  6.464387e+05  6.114375e+05  5.040550e+04   \n",
       "std        0.188891  4.433143e+06  1.947614e+06  1.672906e+06  1.377812e+05   \n",
       "min        0.490000  3.875074e+04  4.677200e+02  1.783770e+03  0.000000e+00   \n",
       "25%        0.980000  1.474700e+05  2.040034e+04  4.147606e+04  9.112500e+02   \n",
       "50%        1.080000  4.027919e+05  8.175117e+04  1.186649e+05  7.688170e+03   \n",
       "75%        1.190000  9.819751e+05  3.775785e+05  4.851503e+05  2.916730e+04   \n",
       "max        1.680000  4.465546e+07  1.893304e+07  1.895648e+07  1.381516e+06   \n",
       "\n",
       "         Total Bags    Small Bags    Large Bags    XLarge Bags         year  \\\n",
       "count  1.517000e+03  1.517000e+03  1.517000e+03    1517.000000  1517.000000   \n",
       "mean   2.935974e+05  2.487736e+05  4.264205e+04    2181.771074  2015.162821   \n",
       "std    7.579765e+05  6.474765e+05  1.182157e+05    7455.712144     0.369324   \n",
       "min    3.311770e+03  3.311770e+03  0.000000e+00       0.000000  2015.000000   \n",
       "25%    3.620689e+04  2.972722e+04  5.407400e+02       0.000000  2015.000000   \n",
       "50%    7.397906e+04  6.237569e+04  5.044350e+03       0.000000  2015.000000   \n",
       "75%    1.576097e+05  1.461994e+05  2.926767e+04     401.480000  2015.000000   \n",
       "max    6.736304e+06  5.893642e+06  1.121076e+06  108072.790000  2016.000000   \n",
       "\n",
       "             Month          Day  \n",
       "count  1517.000000  1517.000000  \n",
       "mean      6.362558    15.253790  \n",
       "std       3.472146     8.965902  \n",
       "min       1.000000     1.000000  \n",
       "25%       3.000000     7.000000  \n",
       "50%       6.000000    15.000000  \n",
       "75%       9.000000    22.000000  \n",
       "max      12.000000    31.000000  "
      ]
     },
     "execution_count": 94,
     "metadata": {},
     "output_type": "execute_result"
    }
   ],
   "source": [
    "avoc.describe()"
   ]
  },
  {
   "cell_type": "markdown",
   "metadata": {},
   "source": [
    "Check Correlation"
   ]
  },
  {
   "cell_type": "code",
   "execution_count": 95,
   "metadata": {},
   "outputs": [
    {
     "data": {
      "text/html": [
       "<div>\n",
       "<style scoped>\n",
       "    .dataframe tbody tr th:only-of-type {\n",
       "        vertical-align: middle;\n",
       "    }\n",
       "\n",
       "    .dataframe tbody tr th {\n",
       "        vertical-align: top;\n",
       "    }\n",
       "\n",
       "    .dataframe thead th {\n",
       "        text-align: right;\n",
       "    }\n",
       "</style>\n",
       "<table border=\"1\" class=\"dataframe\">\n",
       "  <thead>\n",
       "    <tr style=\"text-align: right;\">\n",
       "      <th></th>\n",
       "      <th>AveragePrice</th>\n",
       "      <th>Total Volume</th>\n",
       "      <th>4046</th>\n",
       "      <th>4225</th>\n",
       "      <th>4770</th>\n",
       "      <th>Total Bags</th>\n",
       "      <th>Small Bags</th>\n",
       "      <th>Large Bags</th>\n",
       "      <th>XLarge Bags</th>\n",
       "      <th>year</th>\n",
       "      <th>Month</th>\n",
       "      <th>Day</th>\n",
       "    </tr>\n",
       "  </thead>\n",
       "  <tbody>\n",
       "    <tr>\n",
       "      <td>AveragePrice</td>\n",
       "      <td>1.000000</td>\n",
       "      <td>-0.140470</td>\n",
       "      <td>-0.190096</td>\n",
       "      <td>-0.092084</td>\n",
       "      <td>-0.100567</td>\n",
       "      <td>-0.111597</td>\n",
       "      <td>-0.097682</td>\n",
       "      <td>-0.177480</td>\n",
       "      <td>-0.048284</td>\n",
       "      <td>0.178683</td>\n",
       "      <td>0.060642</td>\n",
       "      <td>0.092589</td>\n",
       "    </tr>\n",
       "    <tr>\n",
       "      <td>Total Volume</td>\n",
       "      <td>-0.140470</td>\n",
       "      <td>1.000000</td>\n",
       "      <td>0.985568</td>\n",
       "      <td>0.987154</td>\n",
       "      <td>0.934347</td>\n",
       "      <td>0.967689</td>\n",
       "      <td>0.960642</td>\n",
       "      <td>0.910226</td>\n",
       "      <td>0.521717</td>\n",
       "      <td>-0.004189</td>\n",
       "      <td>-0.055212</td>\n",
       "      <td>-0.034857</td>\n",
       "    </tr>\n",
       "    <tr>\n",
       "      <td>4046</td>\n",
       "      <td>-0.190096</td>\n",
       "      <td>0.985568</td>\n",
       "      <td>1.000000</td>\n",
       "      <td>0.951952</td>\n",
       "      <td>0.898570</td>\n",
       "      <td>0.930395</td>\n",
       "      <td>0.922278</td>\n",
       "      <td>0.884229</td>\n",
       "      <td>0.474063</td>\n",
       "      <td>-0.040439</td>\n",
       "      <td>-0.053007</td>\n",
       "      <td>-0.031806</td>\n",
       "    </tr>\n",
       "    <tr>\n",
       "      <td>4225</td>\n",
       "      <td>-0.092084</td>\n",
       "      <td>0.987154</td>\n",
       "      <td>0.951952</td>\n",
       "      <td>1.000000</td>\n",
       "      <td>0.927757</td>\n",
       "      <td>0.951779</td>\n",
       "      <td>0.943988</td>\n",
       "      <td>0.900496</td>\n",
       "      <td>0.504718</td>\n",
       "      <td>-0.007254</td>\n",
       "      <td>-0.058429</td>\n",
       "      <td>-0.044008</td>\n",
       "    </tr>\n",
       "    <tr>\n",
       "      <td>4770</td>\n",
       "      <td>-0.100567</td>\n",
       "      <td>0.934347</td>\n",
       "      <td>0.898570</td>\n",
       "      <td>0.927757</td>\n",
       "      <td>1.000000</td>\n",
       "      <td>0.926405</td>\n",
       "      <td>0.923607</td>\n",
       "      <td>0.840523</td>\n",
       "      <td>0.646053</td>\n",
       "      <td>0.029222</td>\n",
       "      <td>-0.055079</td>\n",
       "      <td>-0.021318</td>\n",
       "    </tr>\n",
       "    <tr>\n",
       "      <td>Total Bags</td>\n",
       "      <td>-0.111597</td>\n",
       "      <td>0.967689</td>\n",
       "      <td>0.930395</td>\n",
       "      <td>0.951779</td>\n",
       "      <td>0.926405</td>\n",
       "      <td>1.000000</td>\n",
       "      <td>0.997341</td>\n",
       "      <td>0.911336</td>\n",
       "      <td>0.601856</td>\n",
       "      <td>0.090108</td>\n",
       "      <td>-0.047747</td>\n",
       "      <td>-0.021137</td>\n",
       "    </tr>\n",
       "    <tr>\n",
       "      <td>Small Bags</td>\n",
       "      <td>-0.097682</td>\n",
       "      <td>0.960642</td>\n",
       "      <td>0.922278</td>\n",
       "      <td>0.943988</td>\n",
       "      <td>0.923607</td>\n",
       "      <td>0.997341</td>\n",
       "      <td>1.000000</td>\n",
       "      <td>0.879131</td>\n",
       "      <td>0.611300</td>\n",
       "      <td>0.106382</td>\n",
       "      <td>-0.048978</td>\n",
       "      <td>-0.016462</td>\n",
       "    </tr>\n",
       "    <tr>\n",
       "      <td>Large Bags</td>\n",
       "      <td>-0.177480</td>\n",
       "      <td>0.910226</td>\n",
       "      <td>0.884229</td>\n",
       "      <td>0.900496</td>\n",
       "      <td>0.840523</td>\n",
       "      <td>0.911336</td>\n",
       "      <td>0.879131</td>\n",
       "      <td>1.000000</td>\n",
       "      <td>0.447779</td>\n",
       "      <td>-0.018678</td>\n",
       "      <td>-0.039242</td>\n",
       "      <td>-0.046578</td>\n",
       "    </tr>\n",
       "    <tr>\n",
       "      <td>XLarge Bags</td>\n",
       "      <td>-0.048284</td>\n",
       "      <td>0.521717</td>\n",
       "      <td>0.474063</td>\n",
       "      <td>0.504718</td>\n",
       "      <td>0.646053</td>\n",
       "      <td>0.601856</td>\n",
       "      <td>0.611300</td>\n",
       "      <td>0.447779</td>\n",
       "      <td>1.000000</td>\n",
       "      <td>0.218342</td>\n",
       "      <td>0.021452</td>\n",
       "      <td>0.019315</td>\n",
       "    </tr>\n",
       "    <tr>\n",
       "      <td>year</td>\n",
       "      <td>0.178683</td>\n",
       "      <td>-0.004189</td>\n",
       "      <td>-0.040439</td>\n",
       "      <td>-0.007254</td>\n",
       "      <td>0.029222</td>\n",
       "      <td>0.090108</td>\n",
       "      <td>0.106382</td>\n",
       "      <td>-0.018678</td>\n",
       "      <td>0.218342</td>\n",
       "      <td>1.000000</td>\n",
       "      <td>-0.013144</td>\n",
       "      <td>0.029744</td>\n",
       "    </tr>\n",
       "    <tr>\n",
       "      <td>Month</td>\n",
       "      <td>0.060642</td>\n",
       "      <td>-0.055212</td>\n",
       "      <td>-0.053007</td>\n",
       "      <td>-0.058429</td>\n",
       "      <td>-0.055079</td>\n",
       "      <td>-0.047747</td>\n",
       "      <td>-0.048978</td>\n",
       "      <td>-0.039242</td>\n",
       "      <td>0.021452</td>\n",
       "      <td>-0.013144</td>\n",
       "      <td>1.000000</td>\n",
       "      <td>-0.024337</td>\n",
       "    </tr>\n",
       "    <tr>\n",
       "      <td>Day</td>\n",
       "      <td>0.092589</td>\n",
       "      <td>-0.034857</td>\n",
       "      <td>-0.031806</td>\n",
       "      <td>-0.044008</td>\n",
       "      <td>-0.021318</td>\n",
       "      <td>-0.021137</td>\n",
       "      <td>-0.016462</td>\n",
       "      <td>-0.046578</td>\n",
       "      <td>0.019315</td>\n",
       "      <td>0.029744</td>\n",
       "      <td>-0.024337</td>\n",
       "      <td>1.000000</td>\n",
       "    </tr>\n",
       "  </tbody>\n",
       "</table>\n",
       "</div>"
      ],
      "text/plain": [
       "              AveragePrice  Total Volume      4046      4225      4770  \\\n",
       "AveragePrice      1.000000     -0.140470 -0.190096 -0.092084 -0.100567   \n",
       "Total Volume     -0.140470      1.000000  0.985568  0.987154  0.934347   \n",
       "4046             -0.190096      0.985568  1.000000  0.951952  0.898570   \n",
       "4225             -0.092084      0.987154  0.951952  1.000000  0.927757   \n",
       "4770             -0.100567      0.934347  0.898570  0.927757  1.000000   \n",
       "Total Bags       -0.111597      0.967689  0.930395  0.951779  0.926405   \n",
       "Small Bags       -0.097682      0.960642  0.922278  0.943988  0.923607   \n",
       "Large Bags       -0.177480      0.910226  0.884229  0.900496  0.840523   \n",
       "XLarge Bags      -0.048284      0.521717  0.474063  0.504718  0.646053   \n",
       "year              0.178683     -0.004189 -0.040439 -0.007254  0.029222   \n",
       "Month             0.060642     -0.055212 -0.053007 -0.058429 -0.055079   \n",
       "Day               0.092589     -0.034857 -0.031806 -0.044008 -0.021318   \n",
       "\n",
       "              Total Bags  Small Bags  Large Bags  XLarge Bags      year  \\\n",
       "AveragePrice   -0.111597   -0.097682   -0.177480    -0.048284  0.178683   \n",
       "Total Volume    0.967689    0.960642    0.910226     0.521717 -0.004189   \n",
       "4046            0.930395    0.922278    0.884229     0.474063 -0.040439   \n",
       "4225            0.951779    0.943988    0.900496     0.504718 -0.007254   \n",
       "4770            0.926405    0.923607    0.840523     0.646053  0.029222   \n",
       "Total Bags      1.000000    0.997341    0.911336     0.601856  0.090108   \n",
       "Small Bags      0.997341    1.000000    0.879131     0.611300  0.106382   \n",
       "Large Bags      0.911336    0.879131    1.000000     0.447779 -0.018678   \n",
       "XLarge Bags     0.601856    0.611300    0.447779     1.000000  0.218342   \n",
       "year            0.090108    0.106382   -0.018678     0.218342  1.000000   \n",
       "Month          -0.047747   -0.048978   -0.039242     0.021452 -0.013144   \n",
       "Day            -0.021137   -0.016462   -0.046578     0.019315  0.029744   \n",
       "\n",
       "                 Month       Day  \n",
       "AveragePrice  0.060642  0.092589  \n",
       "Total Volume -0.055212 -0.034857  \n",
       "4046         -0.053007 -0.031806  \n",
       "4225         -0.058429 -0.044008  \n",
       "4770         -0.055079 -0.021318  \n",
       "Total Bags   -0.047747 -0.021137  \n",
       "Small Bags   -0.048978 -0.016462  \n",
       "Large Bags   -0.039242 -0.046578  \n",
       "XLarge Bags   0.021452  0.019315  \n",
       "year         -0.013144  0.029744  \n",
       "Month         1.000000 -0.024337  \n",
       "Day          -0.024337  1.000000  "
      ]
     },
     "execution_count": 95,
     "metadata": {},
     "output_type": "execute_result"
    }
   ],
   "source": [
    "avoc.corr()"
   ]
  },
  {
   "cell_type": "code",
   "execution_count": 96,
   "metadata": {},
   "outputs": [
    {
     "data": {
      "image/png": "[encoded data removed]",
      "text/plain": [
       "<Figure size 720x504 with 2 Axes>"
      ]
     },
     "metadata": {
      "needs_background": "light"
     },
     "output_type": "display_data"
    }
   ],
   "source": [
    "#showing the corelation with a heatmap\n",
    "plt.figure(figsize=(10,7))\n",
    "sns.set #(style='darkgrid')\n",
    "sns.set_context('talk',font_scale=0.8)\n",
    "sns.heatmap(avoc.corr(),annot=True,fmt='.2f',vmax=1,vmin=0,cmap='coolwarm')\n",
    "plt.show()"
   ]
  },
  {
   "cell_type": "markdown",
   "metadata": {},
   "source": [
    "Exploring Data Variables"
   ]
  },
  {
   "cell_type": "code",
   "execution_count": 97,
   "metadata": {},
   "outputs": [
    {
     "data": {
      "text/plain": [
       "Date             104\n",
       "AveragePrice     113\n",
       "Total Volume    1517\n",
       "4046            1517\n",
       "4225            1517\n",
       "4770            1516\n",
       "Total Bags      1517\n",
       "Small Bags      1517\n",
       "Large Bags      1377\n",
       "XLarge Bags      711\n",
       "type               1\n",
       "year               2\n",
       "region            51\n",
       "Month             12\n",
       "Day               31\n",
       "dtype: int64"
      ]
     },
     "execution_count": 97,
     "metadata": {},
     "output_type": "execute_result"
    }
   ],
   "source": [
    "avoc.nunique()"
   ]
  },
  {
   "cell_type": "code",
   "execution_count": 98,
   "metadata": {},
   "outputs": [
    {
     "data": {
      "text/plain": [
       "conventional    1517\n",
       "Name: type, dtype: int64"
      ]
     },
     "execution_count": 98,
     "metadata": {},
     "output_type": "execute_result"
    }
   ],
   "source": [
    "avoc.type.value_counts()"
   ]
  },
  {
   "cell_type": "code",
   "execution_count": 99,
   "metadata": {},
   "outputs": [
    {
     "data": {
      "text/plain": [
       "California             76\n",
       "Albany                 67\n",
       "Boise                  65\n",
       "BaltimoreWashington    65\n",
       "Boston                 62\n",
       "Atlanta                54\n",
       "PhoenixTucson          52\n",
       "BuffaloRochester       51\n",
       "Spokane                49\n",
       "Columbus               47\n",
       "NewYork                44\n",
       "Jacksonville           41\n",
       "Detroit                40\n",
       "SouthCentral           39\n",
       "SanDiego               38\n",
       "West                   36\n",
       "Tampa                  34\n",
       "Louisville             34\n",
       "Charlotte              31\n",
       "Portland               30\n",
       "Houston                29\n",
       "NorthernNewEngland     29\n",
       "WestTexNewMexico       27\n",
       "TotalUS                25\n",
       "Nashville              25\n",
       "SouthCarolina          24\n",
       "Denver                 24\n",
       "GrandRapids            23\n",
       "Chicago                23\n",
       "Pittsburgh             22\n",
       "Orlando                21\n",
       "RichmondNorfolk        21\n",
       "Syracuse               19\n",
       "HarrisburgScranton     19\n",
       "Midsouth               18\n",
       "GreatLakes             18\n",
       "Roanoke                17\n",
       "MiamiFtLauderdale      17\n",
       "DallasFtWorth          17\n",
       "StLouis                16\n",
       "Indianapolis           16\n",
       "RaleighGreensboro      16\n",
       "SanFrancisco           15\n",
       "Philadelphia           13\n",
       "HartfordSpringfield    13\n",
       "Plains                 12\n",
       "Northeast              12\n",
       "LasVegas               10\n",
       "Seattle                 9\n",
       "Southeast               9\n",
       "LosAngeles              3\n",
       "Name: region, dtype: int64"
      ]
     },
     "execution_count": 99,
     "metadata": {},
     "output_type": "execute_result"
    }
   ],
   "source": [
    "avoc.region.value_counts()"
   ]
  },
  {
   "cell_type": "code",
   "execution_count": 100,
   "metadata": {},
   "outputs": [
    {
     "data": {
      "text/plain": [
       "<matplotlib.axes._subplots.AxesSubplot at 0x3f4a47ca48>"
      ]
     },
     "execution_count": 100,
     "metadata": {},
     "output_type": "execute_result"
    },
    {
     "data": {
      "image/png": "[encoded data removed]",
      "text/plain": [
       "<Figure size 432x288 with 1 Axes>"
      ]
     },
     "metadata": {
      "needs_background": "light"
     },
     "output_type": "display_data"
    }
   ],
   "source": [
    "sns.distplot(avoc['AveragePrice'])"
   ]
  },
  {
   "cell_type": "code",
   "execution_count": 101,
   "metadata": {},
   "outputs": [
    {
     "data": {
      "text/plain": [
       "<matplotlib.axes._subplots.AxesSubplot at 0x3f4aa36108>"
      ]
     },
     "execution_count": 101,
     "metadata": {},
     "output_type": "execute_result"
    },
    {
     "data": {
      "image/png": "[encoded data removed]",
      "text/plain": [
       "<Figure size 432x288 with 1 Axes>"
      ]
     },
     "metadata": {
      "needs_background": "light"
     },
     "output_type": "display_data"
    }
   ],
   "source": [
    "sns.barplot(x=\"year\",y=\"Total Bags\",data=avoc)"
   ]
  },
  {
   "cell_type": "code",
   "execution_count": 102,
   "metadata": {},
   "outputs": [
    {
     "data": {
      "text/plain": [
       "<matplotlib.axes._subplots.AxesSubplot at 0x3f4aabb588>"
      ]
     },
     "execution_count": 102,
     "metadata": {},
     "output_type": "execute_result"
    },
    {
     "data": {
      "image/png": "[encoded data removed]",
      "text/plain": [
       "<Figure size 432x288 with 1 Axes>"
      ]
     },
     "metadata": {
      "needs_background": "light"
     },
     "output_type": "display_data"
    }
   ],
   "source": [
    "sns.lineplot(x=\"Month\",y=\"AveragePrice\",data=avoc)"
   ]
  },
  {
   "cell_type": "code",
   "execution_count": 103,
   "metadata": {},
   "outputs": [
    {
     "data": {
      "text/plain": [
       "Text(0.5, 1.0, 'Average Price of Avocado According to Region')"
      ]
     },
     "execution_count": 103,
     "metadata": {},
     "output_type": "execute_result"
    },
    {
     "data": {
      "image/png": "[encoded data removed]",
      "text/plain": [
       "<Figure size 1728x720 with 1 Axes>"
      ]
     },
     "metadata": {
      "needs_background": "light"
     },
     "output_type": "display_data"
    }
   ],
   "source": [
    "reg_list=list(avoc.region.unique())\n",
    "avg_price=[]\n",
    "\n",
    "for i in reg_list:\n",
    "    x=avoc[avoc.region==i]\n",
    "    reg_avg=sum(x.AveragePrice)/len(x)\n",
    "    avg_price.append(reg_avg)\n",
    "\n",
    "avoc1=pd.DataFrame({'reg_list':reg_list,'avg_price':avg_price})\n",
    "new_index=avoc1.avg_price.sort_values(ascending=False).index.values\n",
    "sorted_data=avoc1.reindex(new_index)\n",
    "\n",
    "plt.figure(figsize=(24,10))\n",
    "ax=sns.barplot(x=sorted_data.reg_list,y=sorted_data.avg_price)\n",
    "\n",
    "plt.xticks(rotation=90)\n",
    "plt.xlabel('Region')\n",
    "plt.ylabel('Average Price')\n",
    "plt.title('Average Price of Avocado According to Region')"
   ]
  },
  {
   "cell_type": "code",
   "execution_count": 104,
   "metadata": {},
   "outputs": [
    {
     "data": {
      "text/plain": [
       "Text(0.5, 1.0, 'Average of Total Volume According to Region')"
      ]
     },
     "execution_count": 104,
     "metadata": {},
     "output_type": "execute_result"
    },
    {
     "data": {
      "image/png": "[encoded data removed]",
      "text/plain": [
       "<Figure size 1584x720 with 1 Axes>"
      ]
     },
     "metadata": {
      "needs_background": "light"
     },
     "output_type": "display_data"
    }
   ],
   "source": [
    "fit=avoc.region!='Total_Use'\n",
    "avoc1=avoc[fit]\n",
    "\n",
    "reg_list=list(avoc1.region.unique())\n",
    "avg_total_vol=[]\n",
    "\n",
    "for i in reg_list:\n",
    "    x=avoc1[avoc1.region==i]\n",
    "    avg_total_vol.append(sum(x['Total Volume'])/len(x))\n",
    "avoc3=pd.DataFrame({'reg_list':reg_list,'avg_total_vol':avg_total_vol})\n",
    "\n",
    "new_index=avoc3.avg_total_vol.sort_values(ascending=False).index.values\n",
    "sorted_data1=avoc3.reindex(new_index)\n",
    "\n",
    "plt.figure(figsize=(22,10))\n",
    "ax=sns.barplot(x=sorted_data1.reg_list,y=sorted_data1.avg_total_vol)\n",
    "\n",
    "plt.xticks(rotation=90)\n",
    "plt.xlabel('Region')\n",
    "plt.ylabel('Average of Total Volume')\n",
    "plt.title('Average of Total Volume According to Region')"
   ]
  },
  {
   "cell_type": "code",
   "execution_count": 105,
   "metadata": {},
   "outputs": [],
   "source": [
    "avoc=avoc.drop(['Date'],axis=1)"
   ]
  },
  {
   "cell_type": "markdown",
   "metadata": {},
   "source": [
    "Label Encoding"
   ]
  },
  {
   "cell_type": "code",
   "execution_count": 106,
   "metadata": {},
   "outputs": [],
   "source": [
    "from sklearn.preprocessing import LabelEncoder\n",
    "labelquality = LabelEncoder()"
   ]
  },
  {
   "cell_type": "code",
   "execution_count": 107,
   "metadata": {},
   "outputs": [],
   "source": [
    "avoc['region'] = labelquality.fit_transform(avoc['region'])\n",
    "avoc['type'] = labelquality.fit_transform(avoc['type'])"
   ]
  },
  {
   "cell_type": "code",
   "execution_count": 108,
   "metadata": {},
   "outputs": [
    {
     "data": {
      "text/html": [
       "<div>\n",
       "<style scoped>\n",
       "    .dataframe tbody tr th:only-of-type {\n",
       "        vertical-align: middle;\n",
       "    }\n",
       "\n",
       "    .dataframe tbody tr th {\n",
       "        vertical-align: top;\n",
       "    }\n",
       "\n",
       "    .dataframe thead th {\n",
       "        text-align: right;\n",
       "    }\n",
       "</style>\n",
       "<table border=\"1\" class=\"dataframe\">\n",
       "  <thead>\n",
       "    <tr style=\"text-align: right;\">\n",
       "      <th></th>\n",
       "      <th>AveragePrice</th>\n",
       "      <th>Total Volume</th>\n",
       "      <th>4046</th>\n",
       "      <th>4225</th>\n",
       "      <th>4770</th>\n",
       "      <th>Total Bags</th>\n",
       "      <th>Small Bags</th>\n",
       "      <th>Large Bags</th>\n",
       "      <th>XLarge Bags</th>\n",
       "      <th>type</th>\n",
       "      <th>year</th>\n",
       "      <th>region</th>\n",
       "      <th>Month</th>\n",
       "      <th>Day</th>\n",
       "    </tr>\n",
       "  </thead>\n",
       "  <tbody>\n",
       "    <tr>\n",
       "      <td>0</td>\n",
       "      <td>1.33</td>\n",
       "      <td>64236.62</td>\n",
       "      <td>1036.74</td>\n",
       "      <td>54454.85</td>\n",
       "      <td>48.16</td>\n",
       "      <td>8696.87</td>\n",
       "      <td>8603.62</td>\n",
       "      <td>93.25</td>\n",
       "      <td>0.0</td>\n",
       "      <td>0</td>\n",
       "      <td>2015</td>\n",
       "      <td>0</td>\n",
       "      <td>12</td>\n",
       "      <td>27</td>\n",
       "    </tr>\n",
       "    <tr>\n",
       "      <td>1</td>\n",
       "      <td>1.35</td>\n",
       "      <td>54876.98</td>\n",
       "      <td>674.28</td>\n",
       "      <td>44638.81</td>\n",
       "      <td>58.33</td>\n",
       "      <td>9505.56</td>\n",
       "      <td>9408.07</td>\n",
       "      <td>97.49</td>\n",
       "      <td>0.0</td>\n",
       "      <td>0</td>\n",
       "      <td>2015</td>\n",
       "      <td>0</td>\n",
       "      <td>12</td>\n",
       "      <td>20</td>\n",
       "    </tr>\n",
       "  </tbody>\n",
       "</table>\n",
       "</div>"
      ],
      "text/plain": [
       "   AveragePrice  Total Volume     4046      4225   4770  Total Bags  \\\n",
       "0          1.33      64236.62  1036.74  54454.85  48.16     8696.87   \n",
       "1          1.35      54876.98   674.28  44638.81  58.33     9505.56   \n",
       "\n",
       "   Small Bags  Large Bags  XLarge Bags  type  year  region  Month  Day  \n",
       "0     8603.62       93.25          0.0     0  2015       0     12   27  \n",
       "1     9408.07       97.49          0.0     0  2015       0     12   20  "
      ]
     },
     "execution_count": 108,
     "metadata": {},
     "output_type": "execute_result"
    }
   ],
   "source": [
    "avoc.head(2)"
   ]
  },
  {
   "cell_type": "markdown",
   "metadata": {},
   "source": [
    "Ploting Outliers"
   ]
  },
  {
   "cell_type": "code",
   "execution_count": 109,
   "metadata": {},
   "outputs": [
    {
     "data": {
      "text/plain": [
       "<matplotlib.axes._subplots.AxesSubplot at 0x3f4b9f8508>"
      ]
     },
     "execution_count": 109,
     "metadata": {},
     "output_type": "execute_result"
    },
    {
     "data": {
      "image/png": "[encoded data removed]",
      "text/plain": [
       "<Figure size 1080x360 with 1 Axes>"
      ]
     },
     "metadata": {
      "needs_background": "light"
     },
     "output_type": "display_data"
    }
   ],
   "source": [
    "avoc.plot(kind='box',grid=True,title=\"Boxplot for Avocado Dataset\",legend=True,rot=30,figsize=(15,5))"
   ]
  },
  {
   "cell_type": "code",
   "execution_count": 110,
   "metadata": {},
   "outputs": [
    {
     "data": {
      "text/html": [
       "<div>\n",
       "<style scoped>\n",
       "    .dataframe tbody tr th:only-of-type {\n",
       "        vertical-align: middle;\n",
       "    }\n",
       "\n",
       "    .dataframe tbody tr th {\n",
       "        vertical-align: top;\n",
       "    }\n",
       "\n",
       "    .dataframe thead th {\n",
       "        text-align: right;\n",
       "    }\n",
       "</style>\n",
       "<table border=\"1\" class=\"dataframe\">\n",
       "  <thead>\n",
       "    <tr style=\"text-align: right;\">\n",
       "      <th></th>\n",
       "      <th>AveragePrice</th>\n",
       "      <th>Total Volume</th>\n",
       "      <th>4046</th>\n",
       "      <th>4225</th>\n",
       "      <th>4770</th>\n",
       "      <th>Total Bags</th>\n",
       "      <th>Small Bags</th>\n",
       "      <th>Large Bags</th>\n",
       "      <th>XLarge Bags</th>\n",
       "      <th>type</th>\n",
       "      <th>year</th>\n",
       "      <th>region</th>\n",
       "      <th>Month</th>\n",
       "      <th>Day</th>\n",
       "    </tr>\n",
       "  </thead>\n",
       "  <tbody>\n",
       "    <tr>\n",
       "      <td>0</td>\n",
       "      <td>1.33</td>\n",
       "      <td>64236.62</td>\n",
       "      <td>1036.74</td>\n",
       "      <td>54454.85</td>\n",
       "      <td>48.16</td>\n",
       "      <td>8696.87</td>\n",
       "      <td>8603.62</td>\n",
       "      <td>93.25</td>\n",
       "      <td>0.0</td>\n",
       "      <td>0</td>\n",
       "      <td>2015</td>\n",
       "      <td>0</td>\n",
       "      <td>12</td>\n",
       "      <td>27</td>\n",
       "    </tr>\n",
       "    <tr>\n",
       "      <td>1</td>\n",
       "      <td>1.35</td>\n",
       "      <td>54876.98</td>\n",
       "      <td>674.28</td>\n",
       "      <td>44638.81</td>\n",
       "      <td>58.33</td>\n",
       "      <td>9505.56</td>\n",
       "      <td>9408.07</td>\n",
       "      <td>97.49</td>\n",
       "      <td>0.0</td>\n",
       "      <td>0</td>\n",
       "      <td>2015</td>\n",
       "      <td>0</td>\n",
       "      <td>12</td>\n",
       "      <td>20</td>\n",
       "    </tr>\n",
       "  </tbody>\n",
       "</table>\n",
       "</div>"
      ],
      "text/plain": [
       "   AveragePrice  Total Volume     4046      4225   4770  Total Bags  \\\n",
       "0          1.33      64236.62  1036.74  54454.85  48.16     8696.87   \n",
       "1          1.35      54876.98   674.28  44638.81  58.33     9505.56   \n",
       "\n",
       "   Small Bags  Large Bags  XLarge Bags  type  year  region  Month  Day  \n",
       "0     8603.62       93.25          0.0     0  2015       0     12   27  \n",
       "1     9408.07       97.49          0.0     0  2015       0     12   20  "
      ]
     },
     "execution_count": 110,
     "metadata": {},
     "output_type": "execute_result"
    }
   ],
   "source": [
    "avoc.head(2)"
   ]
  },
  {
   "cell_type": "code",
   "execution_count": null,
   "metadata": {},
   "outputs": [],
   "source": []
  },
  {
   "cell_type": "code",
   "execution_count": 78,
   "metadata": {},
   "outputs": [],
   "source": [
    "#check for Outlier\n",
    "#from scipy.stats import zscore\n",
    "#z_score=abs(zscore(avoc))\n",
    "#avoc=avoc.loc[(z_score < 3).all(axis=1)]"
   ]
  },
  {
   "cell_type": "code",
   "execution_count": 112,
   "metadata": {},
   "outputs": [
    {
     "data": {
      "text/plain": [
       "AveragePrice   -0.109444\n",
       "Total Volume    6.200138\n",
       "4046            6.051830\n",
       "4225            6.394926\n",
       "4770            5.405164\n",
       "Total Bags      5.366378\n",
       "Small Bags      5.355185\n",
       "Large Bags      5.144495\n",
       "XLarge Bags     5.775077\n",
       "type            0.000000\n",
       "year            1.828332\n",
       "region          0.288146\n",
       "Month           0.101439\n",
       "Day             0.041303\n",
       "dtype: float64"
      ]
     },
     "execution_count": 112,
     "metadata": {},
     "output_type": "execute_result"
    }
   ],
   "source": [
    "avoc.skew()"
   ]
  },
  {
   "cell_type": "code",
   "execution_count": 113,
   "metadata": {},
   "outputs": [],
   "source": [
    "#for skewness\n",
    "for col in avoc.columns:\n",
    "    if avoc.skew().loc[col] > 0.55:\n",
    "        avoc[col]=np.log1p(avoc[col])"
   ]
  },
  {
   "cell_type": "code",
   "execution_count": 115,
   "metadata": {},
   "outputs": [
    {
     "data": {
      "text/plain": [
       "AveragePrice   -0.109444\n",
       "Total Volume    0.667468\n",
       "4046           -0.160268\n",
       "4225            0.184436\n",
       "4770           -0.355508\n",
       "Total Bags      0.695502\n",
       "Small Bags      0.713843\n",
       "Large Bags     -0.912766\n",
       "XLarge Bags     0.783913\n",
       "type            0.000000\n",
       "year            1.828332\n",
       "region          0.288146\n",
       "Month           0.101439\n",
       "Day             0.041303\n",
       "dtype: float64"
      ]
     },
     "execution_count": 115,
     "metadata": {},
     "output_type": "execute_result"
    }
   ],
   "source": [
    "avoc.skew()"
   ]
  },
  {
   "cell_type": "markdown",
   "metadata": {},
   "source": []
  },
  {
   "cell_type": "code",
   "execution_count": 116,
   "metadata": {},
   "outputs": [
    {
     "data": {
      "text/html": [
       "<div>\n",
       "<style scoped>\n",
       "    .dataframe tbody tr th:only-of-type {\n",
       "        vertical-align: middle;\n",
       "    }\n",
       "\n",
       "    .dataframe tbody tr th {\n",
       "        vertical-align: top;\n",
       "    }\n",
       "\n",
       "    .dataframe thead th {\n",
       "        text-align: right;\n",
       "    }\n",
       "</style>\n",
       "<table border=\"1\" class=\"dataframe\">\n",
       "  <thead>\n",
       "    <tr style=\"text-align: right;\">\n",
       "      <th></th>\n",
       "      <th>AveragePrice</th>\n",
       "      <th>Total Volume</th>\n",
       "      <th>4046</th>\n",
       "      <th>4225</th>\n",
       "      <th>4770</th>\n",
       "      <th>Total Bags</th>\n",
       "      <th>Small Bags</th>\n",
       "      <th>Large Bags</th>\n",
       "      <th>XLarge Bags</th>\n",
       "      <th>type</th>\n",
       "      <th>year</th>\n",
       "      <th>region</th>\n",
       "      <th>Month</th>\n",
       "      <th>Day</th>\n",
       "    </tr>\n",
       "  </thead>\n",
       "  <tbody>\n",
       "    <tr>\n",
       "      <td>0</td>\n",
       "      <td>1.33</td>\n",
       "      <td>11.070344</td>\n",
       "      <td>6.944801</td>\n",
       "      <td>10.905146</td>\n",
       "      <td>3.895080</td>\n",
       "      <td>9.070833</td>\n",
       "      <td>9.060055</td>\n",
       "      <td>4.545951</td>\n",
       "      <td>0.0</td>\n",
       "      <td>0</td>\n",
       "      <td>7.608871</td>\n",
       "      <td>0</td>\n",
       "      <td>12</td>\n",
       "      <td>27</td>\n",
       "    </tr>\n",
       "    <tr>\n",
       "      <td>1</td>\n",
       "      <td>1.35</td>\n",
       "      <td>10.912867</td>\n",
       "      <td>6.515127</td>\n",
       "      <td>10.706381</td>\n",
       "      <td>4.083115</td>\n",
       "      <td>9.159737</td>\n",
       "      <td>9.149429</td>\n",
       "      <td>4.589955</td>\n",
       "      <td>0.0</td>\n",
       "      <td>0</td>\n",
       "      <td>7.608871</td>\n",
       "      <td>0</td>\n",
       "      <td>12</td>\n",
       "      <td>20</td>\n",
       "    </tr>\n",
       "  </tbody>\n",
       "</table>\n",
       "</div>"
      ],
      "text/plain": [
       "   AveragePrice  Total Volume      4046       4225      4770  Total Bags  \\\n",
       "0          1.33     11.070344  6.944801  10.905146  3.895080    9.070833   \n",
       "1          1.35     10.912867  6.515127  10.706381  4.083115    9.159737   \n",
       "\n",
       "   Small Bags  Large Bags  XLarge Bags  type      year  region  Month  Day  \n",
       "0    9.060055    4.545951          0.0     0  7.608871       0     12   27  \n",
       "1    9.149429    4.589955          0.0     0  7.608871       0     12   20  "
      ]
     },
     "execution_count": 116,
     "metadata": {},
     "output_type": "execute_result"
    }
   ],
   "source": [
    "avoc.head(2)"
   ]
  },
  {
   "cell_type": "markdown",
   "metadata": {},
   "source": [
    "Classification for Region"
   ]
  },
  {
   "cell_type": "code",
   "execution_count": 117,
   "metadata": {},
   "outputs": [],
   "source": [
    "#Features and Target Value\n",
    "x=avoc.drop(['region','year','Month','Day'],axis=1)\n",
    "y=avoc['region']"
   ]
  },
  {
   "cell_type": "code",
   "execution_count": 118,
   "metadata": {},
   "outputs": [
    {
     "data": {
      "text/html": [
       "<div>\n",
       "<style scoped>\n",
       "    .dataframe tbody tr th:only-of-type {\n",
       "        vertical-align: middle;\n",
       "    }\n",
       "\n",
       "    .dataframe tbody tr th {\n",
       "        vertical-align: top;\n",
       "    }\n",
       "\n",
       "    .dataframe thead th {\n",
       "        text-align: right;\n",
       "    }\n",
       "</style>\n",
       "<table border=\"1\" class=\"dataframe\">\n",
       "  <thead>\n",
       "    <tr style=\"text-align: right;\">\n",
       "      <th></th>\n",
       "      <th>AveragePrice</th>\n",
       "      <th>Total Volume</th>\n",
       "      <th>4046</th>\n",
       "      <th>4225</th>\n",
       "      <th>4770</th>\n",
       "      <th>Total Bags</th>\n",
       "      <th>Small Bags</th>\n",
       "      <th>Large Bags</th>\n",
       "      <th>XLarge Bags</th>\n",
       "      <th>type</th>\n",
       "    </tr>\n",
       "  </thead>\n",
       "  <tbody>\n",
       "    <tr>\n",
       "      <td>0</td>\n",
       "      <td>1.33</td>\n",
       "      <td>11.070344</td>\n",
       "      <td>6.944801</td>\n",
       "      <td>10.905146</td>\n",
       "      <td>3.895080</td>\n",
       "      <td>9.070833</td>\n",
       "      <td>9.060055</td>\n",
       "      <td>4.545951</td>\n",
       "      <td>0.0</td>\n",
       "      <td>0</td>\n",
       "    </tr>\n",
       "    <tr>\n",
       "      <td>1</td>\n",
       "      <td>1.35</td>\n",
       "      <td>10.912867</td>\n",
       "      <td>6.515127</td>\n",
       "      <td>10.706381</td>\n",
       "      <td>4.083115</td>\n",
       "      <td>9.159737</td>\n",
       "      <td>9.149429</td>\n",
       "      <td>4.589955</td>\n",
       "      <td>0.0</td>\n",
       "      <td>0</td>\n",
       "    </tr>\n",
       "  </tbody>\n",
       "</table>\n",
       "</div>"
      ],
      "text/plain": [
       "   AveragePrice  Total Volume      4046       4225      4770  Total Bags  \\\n",
       "0          1.33     11.070344  6.944801  10.905146  3.895080    9.070833   \n",
       "1          1.35     10.912867  6.515127  10.706381  4.083115    9.159737   \n",
       "\n",
       "   Small Bags  Large Bags  XLarge Bags  type  \n",
       "0    9.060055    4.545951          0.0     0  \n",
       "1    9.149429    4.589955          0.0     0  "
      ]
     },
     "execution_count": 118,
     "metadata": {},
     "output_type": "execute_result"
    }
   ],
   "source": [
    "x.head(2)"
   ]
  },
  {
   "cell_type": "code",
   "execution_count": 119,
   "metadata": {},
   "outputs": [
    {
     "data": {
      "text/plain": [
       "0    0\n",
       "1    0\n",
       "Name: region, dtype: int32"
      ]
     },
     "execution_count": 119,
     "metadata": {},
     "output_type": "execute_result"
    }
   ],
   "source": [
    "y.head(2)"
   ]
  },
  {
   "cell_type": "code",
   "execution_count": 120,
   "metadata": {},
   "outputs": [],
   "source": [
    "#Standardisation\n",
    "from sklearn.preprocessing import StandardScaler\n",
    "sc=StandardScaler()"
   ]
  },
  {
   "cell_type": "code",
   "execution_count": 121,
   "metadata": {},
   "outputs": [
    {
     "data": {
      "text/plain": [
       "array([[ 1.35048079, -1.35676174, -1.82816171, ..., -0.96674301,\n",
       "        -0.81077519,  0.        ],\n",
       "       [ 1.45639674, -1.46638736, -2.01206913, ..., -0.95386092,\n",
       "        -0.81077519,  0.        ],\n",
       "       [-0.76783831, -0.9321394 , -1.94183376, ..., -0.93753117,\n",
       "        -0.81077519,  0.        ],\n",
       "       ...,\n",
       "       [ 2.14485045, -0.64565294, -0.20190426, ...,  0.34275114,\n",
       "         1.10389091,  0.        ],\n",
       "       [ 2.09189247, -0.60503087, -0.13577946, ...,  0.34346272,\n",
       "        -0.81077519,  0.        ],\n",
       "       [ 1.88006056, -0.62805557, -0.23299293, ...,  0.44343485,\n",
       "        -0.81077519,  0.        ]])"
      ]
     },
     "execution_count": 121,
     "metadata": {},
     "output_type": "execute_result"
    }
   ],
   "source": [
    "x=sc.fit_transform(x)\n",
    "x"
   ]
  },
  {
   "cell_type": "code",
   "execution_count": 122,
   "metadata": {},
   "outputs": [],
   "source": [
    "#Spilt Train and Test\n",
    "from sklearn.model_selection import train_test_split, cross_val_score, cross_val_predict,GridSearchCV\n",
    "from sklearn.metrics import confusion_matrix,accuracy_score,classification_report,f1_score\n",
    "from sklearn.preprocessing import StandardScaler \n",
    "\n",
    "from sklearn.linear_model import LogisticRegression\n",
    "from sklearn.naive_bayes import GaussianNB\n",
    "from sklearn.neighbors import KNeighborsClassifier\n",
    "from sklearn.svm import SVC\n",
    "from sklearn.tree import DecisionTreeClassifier\n",
    "from sklearn.ensemble import GradientBoostingClassifier\n",
    "from sklearn.metrics import roc_curve,roc_auc_score,auc"
   ]
  },
  {
   "cell_type": "code",
   "execution_count": 144,
   "metadata": {},
   "outputs": [],
   "source": [
    "#create best random_state\n",
    "def rst(mod,x,y):\n",
    "    max_r=0\n",
    "    for rn_state in range (25,150):\n",
    "        x_train,x_test,y_train,y_test=train_test_split(x,y,test_size=0.3,random_state=rn_state)\n",
    "        mod.fit(x_train,y_train)\n",
    "        pred=mod.predict(x_test)\n",
    "        acs=accuracy_score(pred,y_test)\n",
    "        cnf=confusion_matrix(y_test,pred)\n",
    "        clr=classification_report(y_test,pred)\n",
    "        \n",
    "        if acs > max_r:\n",
    "            max_r=acs\n",
    "            random_state=rn_state\n",
    "    print(\"random_state for mod\",\" is \",random_state,\"which gives accuracy score of: \",max_r)\n",
    "    print('confusion matrix: ',cnf)\n",
    "    print('classification report: ',clr)\n",
    "    print()\n",
    "    print('prediction: ',pred)\n",
    "    return random_state"
   ]
  },
  {
   "cell_type": "code",
   "execution_count": 138,
   "metadata": {},
   "outputs": [],
   "source": [
    "#KNN"
   ]
  },
  {
   "cell_type": "code",
   "execution_count": 132,
   "metadata": {},
   "outputs": [
    {
     "data": {
      "text/plain": [
       "{'leaf_size': 20, 'n_neighbors': 1}"
      ]
     },
     "execution_count": 132,
     "metadata": {},
     "output_type": "execute_result"
    }
   ],
   "source": [
    "kn=KNeighborsClassifier()\n",
    "kn_param={'n_neighbors':range(1,10),'leaf_size':range(20,70)}\n",
    "kn_g=GridSearchCV(kn,kn_param,cv=15)\n",
    "kn_g.fit(x,y)\n",
    "kn_g.best_params_"
   ]
  },
  {
   "cell_type": "code",
   "execution_count": 145,
   "metadata": {},
   "outputs": [
    {
     "name": "stdout",
     "output_type": "stream",
     "text": [
      "random_state for mod  is  68 which gives accuracy score of:  0.9758771929824561\n",
      "confusion matrix:  [[22  0  0 ...  0  0  0]\n",
      " [ 0 12  0 ...  0  0  0]\n",
      " [ 0  0 25 ...  0  0  0]\n",
      " ...\n",
      " [ 0  0  0 ...  3  0  0]\n",
      " [ 0  0  0 ...  0 12  0]\n",
      " [ 0  0  0 ...  0  0  4]]\n",
      "classification report:                precision    recall  f1-score   support\n",
      "\n",
      "           0       0.96      0.96      0.96        23\n",
      "           1       0.92      0.86      0.89        14\n",
      "           2       0.96      1.00      0.98        25\n",
      "           3       0.96      1.00      0.98        24\n",
      "           4       1.00      0.95      0.98        22\n",
      "           5       1.00      0.92      0.96        12\n",
      "           6       1.00      1.00      1.00        21\n",
      "           7       1.00      0.89      0.94         9\n",
      "           8       0.78      1.00      0.88         7\n",
      "           9       0.94      1.00      0.97        17\n",
      "          10       1.00      1.00      1.00         4\n",
      "          11       1.00      1.00      1.00         9\n",
      "          12       1.00      1.00      1.00        10\n",
      "          13       1.00      1.00      1.00         5\n",
      "          14       1.00      0.75      0.86         4\n",
      "          15       1.00      1.00      1.00         5\n",
      "          16       1.00      1.00      1.00         2\n",
      "          17       0.92      0.85      0.88        13\n",
      "          18       1.00      0.80      0.89         5\n",
      "          19       1.00      0.89      0.94         9\n",
      "          20       1.00      1.00      1.00         2\n",
      "          21       1.00      1.00      1.00         1\n",
      "          22       1.00      1.00      1.00         8\n",
      "          23       1.00      1.00      1.00         6\n",
      "          24       0.75      1.00      0.86         3\n",
      "          25       1.00      0.90      0.95        10\n",
      "          26       1.00      1.00      1.00        15\n",
      "          27       1.00      1.00      1.00         3\n",
      "          28       0.88      1.00      0.93         7\n",
      "          29       0.75      1.00      0.86         3\n",
      "          30       1.00      1.00      1.00         4\n",
      "          31       0.80      0.92      0.86        13\n",
      "          32       0.91      1.00      0.95        10\n",
      "          33       1.00      1.00      1.00         5\n",
      "          34       1.00      0.89      0.94         9\n",
      "          35       0.83      1.00      0.91         5\n",
      "          36       1.00      1.00      1.00         9\n",
      "          37       1.00      1.00      1.00         4\n",
      "          38       1.00      0.93      0.96        14\n",
      "          39       1.00      0.50      0.67         6\n",
      "          40       0.50      1.00      0.67         1\n",
      "          41       1.00      1.00      1.00         9\n",
      "          42       1.00      0.92      0.96        12\n",
      "          43       1.00      1.00      1.00         1\n",
      "          44       1.00      0.94      0.97        16\n",
      "          45       1.00      1.00      1.00         5\n",
      "          46       0.83      1.00      0.91         5\n",
      "          47       1.00      1.00      1.00        11\n",
      "          48       1.00      1.00      1.00         3\n",
      "          49       0.92      1.00      0.96        12\n",
      "          50       0.80      1.00      0.89         4\n",
      "\n",
      "    accuracy                           0.96       456\n",
      "   macro avg       0.95      0.96      0.95       456\n",
      "weighted avg       0.96      0.96      0.96       456\n",
      "\n",
      "\n",
      "prediction:  [ 0  2 39  1  4  4 19  2 19  1  2  1  8 38 13  9 49  3  1  6  6 37 19 45\n",
      "  3  8 26 50 45  2  6 44 32 22 42 31 31  4 46 15 44  3 38  6 18 26 38  0\n",
      " 49 32 44 19  4  6 49  6 41  5 47 25 44  0 18  3 46 37 38 22 38 20 12 17\n",
      "  2 47 12  9 16 11 36  7  4 28 38  6  2 49 10 25 19 38  3  2  5  2 44  2\n",
      "  9  9 47 22  0 31  8 31  6  0 16 44 28 41 26 28 15 22 32 26 32  9  6 15\n",
      "  3 42 48 32  5 41  3 49 29 26 12  5 31 33 30  4 11 45  0 37  2 42 39 26\n",
      " 47 31 44  0  0 32 29  2  5 47  3 36  0  4  9 34 50 17 23  4 37  0 36 26\n",
      " 38 42  8 25  3 49 33  2 35  4  3 26  0  9 34 31 46 34 41 17 41  5 44 44\n",
      " 15  3 24 31  2  3 50  4 25 38  8 12  6 11  6  2 38 19 49 29  2 18 42  0\n",
      " 28 32 50  1 30  0  2  4 45  8 25 44 49 34  9 26 38 38  0 32 36  4  0  3\n",
      " 28  0 34 19  3  9 22  7 42 40 28 10 40 26  2  3  7  7 17 31 46  1  3  0\n",
      " 31  9  2 38  0 48 49  6 39  9  6  3  3 27 13 12 23 35  3  7  9 31 34 44\n",
      "  2 33  8 13 25 11 42 11 34 26 30 17 17  5 47 28  6 35 35  3 49 47 20  5\n",
      " 24 41 31 49  2  9 49 26  6  5 45 11 44 32 46 42 27  0 32 25  8 48  0  3\n",
      "  3  4 43  9 34 47 35  9  2 27  2 49 21 12 22 12  6 31  4  6 35 22  1 23\n",
      " 12  4 24 41 26  0  6 26  1  4  4 42 47 11 23  3 10 36 13 22 36 14  6 19\n",
      " 31  9 26 12  4 41 17 47 25  6 23  1 41  1 30  3 33  5 33 24 12 28 23 36\n",
      "  0 11 17  7 13  1 47  0  2  9 44  8 44  7  3 17 15 46  2 17 10  7  1 29\n",
      " 25 17 42  4 31 36 32 14 42  2  1  9 44  4 36  5 17 11  2 18 50  6 14  4]\n"
     ]
    }
   ],
   "source": [
    "kn=KNeighborsClassifier(n_neighbors=1)\n",
    "knn=rst(kn,x,y)"
   ]
  },
  {
   "cell_type": "code",
   "execution_count": 146,
   "metadata": {},
   "outputs": [
    {
     "data": {
      "text/plain": [
       "0.9469415174566725"
      ]
     },
     "execution_count": 146,
     "metadata": {},
     "output_type": "execute_result"
    }
   ],
   "source": [
    "#Cross Validation\n",
    "accuracy_score_1=cross_val_score(kn,x,y,scoring='accuracy',cv=10).mean()\n",
    "accuracy_score_1"
   ]
  },
  {
   "cell_type": "code",
   "execution_count": 147,
   "metadata": {},
   "outputs": [],
   "source": [
    "#Decision Tree"
   ]
  },
  {
   "cell_type": "code",
   "execution_count": 148,
   "metadata": {},
   "outputs": [
    {
     "data": {
      "text/plain": [
       "{'criterion': 'entropy', 'max_depth': 9}"
      ]
     },
     "execution_count": 148,
     "metadata": {},
     "output_type": "execute_result"
    }
   ],
   "source": [
    "from sklearn.tree import DecisionTreeClassifier\n",
    "dt=DecisionTreeClassifier()\n",
    "dt_param={'criterion':['gini','entropy'],'max_depth':range(3,10)}\n",
    "dt_g=GridSearchCV(dt,dt_param,cv=15)\n",
    "dt_g.fit(x,y)\n",
    "dt_g.best_params_"
   ]
  },
  {
   "cell_type": "code",
   "execution_count": 149,
   "metadata": {},
   "outputs": [
    {
     "name": "stdout",
     "output_type": "stream",
     "text": [
      "random_state for mod  is  136 which gives accuracy score of:  0.918859649122807\n",
      "confusion matrix:  [[22  0  0 ...  0  0  0]\n",
      " [ 0 11  0 ...  0  0  0]\n",
      " [ 0  0 24 ...  0  0  0]\n",
      " ...\n",
      " [ 0  0  0 ...  3  0  0]\n",
      " [ 0  0  0 ...  0  9  0]\n",
      " [ 0  0  0 ...  0  0  4]]\n",
      "classification report:                precision    recall  f1-score   support\n",
      "\n",
      "           0       0.92      0.96      0.94        23\n",
      "           1       1.00      0.79      0.88        14\n",
      "           2       0.92      0.96      0.94        25\n",
      "           3       1.00      0.96      0.98        24\n",
      "           4       0.92      1.00      0.96        22\n",
      "           5       0.90      0.75      0.82        12\n",
      "           6       0.91      1.00      0.95        21\n",
      "           7       0.89      0.89      0.89         9\n",
      "           8       1.00      0.71      0.83         7\n",
      "           9       0.89      1.00      0.94        17\n",
      "          10       0.50      0.75      0.60         4\n",
      "          11       0.90      1.00      0.95         9\n",
      "          12       1.00      0.90      0.95        10\n",
      "          13       0.83      1.00      0.91         5\n",
      "          14       1.00      0.75      0.86         4\n",
      "          15       0.83      1.00      0.91         5\n",
      "          16       0.50      1.00      0.67         2\n",
      "          17       0.92      0.92      0.92        13\n",
      "          18       1.00      1.00      1.00         5\n",
      "          19       1.00      0.78      0.88         9\n",
      "          20       1.00      1.00      1.00         2\n",
      "          21       1.00      1.00      1.00         1\n",
      "          22       0.89      1.00      0.94         8\n",
      "          23       0.56      0.83      0.67         6\n",
      "          24       0.75      1.00      0.86         3\n",
      "          25       1.00      1.00      1.00        10\n",
      "          26       1.00      0.87      0.93        15\n",
      "          27       1.00      1.00      1.00         3\n",
      "          28       1.00      0.71      0.83         7\n",
      "          29       0.00      0.00      0.00         3\n",
      "          30       1.00      0.75      0.86         4\n",
      "          31       0.92      0.85      0.88        13\n",
      "          32       1.00      0.90      0.95        10\n",
      "          33       1.00      1.00      1.00         5\n",
      "          34       1.00      0.78      0.88         9\n",
      "          35       0.83      1.00      0.91         5\n",
      "          36       0.88      0.78      0.82         9\n",
      "          37       1.00      1.00      1.00         4\n",
      "          38       0.93      0.93      0.93        14\n",
      "          39       0.86      1.00      0.92         6\n",
      "          40       1.00      1.00      1.00         1\n",
      "          41       0.80      0.89      0.84         9\n",
      "          42       0.85      0.92      0.88        12\n",
      "          43       1.00      1.00      1.00         1\n",
      "          44       0.94      0.94      0.94        16\n",
      "          45       1.00      1.00      1.00         5\n",
      "          46       0.80      0.80      0.80         5\n",
      "          47       0.88      0.64      0.74        11\n",
      "          48       1.00      1.00      1.00         3\n",
      "          49       1.00      0.75      0.86        12\n",
      "          50       0.80      1.00      0.89         4\n",
      "\n",
      "    accuracy                           0.90       456\n",
      "   macro avg       0.89      0.89      0.88       456\n",
      "weighted avg       0.92      0.90      0.90       456\n",
      "\n",
      "\n",
      "prediction:  [ 0  2 39  1  4  4 19  2 19  1  2  1  8 38 13  9 49  3  1  6  6 37 19 45\n",
      "  3  8 26 50 45  2  6 44 32 22 42 31 11  4 46 15 44  3 38  6 18  4 38  0\n",
      " 49 32 44 19  4  6  6  6 41  5 47 25 44  0 18  3  0 37 38 22 38 20 12 17\n",
      "  2 47 12  9 16 11 36  7  4 28 38  6  2 49 10 25 19 38  3  2  5 39 44  2\n",
      " 25  9 47 22  0 31  8 31  6 46 16 36 28 41 26 28 15 22 32 26 32  9  6 15\n",
      "  3 42 48 32  5  9  3 49  1 26 12  5 31 33 30  4 11 45  0 37  2 42 39 26\n",
      " 29 10 44  0  0 32 23  2  5 23  3 36  0  4  9 38 50 17 47  4 37  0 36 26\n",
      " 38 42  2 25  3 42 33  2 35  4  3 26  0  9 34 31 46 34 41 17 41 13 44 44\n",
      " 15  3 24 31  2  3 50  4 25 38 39  7  6 11  6  2 38 19 49 23  2 18 42  0\n",
      "  4 18 50  1 30  0  2  4 45  2 25 44  6 34  9 26 38 38  0 32 36  4  0  3\n",
      " 28  0 34 19  3  9 22  7 42 34 16 10 40 26  2  3  7  7 17 10 46  1  3  0\n",
      " 17  9  2 38  0 48 49  6 39  9  6  3  3 27 13 12 23 35 44  7  9 31 34 44\n",
      "  2 33  8 13 25 11 42 11 10 26 30 17 31  5 29 16  6 35 35  3 42 47 20  5\n",
      " 24 41 31 49  2  9 49  4  6  5 45 11 44 32 46 42 27  0 32 25  8 48  0  3\n",
      " 44  4 43  9 34 47 35  9  2 27  2 49 21 12 22 12  6 31  4  6 35 22 41 23\n",
      " 12  4 24 41 26  0  6 26  1  4  4 42 47 11 23  3 17 36 13 22 36 14  6 29\n",
      " 31  9 26 12  4 41 17 47 25  6 23  1 41  1 15  3 33  5 33 24 12 28 23 36\n",
      "  0 11 17  7 13 29 29  0  2  9 44 39 44  7  3 17 15  5  2 17 10  7  1 23\n",
      " 25 17 42  4 31  9 22 14 42 39 29  9 44  4 41  0 17 11  2 18 50  6 14  4]\n"
     ]
    }
   ],
   "source": [
    "dt=DecisionTreeClassifier(criterion='entropy',max_depth=9)\n",
    "dtc=rst(dt,x,y)"
   ]
  },
  {
   "cell_type": "code",
   "execution_count": 150,
   "metadata": {},
   "outputs": [
    {
     "data": {
      "text/plain": [
       "0.8534014296420173"
      ]
     },
     "execution_count": 150,
     "metadata": {},
     "output_type": "execute_result"
    }
   ],
   "source": [
    "#Cross Validation\n",
    "accuracy_score_3=cross_val_score(dt,x,y,scoring='accuracy',cv=10).mean()\n",
    "accuracy_score_3"
   ]
  },
  {
   "cell_type": "code",
   "execution_count": 151,
   "metadata": {},
   "outputs": [],
   "source": [
    "#GaussianNB"
   ]
  },
  {
   "cell_type": "code",
   "execution_count": 152,
   "metadata": {},
   "outputs": [
    {
     "name": "stdout",
     "output_type": "stream",
     "text": [
      "random_state for mod  is  60 which gives accuracy score of:  0.9342105263157895\n",
      "confusion matrix:  [[23  0  0 ...  0  0  0]\n",
      " [ 0 12  0 ...  0  0  0]\n",
      " [ 0  0 25 ...  0  0  0]\n",
      " ...\n",
      " [ 0  0  0 ...  3  0  0]\n",
      " [ 0  0  0 ...  0 10  0]\n",
      " [ 0  0  0 ...  0  0  4]]\n",
      "classification report:                precision    recall  f1-score   support\n",
      "\n",
      "           0       0.92      1.00      0.96        23\n",
      "           1       0.75      0.86      0.80        14\n",
      "           2       1.00      1.00      1.00        25\n",
      "           3       0.96      0.96      0.96        24\n",
      "           4       1.00      0.82      0.90        22\n",
      "           5       1.00      0.92      0.96        12\n",
      "           6       0.84      1.00      0.91        21\n",
      "           7       1.00      0.56      0.71         9\n",
      "           8       1.00      1.00      1.00         7\n",
      "           9       1.00      1.00      1.00        17\n",
      "          10       0.75      0.75      0.75         4\n",
      "          11       1.00      1.00      1.00         9\n",
      "          12       1.00      1.00      1.00        10\n",
      "          13       1.00      1.00      1.00         5\n",
      "          14       1.00      1.00      1.00         4\n",
      "          15       1.00      1.00      1.00         5\n",
      "          16       0.67      1.00      0.80         2\n",
      "          17       0.80      0.92      0.86        13\n",
      "          18       1.00      1.00      1.00         5\n",
      "          19       1.00      0.78      0.88         9\n",
      "          20       1.00      1.00      1.00         2\n",
      "          21       0.00      0.00      0.00         1\n",
      "          22       0.89      1.00      0.94         8\n",
      "          23       0.71      0.83      0.77         6\n",
      "          24       1.00      1.00      1.00         3\n",
      "          25       1.00      1.00      1.00        10\n",
      "          26       0.94      1.00      0.97        15\n",
      "          27       1.00      0.33      0.50         3\n",
      "          28       0.60      0.86      0.71         7\n",
      "          29       0.11      0.33      0.17         3\n",
      "          30       1.00      1.00      1.00         4\n",
      "          31       0.90      0.69      0.78        13\n",
      "          32       1.00      0.90      0.95        10\n",
      "          33       1.00      1.00      1.00         5\n",
      "          34       0.90      1.00      0.95         9\n",
      "          35       0.56      1.00      0.71         5\n",
      "          36       1.00      1.00      1.00         9\n",
      "          37       1.00      1.00      1.00         4\n",
      "          38       1.00      0.86      0.92        14\n",
      "          39       1.00      1.00      1.00         6\n",
      "          40       1.00      1.00      1.00         1\n",
      "          41       1.00      0.89      0.94         9\n",
      "          42       1.00      1.00      1.00        12\n",
      "          43       1.00      1.00      1.00         1\n",
      "          44       0.94      0.94      0.94        16\n",
      "          45       1.00      1.00      1.00         5\n",
      "          46       1.00      0.80      0.89         5\n",
      "          47       1.00      0.45      0.62        11\n",
      "          48       1.00      1.00      1.00         3\n",
      "          49       1.00      0.83      0.91        12\n",
      "          50       0.67      1.00      0.80         4\n",
      "\n",
      "    accuracy                           0.91       456\n",
      "   macro avg       0.90      0.89      0.88       456\n",
      "weighted avg       0.93      0.91      0.91       456\n",
      "\n",
      "\n",
      "prediction:  [ 0  2 39 29  4  4 19  2 29  1  2  1  8 38 13  9 49  3  1  6  6 37 19 45\n",
      "  3  8 26 50 45  2  6 44 32 22 42 31 50 28 46 15 44  3 38  6 18 26 38  0\n",
      " 49 32 44 19  4  6 42  6 41  5 47 25 44  0 18  3  0 37 38 22 38 20 12 17\n",
      "  2  1 12  9 16 11 36 35  4 28 38  6  2  6 10 25 19 38  3  2  5 39 44  2\n",
      " 25  9 47 22  0 17  8 31  6  0 16 44 28 41 26 28 15 22 32 26 32  9  6 15\n",
      "  3 42 48 32  5 41  3 49  1 26 12  5 31 33 30  4 11 45  0 37  2 42 39 26\n",
      " 29 31 44  0  0 32 23  2  5 23  3 36  0  4  9 34 50 17 23  4 37  0 36 26\n",
      " 38 42  8 25  3 49 33  2 35 28  3 26  0  9 34 31 46 34  1 17 41  5 44 44\n",
      " 15  3 24 31  2  3 50  4 25 34 39 12  6 11  6  2 38 19 49 29  2 18 42  0\n",
      " 28 18 50  1 30  0  2  4 45  8 25 44 49 34  9 26 38 38  0 32 36  4  0  3\n",
      " 28  0 34 19  3  9 22  7 42 34 28 10 40 26  2 44  7  7 17 10 46  1  3  0\n",
      " 17  9  2 38  0 48 49  6 39  9  6  3  3  6 13 12 23 35  3 35  9 31 34 44\n",
      "  2 33  8 13 25 11 42 11 34 26 30 17  1  5  1 16  6 35 35  3 49 47 20  5\n",
      " 24 41 31 49  2  9  6 26  6  5 45 11 44 32 46 42 27  0 32 25  8 48  0  3\n",
      "  3 28 43  9 34 47 35  9  2 26  2 49  6 12 22 12  6 31  4  6 35 22  1 23\n",
      " 12  4 14 41 26  0  6 26  1  4  4 42 29 11 23  3 17 36 13 22 36 14  6 19\n",
      " 31  9 26 12  4 41 17 47 25  6 23  1 41  1 30  3 33  5 33 24 12 28 29 36\n",
      "  0 11 17  7 13 29 29  0  2  9 44 39 44  7  3 17 15  0  2 17 10 35  1  1\n",
      " 25 17 42  4 17 36 22 14 42  2 29  9 44  4 36  5 17 11  2 18 50  6 14  4]\n"
     ]
    }
   ],
   "source": [
    "nb=GaussianNB()\n",
    "gnb=rst(nb,x,y)"
   ]
  },
  {
   "cell_type": "code",
   "execution_count": 153,
   "metadata": {},
   "outputs": [
    {
     "data": {
      "text/plain": [
       "0.9006057214692043"
      ]
     },
     "execution_count": 153,
     "metadata": {},
     "output_type": "execute_result"
    }
   ],
   "source": [
    "#Cross Validation\n",
    "accuracy_score_4=cross_val_score(nb,x,y,scoring='accuracy',cv=10).mean()\n",
    "accuracy_score_4"
   ]
  },
  {
   "cell_type": "code",
   "execution_count": 154,
   "metadata": {},
   "outputs": [],
   "source": [
    "#SVC"
   ]
  },
  {
   "cell_type": "code",
   "execution_count": 155,
   "metadata": {},
   "outputs": [
    {
     "data": {
      "text/plain": [
       "{'degree': 3, 'kernel': 'linear'}"
      ]
     },
     "execution_count": 155,
     "metadata": {},
     "output_type": "execute_result"
    }
   ],
   "source": [
    "sv=SVC()\n",
    "sv_param={'kernel':('rbf','linear','poly'),'degree':range(3,8)}\n",
    "sv_g=GridSearchCV(sv,sv_param,cv=15)\n",
    "sv_g.fit(x,y)\n",
    "sv_g.best_params_"
   ]
  },
  {
   "cell_type": "code",
   "execution_count": 157,
   "metadata": {},
   "outputs": [
    {
     "name": "stdout",
     "output_type": "stream",
     "text": [
      "random_state for mod  is  31 which gives accuracy score of:  0.9758771929824561\n",
      "confusion matrix:  [[23  0  0 ...  0  0  0]\n",
      " [ 0 14  0 ...  0  0  0]\n",
      " [ 0  0 25 ...  0  0  0]\n",
      " ...\n",
      " [ 0  0  0 ...  3  0  0]\n",
      " [ 0  0  0 ...  0 12  0]\n",
      " [ 0  0  0 ...  0  0  4]]\n",
      "classification report:                precision    recall  f1-score   support\n",
      "\n",
      "           0       1.00      1.00      1.00        23\n",
      "           1       0.74      1.00      0.85        14\n",
      "           2       1.00      1.00      1.00        25\n",
      "           3       0.96      1.00      0.98        24\n",
      "           4       0.96      1.00      0.98        22\n",
      "           5       0.92      1.00      0.96        12\n",
      "           6       1.00      1.00      1.00        21\n",
      "           7       0.80      0.89      0.84         9\n",
      "           8       1.00      1.00      1.00         7\n",
      "           9       0.94      1.00      0.97        17\n",
      "          10       0.50      0.75      0.60         4\n",
      "          11       1.00      1.00      1.00         9\n",
      "          12       1.00      1.00      1.00        10\n",
      "          13       1.00      1.00      1.00         5\n",
      "          14       1.00      1.00      1.00         4\n",
      "          15       1.00      1.00      1.00         5\n",
      "          16       1.00      1.00      1.00         2\n",
      "          17       1.00      0.92      0.96        13\n",
      "          18       1.00      1.00      1.00         5\n",
      "          19       1.00      1.00      1.00         9\n",
      "          20       0.50      0.50      0.50         2\n",
      "          21       1.00      1.00      1.00         1\n",
      "          22       0.89      1.00      0.94         8\n",
      "          23       1.00      0.83      0.91         6\n",
      "          24       1.00      1.00      1.00         3\n",
      "          25       1.00      0.90      0.95        10\n",
      "          26       1.00      1.00      1.00        15\n",
      "          27       1.00      1.00      1.00         3\n",
      "          28       1.00      0.86      0.92         7\n",
      "          29       0.00      0.00      0.00         3\n",
      "          30       1.00      1.00      1.00         4\n",
      "          31       0.92      0.92      0.92        13\n",
      "          32       1.00      0.90      0.95        10\n",
      "          33       1.00      1.00      1.00         5\n",
      "          34       1.00      0.89      0.94         9\n",
      "          35       0.75      0.60      0.67         5\n",
      "          36       0.89      0.89      0.89         9\n",
      "          37       1.00      1.00      1.00         4\n",
      "          38       1.00      0.93      0.96        14\n",
      "          39       1.00      1.00      1.00         6\n",
      "          40       1.00      1.00      1.00         1\n",
      "          41       1.00      1.00      1.00         9\n",
      "          42       1.00      1.00      1.00        12\n",
      "          43       1.00      1.00      1.00         1\n",
      "          44       1.00      0.94      0.97        16\n",
      "          45       1.00      1.00      1.00         5\n",
      "          46       1.00      0.80      0.89         5\n",
      "          47       1.00      0.91      0.95        11\n",
      "          48       1.00      1.00      1.00         3\n",
      "          49       1.00      1.00      1.00        12\n",
      "          50       0.80      1.00      0.89         4\n",
      "\n",
      "    accuracy                           0.96       456\n",
      "   macro avg       0.93      0.93      0.93       456\n",
      "weighted avg       0.96      0.96      0.95       456\n",
      "\n",
      "\n",
      "prediction:  [ 0  2 39  1  4  4 19  2 19  1  2  1  8 38 13  9 49  3  1  6  6 37 19 45\n",
      "  3  8 26 50 45  2  6 44 32 22 42 31 50  4 46 15 44  3 38  6 18 26 38  0\n",
      " 49 32 44 19  4  6 42  6 41  5 47 25 44  0 18  3  0 37 38 22 38 36 12 17\n",
      "  2 47 12  9 16 11 36  7  4 28 38  6  2 49 10 25 19 38  3  2  5 39 44  2\n",
      "  9  9 47 22  0 31  8 31  6  0 16 44 28 41 26 28 15 22 32 26 32  9  6 15\n",
      "  3 42 48 32  5 41  3 49  1 26 12  5 31 33 30  4 11 45  0 37  2 42 39 26\n",
      " 47 10 44  0  0 32  1  2  5 47  3 36  0  4  9 34 50 17 23  4 37  0 36 26\n",
      " 38 42  8 25  3 49 33  2 35  4  3 26  0  9 34 31 46 34 41 17 41  5 44 44\n",
      " 15  3 24 31  2  3 50  4 25 38 39 12  6 11  6  2 38 19 49  1  2 18 42  0\n",
      "  4 18 50  1 30  0  2  4 45  8 25 44 49 34  9 26 38 38  0 32 36  4  0  3\n",
      "  4  0 34 19  3  9 22  7 42 34 28 10 40 26  2  3  7  7 17 10 46  1  3  0\n",
      " 17  9  2 38  0 48 49  6 39  9  6  3  3 27 13 12 23 35  3  7  9 31 34 44\n",
      "  2 33  8 13 25 11 42 11 10 26 30 17  1  5  1 28  6  7  7  3 49 47 20  5\n",
      " 24 41 31 49  2  9 49 26  6  5 45 11 44 32 46 42 27  0 32 25  8 48  0  3\n",
      "  3  4 43  9 34 47 35  9  2 27  2 49 21 12 22 12  6 31  4  6 35 22  1 23\n",
      " 12  4 14 41 26  0  6 26  1  4  4 42 47 11 23  3 31 36 13 22 36 14  6 19\n",
      " 31  9 26 12  4 41 17 47 25  6  1  1 41  1 30  3 33  5 33 24 12 28 23 36\n",
      "  5 11 17  7 13  1 47  0  2  9 44 39 44  7  3 17 15  5  2 17 10  7  1  1\n",
      " 25 17 42  4 31 36 22 14 42  2 19  9 44  4 20  5 17 11  2 18 31  6 14  4]\n"
     ]
    }
   ],
   "source": [
    "sv=SVC(kernel='linear',degree=3)\n",
    "svc=rst(sv,x,y)"
   ]
  },
  {
   "cell_type": "code",
   "execution_count": 158,
   "metadata": {},
   "outputs": [
    {
     "data": {
      "text/plain": [
       "0.9418314436885797"
      ]
     },
     "execution_count": 158,
     "metadata": {},
     "output_type": "execute_result"
    }
   ],
   "source": [
    "#Cross Validation\n",
    "accuracy_score_5=cross_val_score(sv,x,y,scoring='accuracy',cv=10).mean()\n",
    "accuracy_score_5"
   ]
  },
  {
   "cell_type": "code",
   "execution_count": 181,
   "metadata": {},
   "outputs": [
    {
     "data": {
      "text/plain": [
       "['KNN Classification for Avocado Dataset.pkl']"
      ]
     },
     "execution_count": 181,
     "metadata": {},
     "output_type": "execute_result"
    }
   ],
   "source": [
    "import joblib\n",
    "joblib.dump(knn,\"KNN Classification for Avocado Dataset.pkl\")"
   ]
  },
  {
   "cell_type": "markdown",
   "metadata": {},
   "source": [
    "Regression for Average Price"
   ]
  },
  {
   "cell_type": "code",
   "execution_count": 160,
   "metadata": {},
   "outputs": [],
   "source": [
    "#Features and Target Value\n",
    "x=avoc.drop(['AveragePrice','year','Month','Day'],axis=1)\n",
    "y=avoc['AveragePrice']"
   ]
  },
  {
   "cell_type": "code",
   "execution_count": 162,
   "metadata": {},
   "outputs": [
    {
     "data": {
      "text/html": [
       "<div>\n",
       "<style scoped>\n",
       "    .dataframe tbody tr th:only-of-type {\n",
       "        vertical-align: middle;\n",
       "    }\n",
       "\n",
       "    .dataframe tbody tr th {\n",
       "        vertical-align: top;\n",
       "    }\n",
       "\n",
       "    .dataframe thead th {\n",
       "        text-align: right;\n",
       "    }\n",
       "</style>\n",
       "<table border=\"1\" class=\"dataframe\">\n",
       "  <thead>\n",
       "    <tr style=\"text-align: right;\">\n",
       "      <th></th>\n",
       "      <th>Total Volume</th>\n",
       "      <th>4046</th>\n",
       "      <th>4225</th>\n",
       "      <th>4770</th>\n",
       "      <th>Total Bags</th>\n",
       "      <th>Small Bags</th>\n",
       "      <th>Large Bags</th>\n",
       "      <th>XLarge Bags</th>\n",
       "      <th>type</th>\n",
       "      <th>region</th>\n",
       "    </tr>\n",
       "  </thead>\n",
       "  <tbody>\n",
       "    <tr>\n",
       "      <td>0</td>\n",
       "      <td>11.070344</td>\n",
       "      <td>6.944801</td>\n",
       "      <td>10.905146</td>\n",
       "      <td>3.895080</td>\n",
       "      <td>9.070833</td>\n",
       "      <td>9.060055</td>\n",
       "      <td>4.545951</td>\n",
       "      <td>0.0</td>\n",
       "      <td>0</td>\n",
       "      <td>0</td>\n",
       "    </tr>\n",
       "    <tr>\n",
       "      <td>1</td>\n",
       "      <td>10.912867</td>\n",
       "      <td>6.515127</td>\n",
       "      <td>10.706381</td>\n",
       "      <td>4.083115</td>\n",
       "      <td>9.159737</td>\n",
       "      <td>9.149429</td>\n",
       "      <td>4.589955</td>\n",
       "      <td>0.0</td>\n",
       "      <td>0</td>\n",
       "      <td>0</td>\n",
       "    </tr>\n",
       "  </tbody>\n",
       "</table>\n",
       "</div>"
      ],
      "text/plain": [
       "   Total Volume      4046       4225      4770  Total Bags  Small Bags  \\\n",
       "0     11.070344  6.944801  10.905146  3.895080    9.070833    9.060055   \n",
       "1     10.912867  6.515127  10.706381  4.083115    9.159737    9.149429   \n",
       "\n",
       "   Large Bags  XLarge Bags  type  region  \n",
       "0    4.545951          0.0     0       0  \n",
       "1    4.589955          0.0     0       0  "
      ]
     },
     "execution_count": 162,
     "metadata": {},
     "output_type": "execute_result"
    }
   ],
   "source": [
    "x.head(2)"
   ]
  },
  {
   "cell_type": "code",
   "execution_count": 163,
   "metadata": {},
   "outputs": [
    {
     "data": {
      "text/plain": [
       "0    1.33\n",
       "1    1.35\n",
       "Name: AveragePrice, dtype: float64"
      ]
     },
     "execution_count": 163,
     "metadata": {},
     "output_type": "execute_result"
    }
   ],
   "source": [
    "y.head(2)"
   ]
  },
  {
   "cell_type": "code",
   "execution_count": 165,
   "metadata": {},
   "outputs": [],
   "source": [
    "#Standardisation\n",
    "from sklearn.preprocessing import StandardScaler\n",
    "sc=StandardScaler()"
   ]
  },
  {
   "cell_type": "code",
   "execution_count": 166,
   "metadata": {},
   "outputs": [
    {
     "data": {
      "text/plain": [
       "array([[-1.35676174, -1.82816171, -0.56752404, ..., -0.81077519,\n",
       "         0.        , -1.3143384 ],\n",
       "       [-1.46638736, -2.01206913, -0.68423257, ..., -0.81077519,\n",
       "         0.        , -1.3143384 ],\n",
       "       [-0.9321394 , -1.94183376, -0.15924137, ..., -0.81077519,\n",
       "         0.        , -1.3143384 ],\n",
       "       ...,\n",
       "       [-0.64565294, -0.20190426, -0.58460671, ...,  1.10389091,\n",
       "         0.        , -0.88028586],\n",
       "       [-0.60503087, -0.13577946, -0.57688492, ..., -0.81077519,\n",
       "         0.        , -0.88028586],\n",
       "       [-0.62805557, -0.23299293, -0.5703497 , ..., -0.81077519,\n",
       "         0.        , -0.88028586]])"
      ]
     },
     "execution_count": 166,
     "metadata": {},
     "output_type": "execute_result"
    }
   ],
   "source": [
    "x=sc.fit_transform(x)\n",
    "x"
   ]
  },
  {
   "cell_type": "code",
   "execution_count": 167,
   "metadata": {},
   "outputs": [],
   "source": [
    "#Spilt Train and Test\n",
    "from sklearn.model_selection import train_test_split,GridSearchCV,cross_val_score\n",
    "from sklearn.linear_model import LinearRegression,Lasso\n",
    "from sklearn.tree import DecisionTreeRegressor\n",
    "from sklearn.svm import SVR\n",
    "from sklearn.neighbors import KNeighborsRegressor\n",
    "from sklearn.metrics import mean_squared_error,mean_absolute_error,r2_score"
   ]
  },
  {
   "cell_type": "code",
   "execution_count": 168,
   "metadata": {},
   "outputs": [],
   "source": [
    "def mod(model,x,y):\n",
    "    max_r=0\n",
    "    for i in range(30,150):\n",
    "        x_train,x_test,y_train,y_test=train_test_split(x,y,test_size=0.30,random_state=i)\n",
    "        model.fit(x_train,y_train)\n",
    "        pred=model.predict(x_test)\n",
    "        r2score=r2_score(y_test,pred)\n",
    "        MAE= mean_absolute_error(y_test,pred)\n",
    "        MSE= mean_squared_error(y_test,pred)\n",
    "        RMSE=np.sqrt(MSE)\n",
    "        \n",
    "        if r2score > max_r:\n",
    "            max_r=r2score\n",
    "            random_state=i\n",
    "            \n",
    "    print('the random state at ', mod,'\\nis: ',random_state, \n",
    "          '\\nand it produces \\n r2 score of ',r2score,\n",
    "          '\\n mean abs error value of ', MAE,\n",
    "          '\\n mean squared error value of',MSE,\n",
    "          '\\n & root mean sq error ', RMSE)\n",
    "    print()\n",
    "    print('prediction: ',pred)\n",
    "    return random_state"
   ]
  },
  {
   "cell_type": "code",
   "execution_count": 169,
   "metadata": {},
   "outputs": [
    {
     "name": "stdout",
     "output_type": "stream",
     "text": [
      "the random state at  <function mod at 0x0000003F4C1EA3A8> \n",
      "is:  139 \n",
      "and it produces \n",
      " r2 score of  0.34496294361689595 \n",
      " mean abs error value of  0.11435130851027103 \n",
      " mean squared error value of 0.02296699737530379 \n",
      " & root mean sq error  0.15154866339002726\n",
      "\n",
      "prediction:  [1.16677156 1.16070015 0.95696209 1.03315631 1.1243438  1.24305728\n",
      " 1.04668878 1.17372048 1.02542536 0.86504111 1.11952381 1.0521426\n",
      " 1.06973414 0.92770839 1.27957005 1.08378549 0.89275267 1.08757133\n",
      " 0.94175925 1.09416845 1.05481868 1.19771637 0.99888474 1.02333082\n",
      " 0.93697266 1.0434073  1.12229082 0.97229725 1.17408248 1.16063107\n",
      " 1.10547433 1.0399346  1.25324264 1.12882522 0.90056863 0.79595803\n",
      " 1.07523019 1.28990305 1.31990423 1.25060033 1.080345   1.10204522\n",
      " 0.95407024 1.06441206 1.15546423 1.16896583 1.05824321 1.23207885\n",
      " 0.91784288 1.16881276 1.05966068 0.96365206 1.14307864 1.06975441\n",
      " 0.91717548 1.07322144 0.98820889 1.34151374 0.99969172 0.94907893\n",
      " 1.04918806 1.24104773 1.20371869 1.28276174 1.31717738 1.19271751\n",
      " 1.01087486 1.19023148 1.00388553 1.06155834 0.94523332 0.91799322\n",
      " 1.12300077 1.06382729 1.05985295 1.05872497 1.19030146 1.10795416\n",
      " 1.11043904 1.16679767 1.14390598 1.18987605 0.97434608 1.09043541\n",
      " 1.13928424 0.98914276 0.97556475 1.06521614 1.00950822 0.94530201\n",
      " 1.16435783 1.17130405 1.35810171 1.0470753  1.1304356  1.16180931\n",
      " 0.9979241  1.0203182  1.07478994 1.18385493 1.33005583 0.94990344\n",
      " 1.069834   0.90294071 0.97918768 1.32046952 1.21786616 1.0393725\n",
      " 1.05394668 1.05092823 1.16158884 1.09063771 1.25822458 1.1229556\n",
      " 1.18504193 1.17799088 1.21165714 1.06635701 0.95656026 1.21362927\n",
      " 0.93555297 0.91738716 0.89433331 1.21400386 1.25575112 0.96746759\n",
      " 1.27987616 0.91992958 0.89105563 1.15250713 1.04966222 1.30458072\n",
      " 0.82709556 1.04521675 1.22514177 1.14705161 1.04743805 1.14247024\n",
      " 1.23457479 1.19452631 1.14772758 0.923534   1.01972611 1.17357766\n",
      " 1.05073941 0.96938737 1.04767304 1.20753824 1.30832563 1.1518804\n",
      " 0.96428851 1.17818073 1.30549492 0.98489726 1.17436878 1.07257206\n",
      " 1.22347451 1.23053624 1.02082791 1.03391022 0.9269733  0.8828434\n",
      " 0.93062114 1.11589332 1.15972259 1.25625419 1.08209422 1.15122484\n",
      " 0.89607437 0.89116994 1.08036833 0.99386481 1.1403467  0.96081772\n",
      " 1.02009414 1.17036869 1.11773851 1.26528787 0.99618056 1.13698759\n",
      " 1.26775655 1.07658132 1.14279045 0.89258029 1.30879471 1.05682509\n",
      " 0.93556362 0.89884428 0.99901668 1.25408777 1.04219512 1.06675988\n",
      " 1.24669915 1.1457807  1.03933591 0.85599104 1.17308521 1.12385374\n",
      " 0.90207037 1.11248221 0.97415127 1.09257763 1.00978012 1.02166434\n",
      " 1.10543423 0.97506582 1.08802399 1.17880302 0.96723866 0.94709598\n",
      " 0.93148935 0.93135109 1.18805937 1.16238959 0.88652718 1.2302064\n",
      " 1.17481503 1.15266533 0.95035801 1.03309358 1.20812383 1.26394357\n",
      " 1.13939797 1.19092324 1.12703718 1.08219176 0.91347309 1.04196368\n",
      " 0.95468111 1.11286474 1.03471755 1.17019197 0.96883843 0.95224733\n",
      " 1.23006302 1.19670186 1.04921836 1.151912   1.23959186 1.15625284\n",
      " 1.16613227 1.25449045 1.06583796 1.06157422 0.99776406 0.96437812\n",
      " 1.06608139 1.17300795 0.96423977 1.05224987 1.15378095 0.94546244\n",
      " 1.10115551 1.12823508 1.17622976 1.02586277 1.20127268 1.19169461\n",
      " 1.02026708 0.91497661 1.27693    0.91481274 1.10623192 1.18107103\n",
      " 0.9060104  1.05361154 1.17077819 0.97186547 1.18200442 0.90013901\n",
      " 0.9165417  0.95917643 1.02181426 1.06144395 0.97082929 1.00918382\n",
      " 0.92601978 1.11176105 1.25428634 1.06689216 1.0380735  1.10941256\n",
      " 1.14021658 1.15257445 1.07938386 0.83125218 1.15463818 1.02397001\n",
      " 1.17117754 1.01947669 1.06705761 1.29342744 0.98089728 1.02777803\n",
      " 0.94475265 1.02048855 1.19197496 1.17195806 1.22094564 0.95802846\n",
      " 1.02093308 1.35113818 0.94714471 1.15978921 1.0901425  1.09167429\n",
      " 1.1021644  1.1437369  0.93434535 1.03694017 1.0968544  1.28440404\n",
      " 1.0884151  1.06303387 0.8907011  0.91712069 1.10694695 1.05516905\n",
      " 0.97054676 1.13690181 1.0996601  1.33340565 1.05526394 1.05025122\n",
      " 1.06927183 1.14285451 1.32560773 0.89045922 1.1541176  1.31423212\n",
      " 1.1612155  0.97392207 1.06942221 0.9004977  1.19717969 1.2011268\n",
      " 1.01674508 1.27975623 0.84844347 1.12062525 1.00208223 1.13678178\n",
      " 1.11051859 1.06530247 1.16153254 1.150698   1.18684762 0.94984111\n",
      " 0.92755336 1.0682075  1.13045373 1.0364509  1.04823229 0.89836645\n",
      " 1.13974249 1.09001614 1.08989487 1.17833887 0.96770517 1.0228503\n",
      " 1.09289222 1.1565516  1.08976246 0.99826847 1.16641242 1.18457663\n",
      " 0.96131023 1.17050226 0.97315279 1.16623072 1.17647577 0.92756022\n",
      " 1.08210779 0.96005508 1.04354776 1.01185114 0.94138258 1.05058831\n",
      " 1.28108485 1.17202877 1.06312207 1.07542241 1.07196821 0.95424751\n",
      " 0.89657147 1.10968339 1.16543076 0.95209567 1.08055224 1.02054205\n",
      " 0.96657998 1.13116348 0.99008359 1.09029066 0.90791191 1.02905154\n",
      " 1.03017535 0.93831793 1.15688373 1.01458155 0.97319801 1.36852758\n",
      " 0.9849672  1.04597282 1.03185226 1.17514568 1.01533509 1.05767251\n",
      " 1.32643248 1.0120866  1.03242021 1.19345933 1.19500497 1.05551172\n",
      " 1.03466086 1.22644913 1.13507336 1.13122926 1.07160966 1.03286025\n",
      " 1.09584427 1.18023744 1.14778344 0.96497902 1.2694491  1.30874014\n",
      " 1.18108402 0.93805583 0.96770576 1.15388179 0.95384086 0.93813902\n",
      " 0.92940485 0.9458401  0.87805291 1.28289915 0.91088453 1.06383784\n",
      " 1.22992141 1.05874704 0.91567796 1.12682235 0.94115908 1.08140351\n",
      " 1.04982951 1.12306021 1.09431571 1.34629924 0.91751382 1.043451\n",
      " 1.17864632 1.11570235 0.96445415 0.95842945 1.04331412 1.17806119]\n"
     ]
    },
    {
     "data": {
      "text/plain": [
       "139"
      ]
     },
     "execution_count": 169,
     "metadata": {},
     "output_type": "execute_result"
    }
   ],
   "source": [
    "#LinearRegression\n",
    "lr=LinearRegression()\n",
    "mod(lr,x,y)"
   ]
  },
  {
   "cell_type": "code",
   "execution_count": 170,
   "metadata": {},
   "outputs": [
    {
     "name": "stdout",
     "output_type": "stream",
     "text": [
      "the r2 score at liner regression model is= 0.14711724477151403\n"
     ]
    }
   ],
   "source": [
    "#cross validation\n",
    "lr_scr=cross_val_score(lr,x,y,cv=5,scoring='r2')\n",
    "print('the r2 score at liner regression model is=', lr_scr.mean())"
   ]
  },
  {
   "cell_type": "code",
   "execution_count": 171,
   "metadata": {},
   "outputs": [
    {
     "data": {
      "text/plain": [
       "{'criterion': 'mae', 'max_depth': 3}"
      ]
     },
     "execution_count": 171,
     "metadata": {},
     "output_type": "execute_result"
    }
   ],
   "source": [
    "#Decision Tree Regressor\n",
    "dtr=DecisionTreeRegressor()\n",
    "dtr_para={'criterion':['mse','friedman_mse', 'mae'],'max_depth':[3,4,5]}\n",
    "dtr_grid=GridSearchCV(dtr,dtr_para,cv=5)\n",
    "dtr_grid.fit(x,y)\n",
    "dtr_grid.best_params_"
   ]
  },
  {
   "cell_type": "code",
   "execution_count": 172,
   "metadata": {},
   "outputs": [
    {
     "name": "stdout",
     "output_type": "stream",
     "text": [
      "the random state at  <function mod at 0x0000003F4C1EA3A8> \n",
      "is:  47 \n",
      "and it produces \n",
      " r2 score of  0.3473506723652663 \n",
      " mean abs error value of  0.10882675438596491 \n",
      " mean squared error value of 0.02288327850877193 \n",
      " & root mean sq error  0.15127220005265982\n",
      "\n",
      "prediction:  [1.07  1.16  0.765 1.005 1.16  1.16  1.07  1.16  1.16  1.005 1.16  0.95\n",
      " 1.16  1.005 1.16  1.07  0.765 1.07  1.005 0.95  1.09  1.365 1.07  1.365\n",
      " 1.07  1.16  1.16  0.765 1.195 1.16  1.09  1.07  1.07  1.07  1.09  0.765\n",
      " 1.16  1.195 1.365 1.16  1.07  1.07  1.005 0.95  1.16  1.16  1.16  1.07\n",
      " 0.765 1.07  1.07  1.07  1.16  1.09  1.09  1.09  1.16  1.16  1.16  1.07\n",
      " 1.07  1.07  1.16  1.365 1.365 1.365 1.005 1.07  1.16  1.07  1.16  0.765\n",
      " 1.16  1.005 1.16  1.07  1.16  1.16  1.07  1.16  1.16  1.16  1.005 0.95\n",
      " 1.16  0.95  0.765 1.07  1.07  1.005 1.16  1.16  1.16  1.16  1.07  1.16\n",
      " 1.07  1.07  1.195 1.07  1.365 0.765 1.16  0.765 1.09  1.365 1.16  1.07\n",
      " 1.16  1.16  1.16  1.07  1.16  1.07  1.07  1.16  1.07  1.07  1.09  1.16\n",
      " 1.07  0.95  0.95  1.07  1.16  1.16  1.195 0.95  1.005 1.16  1.16  1.195\n",
      " 0.765 1.09  1.16  1.16  1.16  1.365 1.07  1.07  1.16  1.09  1.16  1.16\n",
      " 1.16  1.09  1.07  1.07  1.07  1.07  1.005 1.16  1.16  1.005 1.07  1.07\n",
      " 1.07  1.16  1.07  1.16  0.765 0.765 1.005 1.16  1.07  1.365 1.07  1.16\n",
      " 1.005 0.95  1.16  1.07  1.07  0.95  1.09  1.16  1.16  1.16  1.07  1.16\n",
      " 1.07  1.07  1.16  0.765 1.365 1.16  1.005 0.765 1.16  1.16  1.07  1.07\n",
      " 1.16  1.07  1.09  0.765 1.16  1.07  0.765 1.16  1.07  1.16  1.16  1.16\n",
      " 0.95  1.16  1.09  1.16  1.005 1.07  0.765 1.005 1.16  1.07  0.765 1.07\n",
      " 1.16  1.07  0.765 1.005 1.16  1.07  1.16  1.16  1.365 1.16  1.07  1.07\n",
      " 0.95  1.16  1.07  1.16  1.005 1.005 1.07  1.07  1.07  1.16  1.07  1.16\n",
      " 1.16  1.07  1.16  1.07  1.07  1.07  1.07  1.16  0.765 1.005 1.07  0.765\n",
      " 1.16  1.16  1.16  1.07  1.16  1.16  0.765 1.09  1.365 1.005 1.07  1.07\n",
      " 0.765 1.07  1.16  1.005 1.365 0.95  0.95  1.09  0.765 1.07  1.09  1.07\n",
      " 1.07  1.16  1.16  1.16  1.005 1.16  1.07  1.16  1.07  0.765 1.16  1.07\n",
      " 1.16  1.09  1.16  1.16  1.07  1.16  0.95  1.16  1.16  1.16  1.16  0.765\n",
      " 0.765 1.195 1.005 1.07  1.09  1.16  1.16  1.07  0.95  1.195 1.07  1.365\n",
      " 1.09  1.16  0.765 0.765 1.16  1.07  0.95  1.16  1.09  1.195 1.365 1.16\n",
      " 1.07  1.07  1.365 1.09  1.16  1.07  1.07  1.07  1.16  0.95  1.07  1.16\n",
      " 1.07  1.16  0.765 1.07  1.16  1.16  1.16  1.07  1.16  1.16  1.16  0.95\n",
      " 1.09  1.16  1.07  1.16  0.95  0.765 1.16  0.95  1.16  1.07  1.09  1.005\n",
      " 1.16  1.16  1.09  1.005 1.16  1.07  1.09  1.16  1.005 1.16  1.16  0.95\n",
      " 1.195 1.16  1.005 1.07  0.765 1.07  1.16  1.07  1.07  1.09  0.95  1.07\n",
      " 0.765 1.07  1.16  1.16  1.16  1.16  0.765 1.16  1.07  0.95  0.765 1.005\n",
      " 1.005 1.005 1.16  1.07  1.09  1.195 1.09  1.09  1.16  1.16  1.005 1.16\n",
      " 1.365 1.16  0.765 1.16  1.16  1.005 1.16  1.07  1.16  1.07  1.07  1.16\n",
      " 1.07  1.16  1.07  0.765 1.16  1.365 1.16  0.765 0.765 1.16  1.005 1.005\n",
      " 1.07  0.765 0.765 1.16  0.765 1.07  1.07  1.09  0.95  1.16  1.16  1.07\n",
      " 1.07  1.16  1.07  1.365 0.765 0.765 1.16  1.07  0.765 1.09  1.09  1.16 ]\n"
     ]
    },
    {
     "data": {
      "text/plain": [
       "47"
      ]
     },
     "execution_count": 172,
     "metadata": {},
     "output_type": "execute_result"
    }
   ],
   "source": [
    "dtr=DecisionTreeRegressor(criterion='mae',max_depth=3)\n",
    "mod(dtr,x,y)"
   ]
  },
  {
   "cell_type": "code",
   "execution_count": 173,
   "metadata": {},
   "outputs": [
    {
     "name": "stdout",
     "output_type": "stream",
     "text": [
      "the r2 score at DTR model is= 0.06971467714780563\n"
     ]
    }
   ],
   "source": [
    "#Cross Validation\n",
    "dtr_scr=cross_val_score(dtr,x,y,cv=5,scoring='r2')\n",
    "print('the r2 score at DTR model is=', dtr_scr.mean())"
   ]
  },
  {
   "cell_type": "code",
   "execution_count": 174,
   "metadata": {},
   "outputs": [
    {
     "data": {
      "text/plain": [
       "{'algorithm': 'ball_tree', 'n_neighbors': 19}"
      ]
     },
     "execution_count": 174,
     "metadata": {},
     "output_type": "execute_result"
    }
   ],
   "source": [
    "#KNeighbors Regressor\n",
    "knr=KNeighborsRegressor()\n",
    "k_para={'n_neighbors': range(4,20),'algorithm':['ball_tree', 'kd_tree', 'brute']}\n",
    "k_grid=GridSearchCV(knr,k_para,cv=5)\n",
    "k_grid.fit(x,y)\n",
    "k_grid.best_params_"
   ]
  },
  {
   "cell_type": "code",
   "execution_count": 175,
   "metadata": {},
   "outputs": [
    {
     "name": "stdout",
     "output_type": "stream",
     "text": [
      "the random state at  <function mod at 0x0000003F4C1EA3A8> \n",
      "is:  123 \n",
      "and it produces \n",
      " r2 score of  0.5709253428963236 \n",
      " mean abs error value of  0.09017890120036934 \n",
      " mean squared error value of 0.015044273339165087 \n",
      " & root mean sq error  0.12265509911603792\n",
      "\n",
      "prediction:  [1.15052632 1.16526316 1.11105263 1.05947368 1.13684211 1.21789474\n",
      " 1.2        1.15894737 1.11052632 1.04526316 1.16789474 1.02631579\n",
      " 1.21       0.99631579 1.16894737 1.00684211 0.90894737 0.97210526\n",
      " 1.02736842 0.92263158 1.00578947 1.16526316 1.1        1.20157895\n",
      " 1.06052632 1.18315789 1.21052632 0.74526316 1.17631579 1.17263158\n",
      " 1.14578947 1.12842105 1.14947368 1.05736842 0.89421053 0.65315789\n",
      " 0.76631579 1.17842105 1.31473684 1.17       1.10578947 0.97263158\n",
      " 0.99105263 0.98842105 1.09736842 1.2        1.01       1.22947368\n",
      " 0.89842105 1.14736842 1.13526316 1.11789474 1.17368421 1.10263158\n",
      " 0.9        1.04315789 1.06736842 1.25894737 1.04052632 1.09\n",
      " 1.04263158 1.20526316 1.11263158 1.27157895 1.31526316 1.17473684\n",
      " 0.99157895 1.06684211 0.99421053 1.05894737 1.05210526 0.80210526\n",
      " 1.16789474 1.05315789 1.07105263 1.01210526 1.14315789 0.95578947\n",
      " 1.05526316 1.30789474 1.13684211 1.14526316 1.00894737 0.94736842\n",
      " 1.16526316 0.90894737 0.76894737 1.07421053 1.11421053 0.99631579\n",
      " 0.97789474 1.15894737 1.25631579 0.93263158 1.11473684 1.16315789\n",
      " 1.02105263 0.99842105 1.06526316 1.06842105 1.27526316 0.64684211\n",
      " 1.21736842 0.64684211 1.09105263 1.29894737 1.14684211 1.07315789\n",
      " 1.11789474 1.08315789 1.20894737 1.14526316 1.17       1.03631579\n",
      " 1.14105263 1.22       1.13526316 1.00947368 1.09105263 1.12947368\n",
      " 1.04105263 0.89947368 1.01789474 1.12894737 1.30105263 1.08684211\n",
      " 1.07631579 0.92526316 1.05526316 1.23105263 1.04157895 1.31052632\n",
      " 0.69578947 1.00421053 1.21684211 1.13684211 0.95473684 1.20526316\n",
      " 1.16789474 1.17       1.16789474 0.90789474 1.11105263 1.22210526\n",
      " 1.08947368 0.85157895 1.13526316 1.14736842 1.20684211 1.14526316\n",
      " 1.18736842 1.17526316 1.30473684 1.05789474 0.94368421 1.08789474\n",
      " 1.14210526 1.19736842 1.00210526 1.04052632 0.76315789 0.83526316\n",
      " 1.16       1.25421053 1.16210526 1.25526316 1.05263158 1.19578947\n",
      " 1.02631579 0.92894737 1.20578947 1.06631579 0.97684211 0.93894737\n",
      " 1.01631579 1.16526316 1.13842105 1.18473684 1.05578947 1.18947368\n",
      " 1.20736842 1.00263158 1.05052632 0.64894737 1.30263158 1.12789474\n",
      " 1.04210526 0.79526316 1.08315789 1.30105263 1.12842105 1.13105263\n",
      " 1.17105263 0.96157895 1.09736842 0.71157895 1.19       0.98473684\n",
      " 0.74157895 1.12526316 1.10894737 0.86421053 0.98315789 1.06105263\n",
      " 1.17157895 0.98631579 1.19894737 1.16526316 0.99631579 1.14105263\n",
      " 0.91368421 1.20105263 1.19894737 1.10210526 0.82842105 1.20947368\n",
      " 1.13105263 1.09157895 0.76473684 1.01631579 1.21368421 1.25526316\n",
      " 1.16789474 1.16736842 1.16631579 1.22315789 1.03421053 1.12842105\n",
      " 0.91210526 1.06210526 1.00842105 1.25105263 0.99631579 0.99631579\n",
      " 1.14315789 1.14210526 0.98842105 1.28421053 1.16421053 0.96631579\n",
      " 1.14894737 1.26947368 1.03631579 1.18315789 1.05684211 0.99684211\n",
      " 1.07526316 1.31105263 0.82736842 1.08052632 1.18947368 0.77368421\n",
      " 1.03736842 1.18947368 1.16947368 1.04578947 1.30052632 1.11421053\n",
      " 0.81052632 0.94368421 1.29947368 1.05736842 0.97263158 1.14473684\n",
      " 0.77157895 1.01052632 1.16526316 0.99631579 1.22473684 1.01578947\n",
      " 0.94842105 1.07526316 1.11052632 1.00789474 1.09105263 1.09894737\n",
      " 1.04105263 1.20263158 1.17368421 1.03578947 1.17421053 1.14157895\n",
      " 1.09052632 1.30789474 1.00789474 0.69578947 1.04894737 1.13526316\n",
      " 1.17263158 1.01894737 1.21526316 1.14210526 1.06736842 0.97157895\n",
      " 0.86526316 0.95421053 1.07052632 1.22       1.20842105 0.83105263\n",
      " 0.99894737 1.26894737 1.05736842 1.14526316 1.20210526 1.09789474\n",
      " 1.09789474 0.96157895 0.96052632 1.06526316 1.07894737 1.33842105\n",
      " 1.08368421 1.06736842 0.64736842 0.91736842 1.16789474 1.01\n",
      " 0.89421053 1.18947368 1.18315789 1.30157895 1.21157895 0.94157895\n",
      " 1.05947368 1.12789474 1.31631579 0.85105263 1.27894737 1.26210526\n",
      " 1.12842105 1.01894737 1.22789474 1.01631579 1.16526316 1.15684211\n",
      " 1.04526316 1.18789474 0.90578947 1.06315789 0.84736842 1.07947368\n",
      " 1.30052632 1.         1.15894737 1.24789474 1.18631579 0.92\n",
      " 1.05578947 1.02526316 1.06368421 1.03473684 0.94842105 0.90157895\n",
      " 1.28684211 0.96736842 1.14157895 1.06684211 1.05736842 1.17421053\n",
      " 1.04894737 1.28684211 1.10578947 1.05315789 1.18947368 1.15105263\n",
      " 1.07578947 1.21052632 1.04578947 1.12684211 1.31947368 0.83947368\n",
      " 1.06526316 0.94368421 1.17421053 1.07315789 0.83578947 1.02947368\n",
      " 1.17526316 1.05052632 1.06315789 1.10578947 0.98631579 1.09736842\n",
      " 0.64684211 1.01578947 1.18947368 1.04894737 1.13578947 1.06736842\n",
      " 0.79368421 1.05789474 1.11210526 0.92473684 1.15789474 1.04157895\n",
      " 1.06736842 1.04789474 1.24368421 1.06052632 1.00105263 1.26631579\n",
      " 0.99947368 1.08368421 1.02263158 1.15894737 1.20368421 1.01578947\n",
      " 1.35842105 0.95473684 0.78894737 1.31105263 1.15368421 1.05526316\n",
      " 1.08947368 1.19894737 1.16578947 1.03578947 1.11736842 1.07526316\n",
      " 1.11263158 1.31105263 0.97263158 0.82263158 1.17842105 1.27263158\n",
      " 1.17263158 0.82263158 0.78842105 1.30789474 1.05526316 1.18684211\n",
      " 1.01578947 0.81842105 0.82263158 1.19052632 0.64894737 1.06315789\n",
      " 1.06842105 1.10578947 0.88473684 1.19789474 1.07052632 1.00789474\n",
      " 1.13105263 1.11684211 1.09631579 1.28789474 0.80210526 0.88368421\n",
      " 1.19894737 1.07578947 0.92473684 1.09105263 1.12894737 1.30052632]\n"
     ]
    },
    {
     "data": {
      "text/plain": [
       "123"
      ]
     },
     "execution_count": 175,
     "metadata": {},
     "output_type": "execute_result"
    }
   ],
   "source": [
    "knr=KNeighborsRegressor(algorithm='ball_tree',n_neighbors=19)\n",
    "mod(knr,x,y)"
   ]
  },
  {
   "cell_type": "code",
   "execution_count": 176,
   "metadata": {},
   "outputs": [
    {
     "name": "stdout",
     "output_type": "stream",
     "text": [
      "the r2 score at KNR model is= 0.0092769574044979\n"
     ]
    }
   ],
   "source": [
    "#Cross Validation\n",
    "knr_scr=cross_val_score(knr,x,y,cv=5,scoring='r2')\n",
    "print('the r2 score at KNR model is=', knr_scr.mean())"
   ]
  },
  {
   "cell_type": "code",
   "execution_count": 177,
   "metadata": {},
   "outputs": [
    {
     "data": {
      "text/plain": [
       "{'gamma': 0.01, 'kernel': 'rbf'}"
      ]
     },
     "execution_count": 177,
     "metadata": {},
     "output_type": "execute_result"
    }
   ],
   "source": [
    "#SVR\n",
    "svr=SVR()\n",
    "svr_para={'kernel':['rbf','poly','linear'],'gamma':[0.01,0.1]}\n",
    "svr_grid=GridSearchCV(svr,svr_para,cv=5)\n",
    "svr_grid.fit(x,y)\n",
    "svr_grid.best_params_"
   ]
  },
  {
   "cell_type": "code",
   "execution_count": 178,
   "metadata": {},
   "outputs": [
    {
     "name": "stdout",
     "output_type": "stream",
     "text": [
      "the random state at  <function mod at 0x0000003F4C1EA3A8> \n",
      "is:  139 \n",
      "and it produces \n",
      " r2 score of  0.41418330124643765 \n",
      " mean abs error value of  0.10502744184095504 \n",
      " mean squared error value of 0.0205399838857563 \n",
      " & root mean sq error  0.1433177724002027\n",
      "\n",
      "prediction:  [1.1714777  1.13936273 0.92090079 1.0409207  1.17250212 1.23267699\n",
      " 1.13317159 1.13686345 1.08179545 0.94920539 1.12201406 1.03294959\n",
      " 1.12972769 0.88302122 1.20632656 1.04934581 0.86959952 1.07589999\n",
      " 0.96884995 1.09662081 1.06273684 1.20585978 1.0806154  1.08101883\n",
      " 1.05822756 1.0773822  1.17671261 0.91181    1.18946126 1.17894677\n",
      " 1.09256483 1.09108323 1.23297904 1.08250712 0.89999327 0.77390653\n",
      " 1.02889978 1.24983052 1.33027169 1.19847147 1.11891758 1.12155591\n",
      " 0.90263045 1.07843998 1.11977891 1.18110623 1.02476967 1.21653091\n",
      " 0.8878726  1.16537951 1.12012853 1.08722723 1.21371937 1.06155945\n",
      " 0.89477023 1.08641469 0.99796275 1.28964152 1.02878769 1.03464995\n",
      " 1.08056711 1.21402322 1.15613403 1.35912878 1.27388448 1.21296336\n",
      " 0.96071377 1.11356559 0.95552744 1.02819667 1.00505959 0.86865065\n",
      " 1.12362484 1.04188079 1.04733626 1.04430684 1.17965189 1.0773111\n",
      " 1.0866841  1.14112088 1.18531307 1.1923503  0.93676264 1.09508921\n",
      " 1.11956371 1.02091105 0.91595631 1.08465481 1.09960208 0.89523531\n",
      " 1.09981262 1.13992138 1.30275263 0.98768365 1.16544891 1.14388111\n",
      " 1.00752237 1.01952422 1.1176217  1.11517275 1.27480822 0.88760906\n",
      " 1.1273382  0.83596292 0.99035355 1.30175702 1.2003633  1.05871242\n",
      " 1.09399773 1.03607818 1.1810546  1.11703159 1.20768936 1.09525775\n",
      " 1.1839211  1.18746417 1.18986033 1.04196611 0.98261523 1.15716747\n",
      " 1.05511273 0.91592887 0.95529069 1.20680182 1.20832101 0.99563306\n",
      " 1.26489953 0.89576003 0.98456123 1.17431805 1.0275167  1.2673299\n",
      " 0.76024456 0.98451686 1.1998632  1.19860289 1.01075314 1.17949417\n",
      " 1.227741   1.18726527 1.13630719 0.93131658 0.98349872 1.18222413\n",
      " 1.11343895 0.93823831 1.12019748 1.20988379 1.25704454 1.1687809\n",
      " 1.03723709 1.1783359  1.26855057 1.04745186 1.13286708 1.05416844\n",
      " 1.19827244 1.20547979 1.0202662  0.97518878 0.85968274 0.85167171\n",
      " 0.97914067 1.20720525 1.16923064 1.26153945 1.0721542  1.15861965\n",
      " 0.89967209 0.91381194 1.12877375 1.04270547 1.10058272 0.97738814\n",
      " 0.97700662 1.1507116  1.09350522 1.23438072 1.0696876  1.14482265\n",
      " 1.20566445 1.04976294 1.1096311  0.83128398 1.32056827 1.00401607\n",
      " 0.94204378 0.8577755  1.0112884  1.20624434 1.10121412 1.1028107\n",
      " 1.18847227 1.108632   1.07567899 0.78151878 1.18770472 1.0915047\n",
      " 0.85399645 1.17402554 1.03978724 1.07079093 0.94922691 1.03460235\n",
      " 1.08378166 0.99582081 1.08143785 1.15368351 0.92028957 1.11749007\n",
      " 0.91619133 1.02809505 1.19056066 1.1465358  0.81322779 1.23214689\n",
      " 1.19987893 1.14284392 0.88375218 1.01005991 1.18208712 1.25058769\n",
      " 1.13411778 1.2121666  1.14985495 1.15401282 0.99425359 1.0813809\n",
      " 0.95218023 1.07686084 1.01940536 1.19387325 0.919534   0.88723436\n",
      " 1.21869505 1.1993116  1.01048087 1.21572471 1.2210285  1.10986412\n",
      " 1.21425352 1.25013854 1.0113505  1.15978582 1.06952495 0.98707709\n",
      " 1.06729205 1.14236072 0.89388658 1.00373567 1.19020514 0.89138117\n",
      " 1.05479726 1.12523033 1.15954833 1.09789957 1.16896022 1.12654975\n",
      " 0.92211054 0.87247526 1.35677827 0.97404736 1.09139879 1.16458978\n",
      " 0.85073622 1.03515643 1.14956485 0.92951736 1.21663465 0.96226772\n",
      " 0.89375755 0.97104013 0.96725163 1.04153305 0.98286418 1.09894079\n",
      " 1.07626952 1.13430677 1.2061224  1.04034732 1.06941889 1.09004723\n",
      " 1.14322667 1.13105967 1.05753517 0.756748   1.13905169 1.10612079\n",
      " 1.19366994 0.96734115 1.14161898 1.23648983 1.03269754 1.01994618\n",
      " 0.90104303 0.99685576 1.16794102 1.17050944 1.19630469 0.90765838\n",
      " 0.99424018 1.31518255 0.99814099 1.16616673 1.09027267 1.10495171\n",
      " 1.10104208 1.10550223 0.94123729 1.08196257 1.0482803  1.26098819\n",
      " 1.09307178 1.0339516  0.82634207 0.90549637 1.11446859 1.04169142\n",
      " 0.99032069 1.13987869 1.08101684 1.29949802 1.11308253 1.03512105\n",
      " 1.10470493 1.17442983 1.32880451 0.85655158 1.16907568 1.2826793\n",
      " 1.16932535 0.99897651 1.1406349  0.95837581 1.17802216 1.14342405\n",
      " 1.09011717 1.24546405 0.83046839 1.07944481 0.94573897 1.11619858\n",
      " 1.11125357 1.04538777 1.13716793 1.16879143 1.18859398 0.97781923\n",
      " 0.91202751 1.06292722 1.11559155 1.02948839 1.05937476 0.82195271\n",
      " 1.23287912 1.09587792 1.06871752 1.10689774 0.97217806 1.06649272\n",
      " 1.05723325 1.22464131 1.13454345 0.98433955 1.17375681 1.18509411\n",
      " 0.97091404 1.20741805 0.98290828 1.20759175 1.21029329 0.89339194\n",
      " 1.12480025 0.96442612 1.07836832 1.08810526 0.88796097 1.03646871\n",
      " 1.22659027 1.11488666 1.03931292 1.1275962  1.0876986  1.05803934\n",
      " 0.84523561 1.07310563 1.17832744 1.0007105  1.16160704 1.00832063\n",
      " 0.90668971 1.12491287 1.05097657 1.09458133 0.94211746 1.03903185\n",
      " 1.013053   0.97231252 1.12436765 1.10363748 0.92646724 1.3155411\n",
      " 0.93832124 1.07011557 1.03539648 1.18364819 1.07836453 1.01750457\n",
      " 1.26792264 0.98316118 0.92588985 1.16399575 1.17925412 1.08472701\n",
      " 1.09612277 1.22310046 1.1306142  1.09010005 1.12671142 1.01798833\n",
      " 1.14274062 1.15206238 1.10807758 0.91045077 1.21505602 1.31653853\n",
      " 1.18877173 0.88186639 0.91431262 1.13066432 0.99047699 1.01645383\n",
      " 0.97195437 0.89512772 0.83399342 1.25348073 0.85878305 1.04148865\n",
      " 1.16464245 1.10431036 0.89997704 1.12927785 1.00433366 1.04951908\n",
      " 1.11046945 1.18518964 1.05711535 1.29360296 0.86636191 1.0202056\n",
      " 1.18065983 1.09493805 0.89355125 0.97519666 1.11193354 1.22037157]\n"
     ]
    },
    {
     "data": {
      "text/plain": [
       "139"
      ]
     },
     "execution_count": 178,
     "metadata": {},
     "output_type": "execute_result"
    }
   ],
   "source": [
    "svr=SVR(kernel='rbf',gamma=0.01)\n",
    "mod(svr,x,y)"
   ]
  },
  {
   "cell_type": "code",
   "execution_count": 183,
   "metadata": {},
   "outputs": [
    {
     "name": "stdout",
     "output_type": "stream",
     "text": [
      "the r2 score at SVR model is= 0.20939018492093542\n"
     ]
    }
   ],
   "source": [
    "#Cross Validation\n",
    "svr_scr=cross_val_score(svr,x,y,cv=5,scoring='r2')\n",
    "print('the r2 score at SVR model is=', svr_scr.mean())"
   ]
  },
  {
   "cell_type": "code",
   "execution_count": 179,
   "metadata": {},
   "outputs": [
    {
     "name": "stdout",
     "output_type": "stream",
     "text": [
      "the random state at  <function mod at 0x0000003F4C1EA3A8> \n",
      "is:  85 \n",
      "and it produces \n",
      " r2 score of  0.5475168306541922 \n",
      " mean abs error value of  0.09999888752113921 \n",
      " mean squared error value of 0.015865025743912037 \n",
      " & root mean sq error  0.1259564438363994\n",
      "\n",
      "prediction:  [1.16019646 1.15977273 0.9973301  1.10261905 1.23631387 1.23631387\n",
      " 1.09713018 1.15977273 1.12006369 1.10261905 1.16814516 1.03618421\n",
      " 1.16814516 0.97923977 1.13159696 1.12006369 0.89703125 1.13\n",
      " 1.03574713 0.93111111 1.03214286 1.15977273 1.1113871  1.12230769\n",
      " 1.08492063 1.15977273 1.16814516 0.87543353 1.15188285 1.13866359\n",
      " 1.13866359 1.09260101 1.12348837 1.13159696 0.94641509 0.73142857\n",
      " 1.02325    1.36234136 1.20121951 1.16814516 1.1113871  1.0225\n",
      " 1.00102564 1.01454545 1.14767123 1.20121951 1.03574713 1.23631387\n",
      " 0.93111111 1.09428571 1.09260101 1.08553571 1.23631387 1.06761905\n",
      " 0.88442424 1.03618421 1.01363636 1.23336676 1.09491525 1.05428571\n",
      " 1.1113871  1.35416076 1.15188285 0.73846154 1.33542857 1.20121951\n",
      " 1.01363636 1.09260101 1.02325    1.07603922 1.0770892  0.85280702\n",
      " 1.15977273 1.04906404 1.0770892  1.06363248 1.16814516 1.06341709\n",
      " 1.06341709 1.36016835 1.23631387 1.19271255 1.01347368 0.95333333\n",
      " 1.23116031 0.9544186  0.79041667 1.03766839 1.1275817  1.01347368\n",
      " 0.86833333 1.15977273 1.33316279 1.02325    1.09260101 1.15977273\n",
      " 1.04468619 1.07172285 1.14883333 1.12348837 1.33316279 0.79041667\n",
      " 1.16814516 0.7411828  1.03618421 1.36695266 1.16814516 1.12735\n",
      " 1.16019646 1.03574713 1.20121951 1.12735    1.16814516 1.09260101\n",
      " 1.12006369 1.22376471 1.07603922 1.07172285 1.03618421 1.16814516\n",
      " 1.06736842 0.93111111 0.89787037 1.12348837 1.30524658 1.03574713\n",
      " 0.73846154 0.89787037 1.07172285 1.20121951 1.04468619 1.3492\n",
      " 0.73868687 0.91925    1.19271255 1.23631387 1.03766839 1.15197581\n",
      " 1.19271255 1.14925926 1.15977273 0.93111111 1.00283582 1.20121951\n",
      " 1.10261905 0.85465839 1.12735    1.19271255 1.19703822 1.12006369\n",
      " 1.11296296 1.13866359 1.34915254 1.10416667 0.81827586 1.07172285\n",
      " 1.19703822 1.28910494 1.07172285 1.02325    0.85344086 0.85280702\n",
      " 1.01347368 1.23631387 1.13159696 1.33542857 1.06341709 1.22376471\n",
      " 1.00283582 0.93111111 1.16814516 1.04468619 0.81827586 0.9544186\n",
      " 0.95165517 1.15977273 1.08587654 1.34703704 1.06756098 1.20121951\n",
      " 1.23       1.07172285 1.0482684  0.73868687 1.20121951 1.01347368\n",
      " 1.02325    0.85280702 1.03574713 1.30524658 1.12735    1.09713018\n",
      " 1.16814516 0.81827586 1.03618421 0.8294686  1.13866359 1.07603922\n",
      " 0.78794118 1.23815353 1.04906404 1.03574713 1.01481481 1.07172285\n",
      " 1.13866359 1.03721893 1.06761905 1.2281893  1.02325    1.09260101\n",
      " 0.93111111 1.11296296 1.13866359 1.12348837 0.90795699 1.19703822\n",
      " 1.28910494 1.145      0.9472973  1.03574713 1.19271255 1.32558282\n",
      " 1.15977273 1.28910494 1.14264368 1.16814516 1.04906404 1.09713018\n",
      " 0.93111111 1.03574713 1.06363248 1.20121951 1.01101449 1.00283582\n",
      " 1.19271255 1.12006369 1.06341709 1.23631387 1.16019646 0.81827586\n",
      " 1.13492647 1.30524658 1.01621951 1.08492063 1.07603922 1.06363248\n",
      " 1.1275817  1.36016835 0.90795699 1.01347368 1.14264368 0.78794118\n",
      " 1.03877551 1.20121951 1.15977273 1.11027778 1.36016835 1.36016835\n",
      " 0.86920732 0.73142857 1.27285714 1.03574713 1.05147059 1.19703822\n",
      " 0.78243902 1.07172285 1.2281893  1.02325    1.30524658 0.89787037\n",
      " 0.93111111 1.03618421 1.00283582 1.06363248 1.03618421 1.12772727\n",
      " 1.07603922 1.08492063 1.14767123 1.0482684  1.10261905 1.08587654\n",
      " 1.09260101 1.36016835 1.07172285 0.73868687 1.06363248 1.09713018\n",
      " 1.13866359 0.87543353 1.19271255 1.13159696 1.04468619 1.03766839\n",
      " 0.93111111 1.03618421 1.07172285 1.20121951 1.19271255 0.8955914\n",
      " 0.99189189 1.3492     1.08553571 1.145      1.145      1.13159696\n",
      " 1.08587654 1.0225     0.95165517 1.10416667 1.0770892  1.36016835\n",
      " 1.03766839 1.03574713 0.7411828  0.90795699 1.15977273 1.07172285\n",
      " 0.9478     1.20121951 1.16227273 1.36234136 1.14883333 1.03618421\n",
      " 1.09713018 1.12348837 1.20121951 0.91925    1.12229885 1.32558282\n",
      " 1.12006369 1.03766839 1.19271255 0.90795699 1.19703822 0.81827586\n",
      " 1.16137931 1.34703704 0.94946565 1.07172285 1.02325    1.08553571\n",
      " 1.36016835 1.07172285 1.15977273 1.08587654 1.2281893  0.9544186\n",
      " 1.01594937 1.04468619 1.14925926 1.04468619 0.91677419 0.77531469\n",
      " 1.23631387 0.95333333 1.08587654 1.09260101 1.03766839 1.10416667\n",
      " 1.0482684  1.23631387 1.03766839 1.02325    1.20121951 1.19703822\n",
      " 1.02504    1.16814516 1.0195     1.23116031 1.35537525 0.93111111\n",
      " 1.10416667 1.02325    1.10416667 1.13       0.85280702 1.07603922\n",
      " 1.14767123 1.13159696 1.07172285 1.03766839 0.95925532 1.08553571\n",
      " 0.73142857 1.07172285 1.22376471 1.0482684  1.23631387 1.03574713\n",
      " 0.86368687 1.10416667 1.05428571 0.95925532 0.86920732 1.10261905\n",
      " 1.03574713 1.0195     1.16814516 1.12772727 0.89393939 1.36016835\n",
      " 0.89393939 1.03766839 1.04468619 1.15188285 1.12230769 1.08492063\n",
      " 1.35416076 1.02325    0.86166667 1.36016835 1.14767123 1.09260101\n",
      " 1.09260101 1.23336676 1.23336676 1.07172285 1.14264368 1.01481481\n",
      " 1.13159696 1.36016835 1.0225     0.87543353 1.16814516 1.20121951\n",
      " 1.13866359 0.85280702 0.82913043 1.36114943 1.03574713 1.10666667\n",
      " 1.04468619 0.86920732 0.90795699 1.34703704 0.73142857 1.06363248\n",
      " 1.12348837 1.03618421 0.93111111 1.13609756 1.09260101 1.06363248\n",
      " 1.13159696 1.23116031 1.03618421 1.3492     0.8294686  1.00283582\n",
      " 1.13866359 1.13159696 0.86166667 1.02504    1.03618421 1.23631387]\n"
     ]
    },
    {
     "data": {
      "text/plain": [
       "85"
      ]
     },
     "execution_count": 179,
     "metadata": {},
     "output_type": "execute_result"
    }
   ],
   "source": [
    "#AdaBoost Regressor\n",
    "from sklearn.ensemble import AdaBoostRegressor\n",
    "ada=AdaBoostRegressor()\n",
    "mod(ada,x,y)"
   ]
  },
  {
   "cell_type": "code",
   "execution_count": 180,
   "metadata": {},
   "outputs": [
    {
     "name": "stdout",
     "output_type": "stream",
     "text": [
      "the r2 score at AdaBoost Reg model is= 0.16773099352977047\n"
     ]
    }
   ],
   "source": [
    "#Cross Validation\n",
    "ada_scr=cross_val_score(ada,x,y,cv=5,scoring='r2')\n",
    "print('the r2 score at AdaBoost Reg model is=', ada_scr.mean())"
   ]
  },
  {
   "cell_type": "code",
   "execution_count": 184,
   "metadata": {},
   "outputs": [
    {
     "data": {
      "text/plain": [
       "['LR for Avocado Dataset.pkl']"
      ]
     },
     "execution_count": 184,
     "metadata": {},
     "output_type": "execute_result"
    }
   ],
   "source": [
    "import joblib\n",
    "joblib.dump(lr,\"LR for Avocado Dataset.pkl\")"
   ]
  }
 ],
 "metadata": {
  "kernelspec": {
   "display_name": "Python 3",
   "language": "python",
   "name": "python3"
  },
  "language_info": {
   "codemirror_mode": {
    "name": "ipython",
    "version": 3
   },
   "file_extension": ".py",
   "mimetype": "text/x-python",
   "name": "python",
   "nbconvert_exporter": "python",
   "pygments_lexer": "ipython3",
   "version": "3.7.4"
  }
 },
 "nbformat": 4,
 "nbformat_minor": 2
}
