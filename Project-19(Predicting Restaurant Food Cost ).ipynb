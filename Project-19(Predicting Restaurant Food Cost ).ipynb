{
 "cells": [
  {
   "cell_type": "code",
   "execution_count": 1,
   "metadata": {},
   "outputs": [],
   "source": [
    "import pandas as pd\n",
    "import numpy as np\n",
    "import seaborn as sns\n",
    "import matplotlib.pyplot as plt\n",
    "import warnings\n",
    "warnings.filterwarnings('ignore')"
   ]
  },
  {
   "cell_type": "code",
   "execution_count": 2,
   "metadata": {},
   "outputs": [],
   "source": [
    "train=pd.read_excel('Food_Cost_Train.xlsx')\n",
    "test=pd.read_excel('Food_Cost_Test.xlsx')"
   ]
  },
  {
   "cell_type": "code",
   "execution_count": 72,
   "metadata": {},
   "outputs": [
    {
     "data": {
      "text/html": [
       "<div>\n",
       "<style scoped>\n",
       "    .dataframe tbody tr th:only-of-type {\n",
       "        vertical-align: middle;\n",
       "    }\n",
       "\n",
       "    .dataframe tbody tr th {\n",
       "        vertical-align: top;\n",
       "    }\n",
       "\n",
       "    .dataframe thead th {\n",
       "        text-align: right;\n",
       "    }\n",
       "</style>\n",
       "<table border=\"1\" class=\"dataframe\">\n",
       "  <thead>\n",
       "    <tr style=\"text-align: right;\">\n",
       "      <th></th>\n",
       "      <th>TITLE</th>\n",
       "      <th>RESTAURANT_ID</th>\n",
       "      <th>CUISINES</th>\n",
       "      <th>TIME</th>\n",
       "      <th>CITY</th>\n",
       "      <th>LOCALITY</th>\n",
       "      <th>RATING</th>\n",
       "      <th>VOTES</th>\n",
       "      <th>COST</th>\n",
       "    </tr>\n",
       "  </thead>\n",
       "  <tbody>\n",
       "    <tr>\n",
       "      <td>0</td>\n",
       "      <td>CASUAL DINING</td>\n",
       "      <td>9438</td>\n",
       "      <td>Malwani, Goan, North Indian</td>\n",
       "      <td>11am – 4pm, 7:30pm – 11:30pm (Mon-Sun)</td>\n",
       "      <td>Thane</td>\n",
       "      <td>Dombivali East</td>\n",
       "      <td>3.6</td>\n",
       "      <td>49 votes</td>\n",
       "      <td>1200</td>\n",
       "    </tr>\n",
       "    <tr>\n",
       "      <td>1</td>\n",
       "      <td>CASUAL DINING,BAR</td>\n",
       "      <td>13198</td>\n",
       "      <td>Asian, Modern Indian, Japanese</td>\n",
       "      <td>6pm – 11pm (Mon-Sun)</td>\n",
       "      <td>Chennai</td>\n",
       "      <td>Ramapuram</td>\n",
       "      <td>4.2</td>\n",
       "      <td>30 votes</td>\n",
       "      <td>1500</td>\n",
       "    </tr>\n",
       "    <tr>\n",
       "      <td>2</td>\n",
       "      <td>CASUAL DINING</td>\n",
       "      <td>10915</td>\n",
       "      <td>North Indian, Chinese, Biryani, Hyderabadi</td>\n",
       "      <td>11am – 3:30pm, 7pm – 11pm (Mon-Sun)</td>\n",
       "      <td>Chennai</td>\n",
       "      <td>Saligramam</td>\n",
       "      <td>3.8</td>\n",
       "      <td>221 votes</td>\n",
       "      <td>800</td>\n",
       "    </tr>\n",
       "    <tr>\n",
       "      <td>3</td>\n",
       "      <td>QUICK BITES</td>\n",
       "      <td>6346</td>\n",
       "      <td>Tibetan, Chinese</td>\n",
       "      <td>11:30am – 1am (Mon-Sun)</td>\n",
       "      <td>Mumbai</td>\n",
       "      <td>Bandra West</td>\n",
       "      <td>4.1</td>\n",
       "      <td>24 votes</td>\n",
       "      <td>800</td>\n",
       "    </tr>\n",
       "    <tr>\n",
       "      <td>4</td>\n",
       "      <td>DESSERT PARLOR</td>\n",
       "      <td>15387</td>\n",
       "      <td>Desserts</td>\n",
       "      <td>11am – 1am (Mon-Sun)</td>\n",
       "      <td>Mumbai</td>\n",
       "      <td>Lower Parel</td>\n",
       "      <td>3.8</td>\n",
       "      <td>165 votes</td>\n",
       "      <td>300</td>\n",
       "    </tr>\n",
       "  </tbody>\n",
       "</table>\n",
       "</div>"
      ],
      "text/plain": [
       "               TITLE  RESTAURANT_ID  \\\n",
       "0      CASUAL DINING           9438   \n",
       "1  CASUAL DINING,BAR          13198   \n",
       "2      CASUAL DINING          10915   \n",
       "3        QUICK BITES           6346   \n",
       "4     DESSERT PARLOR          15387   \n",
       "\n",
       "                                     CUISINES  \\\n",
       "0                 Malwani, Goan, North Indian   \n",
       "1              Asian, Modern Indian, Japanese   \n",
       "2  North Indian, Chinese, Biryani, Hyderabadi   \n",
       "3                            Tibetan, Chinese   \n",
       "4                                    Desserts   \n",
       "\n",
       "                                     TIME     CITY        LOCALITY RATING  \\\n",
       "0  11am – 4pm, 7:30pm – 11:30pm (Mon-Sun)    Thane  Dombivali East    3.6   \n",
       "1                    6pm – 11pm (Mon-Sun)  Chennai       Ramapuram    4.2   \n",
       "2     11am – 3:30pm, 7pm – 11pm (Mon-Sun)  Chennai      Saligramam    3.8   \n",
       "3                 11:30am – 1am (Mon-Sun)   Mumbai     Bandra West    4.1   \n",
       "4                    11am – 1am (Mon-Sun)   Mumbai     Lower Parel    3.8   \n",
       "\n",
       "       VOTES  COST  \n",
       "0   49 votes  1200  \n",
       "1   30 votes  1500  \n",
       "2  221 votes   800  \n",
       "3   24 votes   800  \n",
       "4  165 votes   300  "
      ]
     },
     "execution_count": 72,
     "metadata": {},
     "output_type": "execute_result"
    }
   ],
   "source": [
    "train.head()"
   ]
  },
  {
   "cell_type": "code",
   "execution_count": 73,
   "metadata": {},
   "outputs": [
    {
     "data": {
      "text/html": [
       "<div>\n",
       "<style scoped>\n",
       "    .dataframe tbody tr th:only-of-type {\n",
       "        vertical-align: middle;\n",
       "    }\n",
       "\n",
       "    .dataframe tbody tr th {\n",
       "        vertical-align: top;\n",
       "    }\n",
       "\n",
       "    .dataframe thead th {\n",
       "        text-align: right;\n",
       "    }\n",
       "</style>\n",
       "<table border=\"1\" class=\"dataframe\">\n",
       "  <thead>\n",
       "    <tr style=\"text-align: right;\">\n",
       "      <th></th>\n",
       "      <th>TITLE</th>\n",
       "      <th>RESTAURANT_ID</th>\n",
       "      <th>CUISINES</th>\n",
       "      <th>TIME</th>\n",
       "      <th>CITY</th>\n",
       "      <th>LOCALITY</th>\n",
       "      <th>RATING</th>\n",
       "      <th>VOTES</th>\n",
       "    </tr>\n",
       "  </thead>\n",
       "  <tbody>\n",
       "    <tr>\n",
       "      <td>0</td>\n",
       "      <td>CASUAL DINING</td>\n",
       "      <td>4085</td>\n",
       "      <td>North Indian, Chinese, Mughlai, Kebab</td>\n",
       "      <td>12noon – 12midnight (Mon-Sun)</td>\n",
       "      <td>Noida</td>\n",
       "      <td>Sector 18</td>\n",
       "      <td>4.3</td>\n",
       "      <td>564 votes</td>\n",
       "    </tr>\n",
       "    <tr>\n",
       "      <td>1</td>\n",
       "      <td>QUICK BITES</td>\n",
       "      <td>12680</td>\n",
       "      <td>South Indian, Fast Food, Pizza, North Indian</td>\n",
       "      <td>7am – 12:30AM (Mon-Sun)</td>\n",
       "      <td>Mumbai</td>\n",
       "      <td>Grant Road</td>\n",
       "      <td>4.2</td>\n",
       "      <td>61 votes</td>\n",
       "    </tr>\n",
       "    <tr>\n",
       "      <td>2</td>\n",
       "      <td>CASUAL DINING</td>\n",
       "      <td>1411</td>\n",
       "      <td>North Indian, Seafood, Biryani, Chinese</td>\n",
       "      <td>11am – 11:30pm (Mon-Sun)</td>\n",
       "      <td>Mumbai</td>\n",
       "      <td>Marine Lines</td>\n",
       "      <td>3.8</td>\n",
       "      <td>350 votes</td>\n",
       "    </tr>\n",
       "    <tr>\n",
       "      <td>3</td>\n",
       "      <td>None</td>\n",
       "      <td>204</td>\n",
       "      <td>Biryani</td>\n",
       "      <td>9am – 10pm (Mon, Wed, Thu, Fri, Sat, Sun), 10:...</td>\n",
       "      <td>Faridabad</td>\n",
       "      <td>NIT</td>\n",
       "      <td>3.8</td>\n",
       "      <td>1445 votes</td>\n",
       "    </tr>\n",
       "    <tr>\n",
       "      <td>4</td>\n",
       "      <td>QUICK BITES</td>\n",
       "      <td>13453</td>\n",
       "      <td>South Indian, Kerala</td>\n",
       "      <td>11am – 10pm (Mon-Sun)</td>\n",
       "      <td>Kochi</td>\n",
       "      <td>Kaloor</td>\n",
       "      <td>3.6</td>\n",
       "      <td>23 votes</td>\n",
       "    </tr>\n",
       "  </tbody>\n",
       "</table>\n",
       "</div>"
      ],
      "text/plain": [
       "           TITLE  RESTAURANT_ID                                      CUISINES  \\\n",
       "0  CASUAL DINING           4085         North Indian, Chinese, Mughlai, Kebab   \n",
       "1    QUICK BITES          12680  South Indian, Fast Food, Pizza, North Indian   \n",
       "2  CASUAL DINING           1411       North Indian, Seafood, Biryani, Chinese   \n",
       "3           None            204                                       Biryani   \n",
       "4    QUICK BITES          13453                          South Indian, Kerala   \n",
       "\n",
       "                                                TIME       CITY      LOCALITY  \\\n",
       "0                      12noon – 12midnight (Mon-Sun)      Noida     Sector 18   \n",
       "1                            7am – 12:30AM (Mon-Sun)     Mumbai    Grant Road   \n",
       "2                           11am – 11:30pm (Mon-Sun)     Mumbai  Marine Lines   \n",
       "3  9am – 10pm (Mon, Wed, Thu, Fri, Sat, Sun), 10:...  Faridabad           NIT   \n",
       "4                              11am – 10pm (Mon-Sun)      Kochi        Kaloor   \n",
       "\n",
       "  RATING       VOTES  \n",
       "0    4.3   564 votes  \n",
       "1    4.2    61 votes  \n",
       "2    3.8   350 votes  \n",
       "3    3.8  1445 votes  \n",
       "4    3.6    23 votes  "
      ]
     },
     "execution_count": 73,
     "metadata": {},
     "output_type": "execute_result"
    }
   ],
   "source": [
    "test.head()"
   ]
  },
  {
   "cell_type": "code",
   "execution_count": 74,
   "metadata": {},
   "outputs": [
    {
     "name": "stdout",
     "output_type": "stream",
     "text": [
      "(12690, 9) (4231, 8)\n"
     ]
    }
   ],
   "source": [
    "print(train.shape,test.shape)"
   ]
  },
  {
   "cell_type": "code",
   "execution_count": 75,
   "metadata": {},
   "outputs": [
    {
     "name": "stdout",
     "output_type": "stream",
     "text": [
      "Index(['TITLE', 'RESTAURANT_ID', 'CUISINES', 'TIME', 'CITY', 'LOCALITY',\n",
      "       'RATING', 'VOTES', 'COST'],\n",
      "      dtype='object') Index(['TITLE', 'RESTAURANT_ID', 'CUISINES', 'TIME', 'CITY', 'LOCALITY',\n",
      "       'RATING', 'VOTES'],\n",
      "      dtype='object')\n"
     ]
    }
   ],
   "source": [
    "print(train.columns,test.columns)"
   ]
  },
  {
   "cell_type": "code",
   "execution_count": 91,
   "metadata": {},
   "outputs": [
    {
     "name": "stdout",
     "output_type": "stream",
     "text": [
      "<class 'pandas.core.frame.DataFrame'>\n",
      "RangeIndex: 12690 entries, 0 to 12689\n",
      "Data columns (total 9 columns):\n",
      "TITLE            12690 non-null object\n",
      "RESTAURANT_ID    12690 non-null int64\n",
      "CUISINES         12690 non-null object\n",
      "TIME             12690 non-null object\n",
      "CITY             12578 non-null object\n",
      "LOCALITY         12592 non-null object\n",
      "RATING           12688 non-null object\n",
      "VOTES            11486 non-null object\n",
      "COST             12690 non-null int64\n",
      "dtypes: int64(2), object(7)\n",
      "memory usage: 892.4+ KB\n",
      "<class 'pandas.core.frame.DataFrame'>\n",
      "RangeIndex: 4231 entries, 0 to 4230\n",
      "Data columns (total 8 columns):\n",
      "TITLE            4231 non-null object\n",
      "RESTAURANT_ID    4231 non-null int64\n",
      "CUISINES         4231 non-null object\n",
      "TIME             4231 non-null object\n",
      "CITY             4196 non-null object\n",
      "LOCALITY         4201 non-null object\n",
      "RATING           4229 non-null object\n",
      "VOTES            3829 non-null object\n",
      "dtypes: int64(1), object(7)\n",
      "memory usage: 264.6+ KB\n",
      "None None\n"
     ]
    }
   ],
   "source": [
    "print(train.info(),test.info())"
   ]
  },
  {
   "cell_type": "code",
   "execution_count": 92,
   "metadata": {},
   "outputs": [
    {
     "data": {
      "text/plain": [
       "TITLE               0\n",
       "RESTAURANT_ID       0\n",
       "CUISINES            0\n",
       "TIME                0\n",
       "CITY              112\n",
       "LOCALITY           98\n",
       "RATING              2\n",
       "VOTES            1204\n",
       "COST                0\n",
       "dtype: int64"
      ]
     },
     "execution_count": 92,
     "metadata": {},
     "output_type": "execute_result"
    }
   ],
   "source": [
    "train.isnull().sum()"
   ]
  },
  {
   "cell_type": "code",
   "execution_count": 93,
   "metadata": {},
   "outputs": [
    {
     "data": {
      "text/plain": [
       "<matplotlib.axes._subplots.AxesSubplot at 0x4f2aa8a4c8>"
      ]
     },
     "execution_count": 93,
     "metadata": {},
     "output_type": "execute_result"
    },
    {
     "data": {
      "image/png": "[encoded data removed]",
      "text/plain": [
       "<Figure size 432x288 with 2 Axes>"
      ]
     },
     "metadata": {
      "needs_background": "light"
     },
     "output_type": "display_data"
    }
   ],
   "source": [
    "#To check missing value\n",
    "sns.heatmap(train.isnull())"
   ]
  },
  {
   "cell_type": "code",
   "execution_count": 3,
   "metadata": {},
   "outputs": [],
   "source": [
    "train['CITY'].fillna(train['CITY'].mode()[0], inplace=True)\n",
    "train['LOCALITY'].fillna(train['LOCALITY'].mode()[0], inplace=True)\n",
    "train['RATING'].fillna(train['RATING'].mode()[0], inplace=True)\n",
    "train['VOTES'].fillna(train['VOTES'].mode()[0], inplace=True)"
   ]
  },
  {
   "cell_type": "code",
   "execution_count": 95,
   "metadata": {},
   "outputs": [
    {
     "data": {
      "text/plain": [
       "TITLE              0\n",
       "RESTAURANT_ID      0\n",
       "CUISINES           0\n",
       "TIME               0\n",
       "CITY              35\n",
       "LOCALITY          30\n",
       "RATING             2\n",
       "VOTES            402\n",
       "dtype: int64"
      ]
     },
     "execution_count": 95,
     "metadata": {},
     "output_type": "execute_result"
    }
   ],
   "source": [
    "test.isnull().sum()"
   ]
  },
  {
   "cell_type": "code",
   "execution_count": 96,
   "metadata": {},
   "outputs": [
    {
     "data": {
      "text/plain": [
       "<matplotlib.axes._subplots.AxesSubplot at 0x4f2aaa7408>"
      ]
     },
     "execution_count": 96,
     "metadata": {},
     "output_type": "execute_result"
    },
    {
     "data": {
      "image/png": "[encoded data removed]",
      "text/plain": [
       "<Figure size 432x288 with 2 Axes>"
      ]
     },
     "metadata": {
      "needs_background": "light"
     },
     "output_type": "display_data"
    }
   ],
   "source": [
    "#To check missing value\n",
    "sns.heatmap(test.isnull())"
   ]
  },
  {
   "cell_type": "code",
   "execution_count": 4,
   "metadata": {},
   "outputs": [],
   "source": [
    "test['CITY'].fillna(test['CITY'].mode()[0], inplace=True)\n",
    "test['LOCALITY'].fillna(test['LOCALITY'].mode()[0], inplace=True)\n",
    "test['RATING'].fillna(test['RATING'].mode()[0], inplace=True)\n",
    "test['VOTES'].fillna(test['VOTES'].mode()[0], inplace=True)"
   ]
  },
  {
   "cell_type": "code",
   "execution_count": 36,
   "metadata": {},
   "outputs": [
    {
     "data": {
      "text/plain": [
       "25"
      ]
     },
     "execution_count": 36,
     "metadata": {},
     "output_type": "execute_result"
    }
   ],
   "source": [
    "train.duplicated().sum()"
   ]
  },
  {
   "cell_type": "code",
   "execution_count": 5,
   "metadata": {},
   "outputs": [],
   "source": [
    "#Removing Duplicates\n",
    "train=train.drop_duplicates()"
   ]
  },
  {
   "cell_type": "code",
   "execution_count": 38,
   "metadata": {},
   "outputs": [
    {
     "data": {
      "text/plain": [
       "1"
      ]
     },
     "execution_count": 38,
     "metadata": {},
     "output_type": "execute_result"
    }
   ],
   "source": [
    "test.duplicated().sum()"
   ]
  },
  {
   "cell_type": "code",
   "execution_count": 6,
   "metadata": {},
   "outputs": [],
   "source": [
    "#Removing Duplicates\n",
    "test=test.drop_duplicates()"
   ]
  },
  {
   "cell_type": "code",
   "execution_count": 40,
   "metadata": {},
   "outputs": [
    {
     "data": {
      "text/plain": [
       "TITLE              113\n",
       "RESTAURANT_ID    11892\n",
       "CUISINES          4155\n",
       "TIME              2689\n",
       "CITY               359\n",
       "LOCALITY          1416\n",
       "RATING              32\n",
       "VOTES             1847\n",
       "COST                86\n",
       "dtype: int64"
      ]
     },
     "execution_count": 40,
     "metadata": {},
     "output_type": "execute_result"
    }
   ],
   "source": [
    "train.nunique()"
   ]
  },
  {
   "cell_type": "code",
   "execution_count": 41,
   "metadata": {},
   "outputs": [
    {
     "data": {
      "text/plain": [
       "<seaborn.axisgrid.PairGrid at 0x94ce1fd688>"
      ]
     },
     "execution_count": 41,
     "metadata": {},
     "output_type": "execute_result"
    },
    {
     "data": {
      "image/png": "[encoded data removed]",
      "text/plain": [
       "<Figure size 360x360 with 6 Axes>"
      ]
     },
     "metadata": {
      "needs_background": "light"
     },
     "output_type": "display_data"
    }
   ],
   "source": [
    "sns.pairplot(train)"
   ]
  },
  {
   "cell_type": "code",
   "execution_count": 7,
   "metadata": {},
   "outputs": [],
   "source": [
    "data=pd.concat([train,test])\n",
    "data =data.reset_index(drop=True)"
   ]
  },
  {
   "cell_type": "markdown",
   "metadata": {},
   "source": [
    "Label Encoder"
   ]
  },
  {
   "cell_type": "code",
   "execution_count": 8,
   "metadata": {},
   "outputs": [],
   "source": [
    "from sklearn.preprocessing import LabelEncoder\n",
    "le=LabelEncoder() "
   ]
  },
  {
   "cell_type": "code",
   "execution_count": 9,
   "metadata": {},
   "outputs": [],
   "source": [
    "for col in train.columns:\n",
    "    dtype=train[col].dtypes\n",
    "    if dtype=='object':\n",
    "        le=LabelEncoder()\n",
    "        train[col]=le.fit_transform(train[col])"
   ]
  },
  {
   "cell_type": "code",
   "execution_count": 10,
   "metadata": {},
   "outputs": [
    {
     "data": {
      "text/html": [
       "<div>\n",
       "<style scoped>\n",
       "    .dataframe tbody tr th:only-of-type {\n",
       "        vertical-align: middle;\n",
       "    }\n",
       "\n",
       "    .dataframe tbody tr th {\n",
       "        vertical-align: top;\n",
       "    }\n",
       "\n",
       "    .dataframe thead th {\n",
       "        text-align: right;\n",
       "    }\n",
       "</style>\n",
       "<table border=\"1\" class=\"dataframe\">\n",
       "  <thead>\n",
       "    <tr style=\"text-align: right;\">\n",
       "      <th></th>\n",
       "      <th>TITLE</th>\n",
       "      <th>RESTAURANT_ID</th>\n",
       "      <th>CUISINES</th>\n",
       "      <th>TIME</th>\n",
       "      <th>CITY</th>\n",
       "      <th>LOCALITY</th>\n",
       "      <th>RATING</th>\n",
       "      <th>VOTES</th>\n",
       "      <th>COST</th>\n",
       "    </tr>\n",
       "  </thead>\n",
       "  <tbody>\n",
       "    <tr>\n",
       "      <td>0</td>\n",
       "      <td>31</td>\n",
       "      <td>9438</td>\n",
       "      <td>2627</td>\n",
       "      <td>739</td>\n",
       "      <td>320</td>\n",
       "      <td>285</td>\n",
       "      <td>17</td>\n",
       "      <td>1278</td>\n",
       "      <td>1200</td>\n",
       "    </tr>\n",
       "    <tr>\n",
       "      <td>1</td>\n",
       "      <td>33</td>\n",
       "      <td>13198</td>\n",
       "      <td>289</td>\n",
       "      <td>1885</td>\n",
       "      <td>67</td>\n",
       "      <td>1046</td>\n",
       "      <td>23</td>\n",
       "      <td>950</td>\n",
       "      <td>1500</td>\n",
       "    </tr>\n",
       "    <tr>\n",
       "      <td>2</td>\n",
       "      <td>31</td>\n",
       "      <td>10915</td>\n",
       "      <td>2976</td>\n",
       "      <td>661</td>\n",
       "      <td>67</td>\n",
       "      <td>1101</td>\n",
       "      <td>19</td>\n",
       "      <td>712</td>\n",
       "      <td>800</td>\n",
       "    </tr>\n",
       "    <tr>\n",
       "      <td>3</td>\n",
       "      <td>95</td>\n",
       "      <td>6346</td>\n",
       "      <td>4130</td>\n",
       "      <td>275</td>\n",
       "      <td>222</td>\n",
       "      <td>136</td>\n",
       "      <td>22</td>\n",
       "      <td>787</td>\n",
       "      <td>800</td>\n",
       "    </tr>\n",
       "    <tr>\n",
       "      <td>4</td>\n",
       "      <td>50</td>\n",
       "      <td>15387</td>\n",
       "      <td>1766</td>\n",
       "      <td>615</td>\n",
       "      <td>222</td>\n",
       "      <td>620</td>\n",
       "      <td>19</td>\n",
       "      <td>470</td>\n",
       "      <td>300</td>\n",
       "    </tr>\n",
       "  </tbody>\n",
       "</table>\n",
       "</div>"
      ],
      "text/plain": [
       "   TITLE  RESTAURANT_ID  CUISINES  TIME  CITY  LOCALITY  RATING  VOTES  COST\n",
       "0     31           9438      2627   739   320       285      17   1278  1200\n",
       "1     33          13198       289  1885    67      1046      23    950  1500\n",
       "2     31          10915      2976   661    67      1101      19    712   800\n",
       "3     95           6346      4130   275   222       136      22    787   800\n",
       "4     50          15387      1766   615   222       620      19    470   300"
      ]
     },
     "execution_count": 10,
     "metadata": {},
     "output_type": "execute_result"
    }
   ],
   "source": [
    "train.head()"
   ]
  },
  {
   "cell_type": "code",
   "execution_count": 11,
   "metadata": {},
   "outputs": [],
   "source": [
    "for col in test.columns:\n",
    "    dtype=test[col].dtypes\n",
    "    if dtype=='object':\n",
    "        le=LabelEncoder()\n",
    "        test[col]=le.fit_transform(test[col])"
   ]
  },
  {
   "cell_type": "code",
   "execution_count": 12,
   "metadata": {},
   "outputs": [
    {
     "data": {
      "text/html": [
       "<div>\n",
       "<style scoped>\n",
       "    .dataframe tbody tr th:only-of-type {\n",
       "        vertical-align: middle;\n",
       "    }\n",
       "\n",
       "    .dataframe tbody tr th {\n",
       "        vertical-align: top;\n",
       "    }\n",
       "\n",
       "    .dataframe thead th {\n",
       "        text-align: right;\n",
       "    }\n",
       "</style>\n",
       "<table border=\"1\" class=\"dataframe\">\n",
       "  <thead>\n",
       "    <tr style=\"text-align: right;\">\n",
       "      <th></th>\n",
       "      <th>TITLE</th>\n",
       "      <th>RESTAURANT_ID</th>\n",
       "      <th>CUISINES</th>\n",
       "      <th>TIME</th>\n",
       "      <th>CITY</th>\n",
       "      <th>LOCALITY</th>\n",
       "      <th>RATING</th>\n",
       "      <th>VOTES</th>\n",
       "    </tr>\n",
       "  </thead>\n",
       "  <tbody>\n",
       "    <tr>\n",
       "      <td>0</td>\n",
       "      <td>23</td>\n",
       "      <td>4085</td>\n",
       "      <td>1293</td>\n",
       "      <td>503</td>\n",
       "      <td>110</td>\n",
       "      <td>662</td>\n",
       "      <td>23</td>\n",
       "      <td>823</td>\n",
       "    </tr>\n",
       "    <tr>\n",
       "      <td>1</td>\n",
       "      <td>75</td>\n",
       "      <td>12680</td>\n",
       "      <td>1632</td>\n",
       "      <td>933</td>\n",
       "      <td>96</td>\n",
       "      <td>221</td>\n",
       "      <td>22</td>\n",
       "      <td>871</td>\n",
       "    </tr>\n",
       "    <tr>\n",
       "      <td>2</td>\n",
       "      <td>23</td>\n",
       "      <td>1411</td>\n",
       "      <td>1455</td>\n",
       "      <td>219</td>\n",
       "      <td>96</td>\n",
       "      <td>411</td>\n",
       "      <td>18</td>\n",
       "      <td>575</td>\n",
       "    </tr>\n",
       "    <tr>\n",
       "      <td>3</td>\n",
       "      <td>66</td>\n",
       "      <td>204</td>\n",
       "      <td>208</td>\n",
       "      <td>1071</td>\n",
       "      <td>41</td>\n",
       "      <td>456</td>\n",
       "      <td>18</td>\n",
       "      <td>179</td>\n",
       "    </tr>\n",
       "    <tr>\n",
       "      <td>4</td>\n",
       "      <td>75</td>\n",
       "      <td>13453</td>\n",
       "      <td>1637</td>\n",
       "      <td>208</td>\n",
       "      <td>78</td>\n",
       "      <td>300</td>\n",
       "      <td>16</td>\n",
       "      <td>394</td>\n",
       "    </tr>\n",
       "  </tbody>\n",
       "</table>\n",
       "</div>"
      ],
      "text/plain": [
       "   TITLE  RESTAURANT_ID  CUISINES  TIME  CITY  LOCALITY  RATING  VOTES\n",
       "0     23           4085      1293   503   110       662      23    823\n",
       "1     75          12680      1632   933    96       221      22    871\n",
       "2     23           1411      1455   219    96       411      18    575\n",
       "3     66            204       208  1071    41       456      18    179\n",
       "4     75          13453      1637   208    78       300      16    394"
      ]
     },
     "execution_count": 12,
     "metadata": {},
     "output_type": "execute_result"
    }
   ],
   "source": [
    "test.head()"
   ]
  },
  {
   "cell_type": "code",
   "execution_count": 13,
   "metadata": {},
   "outputs": [
    {
     "data": {
      "text/plain": [
       "<matplotlib.axes._subplots.AxesSubplot at 0x30bb885588>"
      ]
     },
     "execution_count": 13,
     "metadata": {},
     "output_type": "execute_result"
    },
    {
     "data": {
      "image/png": "[encoded data removed]",
      "text/plain": [
       "<Figure size 1080x360 with 1 Axes>"
      ]
     },
     "metadata": {
      "needs_background": "light"
     },
     "output_type": "display_data"
    }
   ],
   "source": [
    "train.plot(kind='box',grid=True,title=\"Boxplot for Restaurant Food Cost Dataset\",legend=True,rot=30,figsize=(15,5))"
   ]
  },
  {
   "cell_type": "code",
   "execution_count": 14,
   "metadata": {},
   "outputs": [
    {
     "name": "stdout",
     "output_type": "stream",
     "text": [
      "(12665, 9)\n",
      "(11948, 9)\n"
     ]
    }
   ],
   "source": [
    "#check for Outlier\n",
    "from scipy.stats import zscore\n",
    "z_score=abs(zscore(train))\n",
    "print(train.shape)\n",
    "train=train.loc[(z_score < 3).all(axis=1)]\n",
    "print(train.shape)"
   ]
  },
  {
   "cell_type": "code",
   "execution_count": 15,
   "metadata": {},
   "outputs": [
    {
     "data": {
      "text/plain": [
       "<matplotlib.axes._subplots.AxesSubplot at 0x30bbd54ac8>"
      ]
     },
     "execution_count": 15,
     "metadata": {},
     "output_type": "execute_result"
    },
    {
     "data": {
      "image/png": "[encoded data removed]",
      "text/plain": [
       "<Figure size 1080x360 with 1 Axes>"
      ]
     },
     "metadata": {
      "needs_background": "light"
     },
     "output_type": "display_data"
    }
   ],
   "source": [
    "test.plot(kind='box',grid=True,title=\"Boxplot for Restaurant Food Cost Test Dataset\",legend=True,rot=30,figsize=(15,5))"
   ]
  },
  {
   "cell_type": "code",
   "execution_count": 16,
   "metadata": {},
   "outputs": [
    {
     "name": "stdout",
     "output_type": "stream",
     "text": [
      "(4230, 8)\n",
      "(4230, 8)\n"
     ]
    }
   ],
   "source": [
    "#check for Outlier\n",
    "from scipy.stats import zscore\n",
    "z_score=abs(zscore(test))\n",
    "print(test.shape)\n",
    "test=test.loc[(z_score < 3).all(axis=1)]\n",
    "print(test.shape)"
   ]
  },
  {
   "cell_type": "code",
   "execution_count": 17,
   "metadata": {},
   "outputs": [
    {
     "data": {
      "text/plain": [
       "TITLE           -0.071850\n",
       "RESTAURANT_ID    0.003987\n",
       "CUISINES        -0.215489\n",
       "TIME             0.341419\n",
       "CITY             0.308341\n",
       "LOCALITY         0.344195\n",
       "RATING           0.142161\n",
       "VOTES           -0.263411\n",
       "COST             1.738119\n",
       "dtype: float64"
      ]
     },
     "execution_count": 17,
     "metadata": {},
     "output_type": "execute_result"
    }
   ],
   "source": [
    "#Check Skewness\n",
    "train.skew()"
   ]
  },
  {
   "cell_type": "code",
   "execution_count": 18,
   "metadata": {},
   "outputs": [],
   "source": [
    "for col in train.columns:\n",
    "    if train.skew().loc[col] > 0.55:\n",
    "        train[col]=np.log1p(train[col])\n",
    "    if train.skew().loc[col]<=0.55:\n",
    "        train[col]=np.log1p(train[col])"
   ]
  },
  {
   "cell_type": "code",
   "execution_count": 19,
   "metadata": {},
   "outputs": [
    {
     "data": {
      "text/plain": [
       "TITLE           -2.110393\n",
       "RESTAURANT_ID   -1.992822\n",
       "CUISINES        -1.856774\n",
       "TIME            -1.494479\n",
       "CITY            -0.441740\n",
       "LOCALITY        -1.039332\n",
       "RATING          -1.140946\n",
       "VOTES           -2.892593\n",
       "COST            -0.067696\n",
       "dtype: float64"
      ]
     },
     "execution_count": 19,
     "metadata": {},
     "output_type": "execute_result"
    }
   ],
   "source": [
    "train.skew()"
   ]
  },
  {
   "cell_type": "code",
   "execution_count": 20,
   "metadata": {},
   "outputs": [
    {
     "data": {
      "text/plain": [
       "TITLE           -0.020354\n",
       "RESTAURANT_ID    0.007058\n",
       "CUISINES        -0.210741\n",
       "TIME             0.314174\n",
       "CITY             0.087155\n",
       "LOCALITY         0.312940\n",
       "RATING          -0.728937\n",
       "VOTES           -0.193407\n",
       "dtype: float64"
      ]
     },
     "execution_count": 20,
     "metadata": {},
     "output_type": "execute_result"
    }
   ],
   "source": [
    "#Check Skewness\n",
    "test.skew()"
   ]
  },
  {
   "cell_type": "code",
   "execution_count": 21,
   "metadata": {},
   "outputs": [],
   "source": [
    "for col in test.columns:\n",
    "    if test.skew().loc[col] > 0.55:\n",
    "        test[col]=np.log1p(test[col])\n",
    "    if test.skew().loc[col]<=0.55:\n",
    "        test[col]=np.log1p(test[col])"
   ]
  },
  {
   "cell_type": "code",
   "execution_count": 22,
   "metadata": {},
   "outputs": [
    {
     "data": {
      "text/plain": [
       "TITLE           -1.748783\n",
       "RESTAURANT_ID   -1.847965\n",
       "CUISINES        -1.758231\n",
       "TIME            -1.338315\n",
       "CITY            -0.584194\n",
       "LOCALITY        -1.222024\n",
       "RATING          -3.313054\n",
       "VOTES           -2.326965\n",
       "dtype: float64"
      ]
     },
     "execution_count": 22,
     "metadata": {},
     "output_type": "execute_result"
    }
   ],
   "source": [
    "test.skew()"
   ]
  },
  {
   "cell_type": "code",
   "execution_count": 23,
   "metadata": {},
   "outputs": [
    {
     "data": {
      "text/html": [
       "<div>\n",
       "<style scoped>\n",
       "    .dataframe tbody tr th:only-of-type {\n",
       "        vertical-align: middle;\n",
       "    }\n",
       "\n",
       "    .dataframe tbody tr th {\n",
       "        vertical-align: top;\n",
       "    }\n",
       "\n",
       "    .dataframe thead th {\n",
       "        text-align: right;\n",
       "    }\n",
       "</style>\n",
       "<table border=\"1\" class=\"dataframe\">\n",
       "  <thead>\n",
       "    <tr style=\"text-align: right;\">\n",
       "      <th></th>\n",
       "      <th>TITLE</th>\n",
       "      <th>RESTAURANT_ID</th>\n",
       "      <th>CUISINES</th>\n",
       "      <th>TIME</th>\n",
       "      <th>CITY</th>\n",
       "      <th>LOCALITY</th>\n",
       "      <th>RATING</th>\n",
       "      <th>VOTES</th>\n",
       "      <th>COST</th>\n",
       "    </tr>\n",
       "  </thead>\n",
       "  <tbody>\n",
       "    <tr>\n",
       "      <td>count</td>\n",
       "      <td>11948.000000</td>\n",
       "      <td>11948.000000</td>\n",
       "      <td>11948.000000</td>\n",
       "      <td>11948.000000</td>\n",
       "      <td>11948.000000</td>\n",
       "      <td>11948.000000</td>\n",
       "      <td>11948.000000</td>\n",
       "      <td>11948.000000</td>\n",
       "      <td>11948.000000</td>\n",
       "    </tr>\n",
       "    <tr>\n",
       "      <td>mean</td>\n",
       "      <td>3.865462</td>\n",
       "      <td>8.647166</td>\n",
       "      <td>7.439980</td>\n",
       "      <td>6.731903</td>\n",
       "      <td>4.730052</td>\n",
       "      <td>6.217858</td>\n",
       "      <td>2.987291</td>\n",
       "      <td>6.635970</td>\n",
       "      <td>1.968201</td>\n",
       "    </tr>\n",
       "    <tr>\n",
       "      <td>std</td>\n",
       "      <td>0.859900</td>\n",
       "      <td>1.007958</td>\n",
       "      <td>0.920756</td>\n",
       "      <td>0.977082</td>\n",
       "      <td>0.720921</td>\n",
       "      <td>0.826750</td>\n",
       "      <td>0.268655</td>\n",
       "      <td>0.964523</td>\n",
       "      <td>0.093482</td>\n",
       "    </tr>\n",
       "    <tr>\n",
       "      <td>min</td>\n",
       "      <td>0.000000</td>\n",
       "      <td>0.000000</td>\n",
       "      <td>0.000000</td>\n",
       "      <td>0.000000</td>\n",
       "      <td>0.000000</td>\n",
       "      <td>0.000000</td>\n",
       "      <td>0.693147</td>\n",
       "      <td>0.000000</td>\n",
       "      <td>1.595709</td>\n",
       "    </tr>\n",
       "    <tr>\n",
       "      <td>25%</td>\n",
       "      <td>3.465736</td>\n",
       "      <td>8.258358</td>\n",
       "      <td>7.074963</td>\n",
       "      <td>6.320768</td>\n",
       "      <td>4.219508</td>\n",
       "      <td>5.823046</td>\n",
       "      <td>2.890372</td>\n",
       "      <td>6.375025</td>\n",
       "      <td>1.903168</td>\n",
       "    </tr>\n",
       "    <tr>\n",
       "      <td>50%</td>\n",
       "      <td>4.060443</td>\n",
       "      <td>8.957511</td>\n",
       "      <td>7.781765</td>\n",
       "      <td>7.024649</td>\n",
       "      <td>4.882802</td>\n",
       "      <td>6.368187</td>\n",
       "      <td>2.995732</td>\n",
       "      <td>6.975414</td>\n",
       "      <td>1.976385</td>\n",
       "    </tr>\n",
       "    <tr>\n",
       "      <td>75%</td>\n",
       "      <td>4.564348</td>\n",
       "      <td>9.368903</td>\n",
       "      <td>8.080934</td>\n",
       "      <td>7.512754</td>\n",
       "      <td>5.407172</td>\n",
       "      <td>6.917706</td>\n",
       "      <td>3.135494</td>\n",
       "      <td>7.212294</td>\n",
       "      <td>2.030961</td>\n",
       "    </tr>\n",
       "    <tr>\n",
       "      <td>max</td>\n",
       "      <td>4.727388</td>\n",
       "      <td>9.653358</td>\n",
       "      <td>8.332068</td>\n",
       "      <td>7.896925</td>\n",
       "      <td>5.883322</td>\n",
       "      <td>7.255591</td>\n",
       "      <td>3.465736</td>\n",
       "      <td>7.521318</td>\n",
       "      <td>2.177526</td>\n",
       "    </tr>\n",
       "  </tbody>\n",
       "</table>\n",
       "</div>"
      ],
      "text/plain": [
       "              TITLE  RESTAURANT_ID      CUISINES          TIME          CITY  \\\n",
       "count  11948.000000   11948.000000  11948.000000  11948.000000  11948.000000   \n",
       "mean       3.865462       8.647166      7.439980      6.731903      4.730052   \n",
       "std        0.859900       1.007958      0.920756      0.977082      0.720921   \n",
       "min        0.000000       0.000000      0.000000      0.000000      0.000000   \n",
       "25%        3.465736       8.258358      7.074963      6.320768      4.219508   \n",
       "50%        4.060443       8.957511      7.781765      7.024649      4.882802   \n",
       "75%        4.564348       9.368903      8.080934      7.512754      5.407172   \n",
       "max        4.727388       9.653358      8.332068      7.896925      5.883322   \n",
       "\n",
       "           LOCALITY        RATING         VOTES          COST  \n",
       "count  11948.000000  11948.000000  11948.000000  11948.000000  \n",
       "mean       6.217858      2.987291      6.635970      1.968201  \n",
       "std        0.826750      0.268655      0.964523      0.093482  \n",
       "min        0.000000      0.693147      0.000000      1.595709  \n",
       "25%        5.823046      2.890372      6.375025      1.903168  \n",
       "50%        6.368187      2.995732      6.975414      1.976385  \n",
       "75%        6.917706      3.135494      7.212294      2.030961  \n",
       "max        7.255591      3.465736      7.521318      2.177526  "
      ]
     },
     "execution_count": 23,
     "metadata": {},
     "output_type": "execute_result"
    }
   ],
   "source": [
    "train.describe()"
   ]
  },
  {
   "cell_type": "code",
   "execution_count": 24,
   "metadata": {},
   "outputs": [
    {
     "data": {
      "text/html": [
       "<div>\n",
       "<style scoped>\n",
       "    .dataframe tbody tr th:only-of-type {\n",
       "        vertical-align: middle;\n",
       "    }\n",
       "\n",
       "    .dataframe tbody tr th {\n",
       "        vertical-align: top;\n",
       "    }\n",
       "\n",
       "    .dataframe thead th {\n",
       "        text-align: right;\n",
       "    }\n",
       "</style>\n",
       "<table border=\"1\" class=\"dataframe\">\n",
       "  <thead>\n",
       "    <tr style=\"text-align: right;\">\n",
       "      <th></th>\n",
       "      <th>TITLE</th>\n",
       "      <th>RESTAURANT_ID</th>\n",
       "      <th>CUISINES</th>\n",
       "      <th>TIME</th>\n",
       "      <th>CITY</th>\n",
       "      <th>LOCALITY</th>\n",
       "      <th>RATING</th>\n",
       "      <th>VOTES</th>\n",
       "      <th>COST</th>\n",
       "    </tr>\n",
       "  </thead>\n",
       "  <tbody>\n",
       "    <tr>\n",
       "      <td>TITLE</td>\n",
       "      <td>1.000000</td>\n",
       "      <td>0.022809</td>\n",
       "      <td>0.296737</td>\n",
       "      <td>0.058000</td>\n",
       "      <td>-0.011147</td>\n",
       "      <td>0.016161</td>\n",
       "      <td>-0.059438</td>\n",
       "      <td>0.017034</td>\n",
       "      <td>-0.254042</td>\n",
       "    </tr>\n",
       "    <tr>\n",
       "      <td>RESTAURANT_ID</td>\n",
       "      <td>0.022809</td>\n",
       "      <td>1.000000</td>\n",
       "      <td>0.068146</td>\n",
       "      <td>0.006339</td>\n",
       "      <td>-0.000676</td>\n",
       "      <td>0.007171</td>\n",
       "      <td>0.014488</td>\n",
       "      <td>0.013708</td>\n",
       "      <td>0.012185</td>\n",
       "    </tr>\n",
       "    <tr>\n",
       "      <td>CUISINES</td>\n",
       "      <td>0.296737</td>\n",
       "      <td>0.068146</td>\n",
       "      <td>1.000000</td>\n",
       "      <td>0.078694</td>\n",
       "      <td>0.042104</td>\n",
       "      <td>0.018034</td>\n",
       "      <td>-0.031888</td>\n",
       "      <td>-0.005620</td>\n",
       "      <td>-0.042149</td>\n",
       "    </tr>\n",
       "    <tr>\n",
       "      <td>TIME</td>\n",
       "      <td>0.058000</td>\n",
       "      <td>0.006339</td>\n",
       "      <td>0.078694</td>\n",
       "      <td>1.000000</td>\n",
       "      <td>-0.014159</td>\n",
       "      <td>0.000650</td>\n",
       "      <td>0.040044</td>\n",
       "      <td>0.011062</td>\n",
       "      <td>0.029537</td>\n",
       "    </tr>\n",
       "    <tr>\n",
       "      <td>CITY</td>\n",
       "      <td>-0.011147</td>\n",
       "      <td>-0.000676</td>\n",
       "      <td>0.042104</td>\n",
       "      <td>-0.014159</td>\n",
       "      <td>1.000000</td>\n",
       "      <td>0.042322</td>\n",
       "      <td>0.012613</td>\n",
       "      <td>0.005807</td>\n",
       "      <td>0.037047</td>\n",
       "    </tr>\n",
       "    <tr>\n",
       "      <td>LOCALITY</td>\n",
       "      <td>0.016161</td>\n",
       "      <td>0.007171</td>\n",
       "      <td>0.018034</td>\n",
       "      <td>0.000650</td>\n",
       "      <td>0.042322</td>\n",
       "      <td>1.000000</td>\n",
       "      <td>-0.019552</td>\n",
       "      <td>-0.002782</td>\n",
       "      <td>-0.000170</td>\n",
       "    </tr>\n",
       "    <tr>\n",
       "      <td>RATING</td>\n",
       "      <td>-0.059438</td>\n",
       "      <td>0.014488</td>\n",
       "      <td>-0.031888</td>\n",
       "      <td>0.040044</td>\n",
       "      <td>0.012613</td>\n",
       "      <td>-0.019552</td>\n",
       "      <td>1.000000</td>\n",
       "      <td>0.060616</td>\n",
       "      <td>0.185653</td>\n",
       "    </tr>\n",
       "    <tr>\n",
       "      <td>VOTES</td>\n",
       "      <td>0.017034</td>\n",
       "      <td>0.013708</td>\n",
       "      <td>-0.005620</td>\n",
       "      <td>0.011062</td>\n",
       "      <td>0.005807</td>\n",
       "      <td>-0.002782</td>\n",
       "      <td>0.060616</td>\n",
       "      <td>1.000000</td>\n",
       "      <td>-0.016400</td>\n",
       "    </tr>\n",
       "    <tr>\n",
       "      <td>COST</td>\n",
       "      <td>-0.254042</td>\n",
       "      <td>0.012185</td>\n",
       "      <td>-0.042149</td>\n",
       "      <td>0.029537</td>\n",
       "      <td>0.037047</td>\n",
       "      <td>-0.000170</td>\n",
       "      <td>0.185653</td>\n",
       "      <td>-0.016400</td>\n",
       "      <td>1.000000</td>\n",
       "    </tr>\n",
       "  </tbody>\n",
       "</table>\n",
       "</div>"
      ],
      "text/plain": [
       "                  TITLE  RESTAURANT_ID  CUISINES      TIME      CITY  \\\n",
       "TITLE          1.000000       0.022809  0.296737  0.058000 -0.011147   \n",
       "RESTAURANT_ID  0.022809       1.000000  0.068146  0.006339 -0.000676   \n",
       "CUISINES       0.296737       0.068146  1.000000  0.078694  0.042104   \n",
       "TIME           0.058000       0.006339  0.078694  1.000000 -0.014159   \n",
       "CITY          -0.011147      -0.000676  0.042104 -0.014159  1.000000   \n",
       "LOCALITY       0.016161       0.007171  0.018034  0.000650  0.042322   \n",
       "RATING        -0.059438       0.014488 -0.031888  0.040044  0.012613   \n",
       "VOTES          0.017034       0.013708 -0.005620  0.011062  0.005807   \n",
       "COST          -0.254042       0.012185 -0.042149  0.029537  0.037047   \n",
       "\n",
       "               LOCALITY    RATING     VOTES      COST  \n",
       "TITLE          0.016161 -0.059438  0.017034 -0.254042  \n",
       "RESTAURANT_ID  0.007171  0.014488  0.013708  0.012185  \n",
       "CUISINES       0.018034 -0.031888 -0.005620 -0.042149  \n",
       "TIME           0.000650  0.040044  0.011062  0.029537  \n",
       "CITY           0.042322  0.012613  0.005807  0.037047  \n",
       "LOCALITY       1.000000 -0.019552 -0.002782 -0.000170  \n",
       "RATING        -0.019552  1.000000  0.060616  0.185653  \n",
       "VOTES         -0.002782  0.060616  1.000000 -0.016400  \n",
       "COST          -0.000170  0.185653 -0.016400  1.000000  "
      ]
     },
     "execution_count": 24,
     "metadata": {},
     "output_type": "execute_result"
    }
   ],
   "source": [
    "train.corr()"
   ]
  },
  {
   "cell_type": "code",
   "execution_count": 25,
   "metadata": {},
   "outputs": [
    {
     "data": {
      "image/png": "[encoded data removed]",
      "text/plain": [
       "<Figure size 720x576 with 2 Axes>"
      ]
     },
     "metadata": {
      "needs_background": "light"
     },
     "output_type": "display_data"
    }
   ],
   "source": [
    "#showing the corelation with a heatmap\n",
    "plt.figure(figsize=(10,8))\n",
    "sns.heatmap(train.corr(),annot=True,fmt='.2f',vmax=1,vmin=0)\n",
    "plt.show()"
   ]
  },
  {
   "cell_type": "markdown",
   "metadata": {},
   "source": [
    "Features and Target Value"
   ]
  },
  {
   "cell_type": "code",
   "execution_count": 26,
   "metadata": {},
   "outputs": [],
   "source": [
    "x=train.drop(\"COST\",axis=1)\n",
    "y=train[\"COST\"]"
   ]
  },
  {
   "cell_type": "code",
   "execution_count": 27,
   "metadata": {},
   "outputs": [
    {
     "data": {
      "text/html": [
       "<div>\n",
       "<style scoped>\n",
       "    .dataframe tbody tr th:only-of-type {\n",
       "        vertical-align: middle;\n",
       "    }\n",
       "\n",
       "    .dataframe tbody tr th {\n",
       "        vertical-align: top;\n",
       "    }\n",
       "\n",
       "    .dataframe thead th {\n",
       "        text-align: right;\n",
       "    }\n",
       "</style>\n",
       "<table border=\"1\" class=\"dataframe\">\n",
       "  <thead>\n",
       "    <tr style=\"text-align: right;\">\n",
       "      <th></th>\n",
       "      <th>TITLE</th>\n",
       "      <th>RESTAURANT_ID</th>\n",
       "      <th>CUISINES</th>\n",
       "      <th>TIME</th>\n",
       "      <th>CITY</th>\n",
       "      <th>LOCALITY</th>\n",
       "      <th>RATING</th>\n",
       "      <th>VOTES</th>\n",
       "    </tr>\n",
       "  </thead>\n",
       "  <tbody>\n",
       "    <tr>\n",
       "      <td>0</td>\n",
       "      <td>3.465736</td>\n",
       "      <td>9.152605</td>\n",
       "      <td>7.873978</td>\n",
       "      <td>6.606650</td>\n",
       "      <td>5.771441</td>\n",
       "      <td>5.655992</td>\n",
       "      <td>2.890372</td>\n",
       "      <td>7.153834</td>\n",
       "    </tr>\n",
       "    <tr>\n",
       "      <td>1</td>\n",
       "      <td>3.526361</td>\n",
       "      <td>9.487896</td>\n",
       "      <td>5.669881</td>\n",
       "      <td>7.542213</td>\n",
       "      <td>4.219508</td>\n",
       "      <td>6.953684</td>\n",
       "      <td>3.178054</td>\n",
       "      <td>6.857514</td>\n",
       "    </tr>\n",
       "  </tbody>\n",
       "</table>\n",
       "</div>"
      ],
      "text/plain": [
       "      TITLE  RESTAURANT_ID  CUISINES      TIME      CITY  LOCALITY    RATING  \\\n",
       "0  3.465736       9.152605  7.873978  6.606650  5.771441  5.655992  2.890372   \n",
       "1  3.526361       9.487896  5.669881  7.542213  4.219508  6.953684  3.178054   \n",
       "\n",
       "      VOTES  \n",
       "0  7.153834  \n",
       "1  6.857514  "
      ]
     },
     "execution_count": 27,
     "metadata": {},
     "output_type": "execute_result"
    }
   ],
   "source": [
    "x.head(2)"
   ]
  },
  {
   "cell_type": "code",
   "execution_count": 28,
   "metadata": {},
   "outputs": [
    {
     "data": {
      "text/plain": [
       "0    2.090741\n",
       "1    2.117927\n",
       "Name: COST, dtype: float64"
      ]
     },
     "execution_count": 28,
     "metadata": {},
     "output_type": "execute_result"
    }
   ],
   "source": [
    "y.head(2)"
   ]
  },
  {
   "cell_type": "code",
   "execution_count": 29,
   "metadata": {},
   "outputs": [
    {
     "data": {
      "text/plain": [
       "(11948, 1)"
      ]
     },
     "execution_count": 29,
     "metadata": {},
     "output_type": "execute_result"
    }
   ],
   "source": [
    "y=np.array(y)\n",
    "y=y.reshape(-1,1)\n",
    "y.shape"
   ]
  },
  {
   "cell_type": "markdown",
   "metadata": {},
   "source": [
    "Standardisation"
   ]
  },
  {
   "cell_type": "code",
   "execution_count": 30,
   "metadata": {},
   "outputs": [
    {
     "data": {
      "text/plain": [
       "array([[-0.46487173,  0.50146957,  0.47136927, ..., -0.67963632,\n",
       "        -0.36077344,  0.53693472],\n",
       "       [-0.39436684,  0.83412722, -1.92252112, ...,  0.89006019,\n",
       "         0.71009316,  0.22970292],\n",
       "       [-0.46487173,  0.64570732,  0.60679946, ...,  0.95198933,\n",
       "         0.03142013, -0.0689366 ],\n",
       "       ...,\n",
       "       [ 0.47821952,  0.6653259 ,  0.22206636, ...,  1.19122424,\n",
       "         0.38620236,  0.65191488],\n",
       "       [-0.46487173,  0.07401343,  0.78475289, ...,  0.27945735,\n",
       "        -0.57353969,  0.27867914],\n",
       "       [-0.46487173,  0.12076332,  0.59579893, ...,  1.18309089,\n",
       "        -0.79920854,  0.70632978]])"
      ]
     },
     "execution_count": 30,
     "metadata": {},
     "output_type": "execute_result"
    }
   ],
   "source": [
    "from sklearn.preprocessing import StandardScaler\n",
    "sc=StandardScaler()\n",
    "\n",
    "x=sc.fit_transform(x)\n",
    "x"
   ]
  },
  {
   "cell_type": "markdown",
   "metadata": {},
   "source": [
    "Spilt Train and Test"
   ]
  },
  {
   "cell_type": "code",
   "execution_count": 31,
   "metadata": {},
   "outputs": [],
   "source": [
    "from sklearn.model_selection import train_test_split,GridSearchCV,cross_val_score\n",
    "from sklearn.linear_model import LinearRegression,Lasso\n",
    "from sklearn.tree import DecisionTreeRegressor\n",
    "from sklearn.svm import SVR\n",
    "from sklearn.neighbors import KNeighborsRegressor\n",
    "from sklearn.ensemble import RandomForestRegressor\n",
    "from sklearn.metrics import mean_squared_error,mean_absolute_error,r2_score"
   ]
  },
  {
   "cell_type": "code",
   "execution_count": 32,
   "metadata": {},
   "outputs": [],
   "source": [
    "def mod(model,x,y):\n",
    "    max_r=0\n",
    "    for i in range(30,150):\n",
    "        x_train,x_test,y_train,y_test=train_test_split(x,y,test_size=0.30,random_state=i)\n",
    "        model.fit(x_train,y_train)\n",
    "        pred=model.predict(x_test)\n",
    "        r2score=r2_score(y_test,pred)\n",
    "        MAE= mean_absolute_error(y_test,pred)\n",
    "        MSE= mean_squared_error(y_test,pred)\n",
    "        RMSE=np.sqrt(MSE)\n",
    "        if r2score > max_r:\n",
    "            max_r=r2score\n",
    "            random_state=i\n",
    "    print('the random state at ', mod,'\\nis: ',random_state, \n",
    "          '\\nand it produces \\n r2 score of ',r2score,\n",
    "          '\\n mean abs error value of ', MAE,\n",
    "          '\\n mean squared error value of',MSE,\n",
    "          '\\n & root mean sq error ', RMSE)\n",
    "    print()\n",
    "    print('prediction: ',pred)\n",
    "    return random_state"
   ]
  },
  {
   "cell_type": "markdown",
   "metadata": {},
   "source": [
    "LinearRegression"
   ]
  },
  {
   "cell_type": "code",
   "execution_count": 137,
   "metadata": {},
   "outputs": [
    {
     "name": "stdout",
     "output_type": "stream",
     "text": [
      "the random state at  <function mod at 0x0000004F2A5CEE58> \n",
      "is:  48 \n",
      "and it produces \n",
      " r2 score of  0.10276873327142055 \n",
      " mean abs error value of  0.07031664119255808 \n",
      " mean squared error value of 0.007994810750143088 \n",
      " & root mean sq error  0.08941370560570168\n",
      "\n",
      "prediction:  [[1.99181767]\n",
      " [1.93748113]\n",
      " [1.93642823]\n",
      " ...\n",
      " [1.95723612]\n",
      " [1.97394421]\n",
      " [1.93680792]]\n"
     ]
    },
    {
     "data": {
      "text/plain": [
       "48"
      ]
     },
     "execution_count": 137,
     "metadata": {},
     "output_type": "execute_result"
    }
   ],
   "source": [
    "lr=LinearRegression()\n",
    "mod(lr,x,y)"
   ]
  },
  {
   "cell_type": "code",
   "execution_count": 138,
   "metadata": {},
   "outputs": [
    {
     "name": "stdout",
     "output_type": "stream",
     "text": [
      "the r2 score at liner regression model is= 0.09546173139196487\n"
     ]
    }
   ],
   "source": [
    "#cross validation\n",
    "lr_scr=cross_val_score(lr,x,y,cv=10,scoring='r2')\n",
    "print('the r2 score at liner regression model is=', lr_scr.mean())"
   ]
  },
  {
   "cell_type": "markdown",
   "metadata": {},
   "source": [
    "Decision Tree Regressor"
   ]
  },
  {
   "cell_type": "code",
   "execution_count": 139,
   "metadata": {},
   "outputs": [
    {
     "data": {
      "text/plain": [
       "{'criterion': 'friedman_mse', 'max_depth': 8}"
      ]
     },
     "execution_count": 139,
     "metadata": {},
     "output_type": "execute_result"
    }
   ],
   "source": [
    "dtr=DecisionTreeRegressor()\n",
    "dtr_para={'criterion':['mse','friedman_mse','mae'],'max_depth':[6,8,9]}\n",
    "dtr_grid=GridSearchCV(dtr,dtr_para,cv=10)\n",
    "dtr_grid.fit(x,y)\n",
    "dtr_grid.best_params_"
   ]
  },
  {
   "cell_type": "code",
   "execution_count": 33,
   "metadata": {},
   "outputs": [
    {
     "name": "stdout",
     "output_type": "stream",
     "text": [
      "the random state at  <function mod at 0x00000030BE8DE048> \n",
      "is:  137 \n",
      "and it produces \n",
      " r2 score of  0.5936847753094272 \n",
      " mean abs error value of  0.046000329679370046 \n",
      " mean squared error value of 0.0036204860962404132 \n",
      " & root mean sq error  0.06017047528680834\n",
      "\n",
      "prediction:  [1.91209161 1.91862288 1.9166762  ... 1.94756943 2.0000804  1.88612143]\n"
     ]
    },
    {
     "data": {
      "text/plain": [
       "137"
      ]
     },
     "execution_count": 33,
     "metadata": {},
     "output_type": "execute_result"
    }
   ],
   "source": [
    "dtr=DecisionTreeRegressor(criterion='friedman_mse',max_depth=8)\n",
    "mod(dtr,x,y)"
   ]
  },
  {
   "cell_type": "code",
   "execution_count": 141,
   "metadata": {},
   "outputs": [
    {
     "name": "stdout",
     "output_type": "stream",
     "text": [
      "the r2 score at DTR model is= 0.585192626822334\n"
     ]
    }
   ],
   "source": [
    "#Cross Validation\n",
    "dtr_scr=cross_val_score(dtr,x,y,cv=10,scoring='r2')\n",
    "print('the r2 score at DTR model is=', dtr_scr.mean())"
   ]
  },
  {
   "cell_type": "markdown",
   "metadata": {},
   "source": [
    "KNeighbors Regressor"
   ]
  },
  {
   "cell_type": "code",
   "execution_count": 142,
   "metadata": {},
   "outputs": [
    {
     "data": {
      "text/plain": [
       "{'algorithm': 'ball_tree', 'n_neighbors': 17}"
      ]
     },
     "execution_count": 142,
     "metadata": {},
     "output_type": "execute_result"
    }
   ],
   "source": [
    "knr=KNeighborsRegressor()\n",
    "k_para={'n_neighbors': range(4,20),'algorithm':['ball_tree', 'kd_tree', 'brute','auto']}\n",
    "k_grid=GridSearchCV(knr,k_para,cv=20)\n",
    "k_grid.fit(x,y)\n",
    "k_grid.best_params_"
   ]
  },
  {
   "cell_type": "code",
   "execution_count": 143,
   "metadata": {},
   "outputs": [
    {
     "name": "stdout",
     "output_type": "stream",
     "text": [
      "the random state at  <function mod at 0x0000004F2A5CEE58> \n",
      "is:  141 \n",
      "and it produces \n",
      " r2 score of  0.3602777136279738 \n",
      " mean abs error value of  0.057938278789918266 \n",
      " mean squared error value of 0.005700267926285231 \n",
      " & root mean sq error  0.0755001187170274\n",
      "\n",
      "prediction:  [[1.91242913]\n",
      " [1.94410816]\n",
      " [1.89995335]\n",
      " ...\n",
      " [1.95180987]\n",
      " [1.99233448]\n",
      " [1.94029571]]\n"
     ]
    },
    {
     "data": {
      "text/plain": [
       "141"
      ]
     },
     "execution_count": 143,
     "metadata": {},
     "output_type": "execute_result"
    }
   ],
   "source": [
    "knr=KNeighborsRegressor(algorithm='ball_tree',n_neighbors=17)\n",
    "mod(knr,x,y)"
   ]
  },
  {
   "cell_type": "code",
   "execution_count": 144,
   "metadata": {},
   "outputs": [
    {
     "name": "stdout",
     "output_type": "stream",
     "text": [
      "the r2 score at KNR model is= 0.3652030514584224\n"
     ]
    }
   ],
   "source": [
    "#Cross Validation\n",
    "knr_scr=cross_val_score(knr,x,y,cv=20,scoring='r2')\n",
    "print('the r2 score at KNR model is=', knr_scr.mean())"
   ]
  },
  {
   "cell_type": "markdown",
   "metadata": {},
   "source": [
    "AdaBoost Regressor"
   ]
  },
  {
   "cell_type": "code",
   "execution_count": 147,
   "metadata": {},
   "outputs": [
    {
     "name": "stdout",
     "output_type": "stream",
     "text": [
      "best parameters: {'learning_rate': 0.025, 'n_estimators': 500}\n",
      "\n",
      " best score: 0.3737521130315087\n"
     ]
    }
   ],
   "source": [
    "from sklearn.ensemble import AdaBoostRegressor\n",
    "ada=AdaBoostRegressor()\n",
    "x_train,x_test,y_train,y_test=train_test_split(x,y,test_size=0.3,random_state=42)\n",
    "\n",
    "ada_param= {\"learning_rate\": [0.0001,0.025,0.1,1.0],\"n_estimators\":[250,500,750,1000]}\n",
    "\n",
    "ada_g= GridSearchCV(ada,ada_param,cv=10)\n",
    "ada_g.fit(x_train,y_train)\n",
    "print(\"best parameters:\", ada_g.best_params_)\n",
    "print(\"\\n best score:\",ada_g.best_score_)"
   ]
  },
  {
   "cell_type": "code",
   "execution_count": 148,
   "metadata": {
    "scrolled": true
   },
   "outputs": [
    {
     "name": "stdout",
     "output_type": "stream",
     "text": [
      "the random state at  <function mod at 0x0000004F2A5CEE58> \n",
      "is:  36 \n",
      "and it produces \n",
      " r2 score of  0.38267676622262126 \n",
      " mean abs error value of  0.058421876644635995 \n",
      " mean squared error value of 0.005500680380557314 \n",
      " & root mean sq error  0.07416657185388384\n",
      "\n",
      "prediction:  [1.96409284 1.91401178 1.90588808 ... 1.95977162 1.98686534 1.91286878]\n"
     ]
    },
    {
     "data": {
      "text/plain": [
       "36"
      ]
     },
     "execution_count": 148,
     "metadata": {},
     "output_type": "execute_result"
    }
   ],
   "source": [
    "ada=AdaBoostRegressor(learning_rate=0.025, n_estimators=500)\n",
    "mod(ada,x,y)"
   ]
  },
  {
   "cell_type": "code",
   "execution_count": 149,
   "metadata": {},
   "outputs": [
    {
     "name": "stdout",
     "output_type": "stream",
     "text": [
      "the r2 score at AdaBoost Reg model is= 0.3676444352867572\n"
     ]
    }
   ],
   "source": [
    "#Cross Validation\n",
    "ada_scr=cross_val_score(ada,x,y,cv=10,scoring='r2')\n",
    "print('the r2 score at AdaBoost Reg model is=', ada_scr.mean())"
   ]
  },
  {
   "cell_type": "code",
   "execution_count": 34,
   "metadata": {},
   "outputs": [
    {
     "data": {
      "text/plain": [
       "['DTR_FoodCost.pkl']"
      ]
     },
     "execution_count": 34,
     "metadata": {},
     "output_type": "execute_result"
    }
   ],
   "source": [
    "import joblib\n",
    "joblib.dump(dtr,\"DTR_FoodCost.pkl\")"
   ]
  },
  {
   "cell_type": "code",
   "execution_count": 35,
   "metadata": {},
   "outputs": [
    {
     "data": {
      "text/plain": [
       "array([1.94600995, 1.94600995, 1.94600995, ..., 1.94600995, 1.94600995,\n",
       "       1.94600995])"
      ]
     },
     "execution_count": 35,
     "metadata": {},
     "output_type": "execute_result"
    }
   ],
   "source": [
    "# Load the model from the file \n",
    "model=joblib.load('DTR_FoodCost.pkl')  \n",
    "  \n",
    "# Use the loaded model to make predictions \n",
    "model.predict(test)"
   ]
  }
 ],
 "metadata": {
  "kernelspec": {
   "display_name": "Python 3",
   "language": "python",
   "name": "python3"
  },
  "language_info": {
   "codemirror_mode": {
    "name": "ipython",
    "version": 3
   },
   "file_extension": ".py",
   "mimetype": "text/x-python",
   "name": "python",
   "nbconvert_exporter": "python",
   "pygments_lexer": "ipython3",
   "version": "3.7.4"
  }
 },
 "nbformat": 4,
 "nbformat_minor": 2
}
