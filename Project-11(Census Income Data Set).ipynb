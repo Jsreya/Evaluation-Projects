{
 "cells": [
  {
   "cell_type": "code",
   "execution_count": 1,
   "metadata": {},
   "outputs": [],
   "source": [
    "import pandas as pd\n",
    "import numpy as np\n",
    "import seaborn as sns\n",
    "import matplotlib.pyplot as plt\n",
    "import warnings\n",
    "warnings.filterwarnings('ignore')"
   ]
  },
  {
   "cell_type": "code",
   "execution_count": 2,
   "metadata": {},
   "outputs": [],
   "source": [
    "data=pd.read_csv(\"Census_Income_Dataset.csv\")"
   ]
  },
  {
   "cell_type": "code",
   "execution_count": 3,
   "metadata": {},
   "outputs": [
    {
     "data": {
      "text/html": [
       "<div>\n",
       "<style scoped>\n",
       "    .dataframe tbody tr th:only-of-type {\n",
       "        vertical-align: middle;\n",
       "    }\n",
       "\n",
       "    .dataframe tbody tr th {\n",
       "        vertical-align: top;\n",
       "    }\n",
       "\n",
       "    .dataframe thead th {\n",
       "        text-align: right;\n",
       "    }\n",
       "</style>\n",
       "<table border=\"1\" class=\"dataframe\">\n",
       "  <thead>\n",
       "    <tr style=\"text-align: right;\">\n",
       "      <th></th>\n",
       "      <th>age</th>\n",
       "      <th>workclass</th>\n",
       "      <th>fnlwgt</th>\n",
       "      <th>education</th>\n",
       "      <th>marital-status</th>\n",
       "      <th>occupation</th>\n",
       "      <th>handlers</th>\n",
       "      <th>relationship</th>\n",
       "      <th>race</th>\n",
       "      <th>sex</th>\n",
       "      <th>capital-gain</th>\n",
       "      <th>capital-loss</th>\n",
       "      <th>hours-per-week</th>\n",
       "      <th>native-country</th>\n",
       "      <th>income</th>\n",
       "    </tr>\n",
       "  </thead>\n",
       "  <tbody>\n",
       "    <tr>\n",
       "      <td>0</td>\n",
       "      <td>39</td>\n",
       "      <td>State-gov</td>\n",
       "      <td>77516</td>\n",
       "      <td>Bachelors</td>\n",
       "      <td>13</td>\n",
       "      <td>Never-married</td>\n",
       "      <td>Adm-clerical</td>\n",
       "      <td>Not-in-family</td>\n",
       "      <td>White</td>\n",
       "      <td>Male</td>\n",
       "      <td>2174</td>\n",
       "      <td>0</td>\n",
       "      <td>40</td>\n",
       "      <td>United-States</td>\n",
       "      <td>&lt;=50K</td>\n",
       "    </tr>\n",
       "    <tr>\n",
       "      <td>1</td>\n",
       "      <td>50</td>\n",
       "      <td>Self-emp-not-inc</td>\n",
       "      <td>83311</td>\n",
       "      <td>Bachelors</td>\n",
       "      <td>13</td>\n",
       "      <td>Married-civ-spouse</td>\n",
       "      <td>Exec-managerial</td>\n",
       "      <td>Husband</td>\n",
       "      <td>White</td>\n",
       "      <td>Male</td>\n",
       "      <td>0</td>\n",
       "      <td>0</td>\n",
       "      <td>13</td>\n",
       "      <td>United-States</td>\n",
       "      <td>&lt;=50K</td>\n",
       "    </tr>\n",
       "    <tr>\n",
       "      <td>2</td>\n",
       "      <td>38</td>\n",
       "      <td>Private</td>\n",
       "      <td>215646</td>\n",
       "      <td>HS-grad</td>\n",
       "      <td>9</td>\n",
       "      <td>Divorced</td>\n",
       "      <td>Handlers-cleaners</td>\n",
       "      <td>Not-in-family</td>\n",
       "      <td>White</td>\n",
       "      <td>Male</td>\n",
       "      <td>0</td>\n",
       "      <td>0</td>\n",
       "      <td>40</td>\n",
       "      <td>United-States</td>\n",
       "      <td>&lt;=50K</td>\n",
       "    </tr>\n",
       "    <tr>\n",
       "      <td>3</td>\n",
       "      <td>53</td>\n",
       "      <td>Private</td>\n",
       "      <td>234721</td>\n",
       "      <td>11th</td>\n",
       "      <td>7</td>\n",
       "      <td>Married-civ-spouse</td>\n",
       "      <td>Handlers-cleaners</td>\n",
       "      <td>Husband</td>\n",
       "      <td>Black</td>\n",
       "      <td>Male</td>\n",
       "      <td>0</td>\n",
       "      <td>0</td>\n",
       "      <td>40</td>\n",
       "      <td>United-States</td>\n",
       "      <td>&lt;=50K</td>\n",
       "    </tr>\n",
       "    <tr>\n",
       "      <td>4</td>\n",
       "      <td>28</td>\n",
       "      <td>Private</td>\n",
       "      <td>338409</td>\n",
       "      <td>Bachelors</td>\n",
       "      <td>13</td>\n",
       "      <td>Married-civ-spouse</td>\n",
       "      <td>Prof-specialty</td>\n",
       "      <td>Wife</td>\n",
       "      <td>Black</td>\n",
       "      <td>Female</td>\n",
       "      <td>0</td>\n",
       "      <td>0</td>\n",
       "      <td>40</td>\n",
       "      <td>Cuba</td>\n",
       "      <td>&lt;=50K</td>\n",
       "    </tr>\n",
       "  </tbody>\n",
       "</table>\n",
       "</div>"
      ],
      "text/plain": [
       "   age          workclass  fnlwgt   education  marital-status  \\\n",
       "0   39          State-gov   77516   Bachelors              13   \n",
       "1   50   Self-emp-not-inc   83311   Bachelors              13   \n",
       "2   38            Private  215646     HS-grad               9   \n",
       "3   53            Private  234721        11th               7   \n",
       "4   28            Private  338409   Bachelors              13   \n",
       "\n",
       "            occupation            handlers    relationship    race      sex  \\\n",
       "0        Never-married        Adm-clerical   Not-in-family   White     Male   \n",
       "1   Married-civ-spouse     Exec-managerial         Husband   White     Male   \n",
       "2             Divorced   Handlers-cleaners   Not-in-family   White     Male   \n",
       "3   Married-civ-spouse   Handlers-cleaners         Husband   Black     Male   \n",
       "4   Married-civ-spouse      Prof-specialty            Wife   Black   Female   \n",
       "\n",
       "   capital-gain  capital-loss  hours-per-week  native-country  income  \n",
       "0          2174             0              40   United-States   <=50K  \n",
       "1             0             0              13   United-States   <=50K  \n",
       "2             0             0              40   United-States   <=50K  \n",
       "3             0             0              40   United-States   <=50K  \n",
       "4             0             0              40            Cuba   <=50K  "
      ]
     },
     "execution_count": 3,
     "metadata": {},
     "output_type": "execute_result"
    }
   ],
   "source": [
    "data.head()"
   ]
  },
  {
   "cell_type": "code",
   "execution_count": 4,
   "metadata": {},
   "outputs": [
    {
     "data": {
      "text/plain": [
       "(32561, 15)"
      ]
     },
     "execution_count": 4,
     "metadata": {},
     "output_type": "execute_result"
    }
   ],
   "source": [
    "data.shape"
   ]
  },
  {
   "cell_type": "code",
   "execution_count": 5,
   "metadata": {},
   "outputs": [
    {
     "data": {
      "text/plain": [
       "Index(['age', 'workclass', 'fnlwgt', 'education', 'marital-status',\n",
       "       'occupation', 'handlers', 'relationship', 'race', 'sex', 'capital-gain',\n",
       "       'capital-loss', 'hours-per-week', 'native-country', 'income'],\n",
       "      dtype='object')"
      ]
     },
     "execution_count": 5,
     "metadata": {},
     "output_type": "execute_result"
    }
   ],
   "source": [
    "data.columns"
   ]
  },
  {
   "cell_type": "code",
   "execution_count": 6,
   "metadata": {},
   "outputs": [
    {
     "name": "stdout",
     "output_type": "stream",
     "text": [
      "<class 'pandas.core.frame.DataFrame'>\n",
      "RangeIndex: 32561 entries, 0 to 32560\n",
      "Data columns (total 15 columns):\n",
      "age               32561 non-null int64\n",
      "workclass         32561 non-null object\n",
      "fnlwgt            32561 non-null int64\n",
      "education         32561 non-null object\n",
      "marital-status    32561 non-null int64\n",
      "occupation        32561 non-null object\n",
      "handlers          32561 non-null object\n",
      "relationship      32561 non-null object\n",
      "race              32561 non-null object\n",
      "sex               32561 non-null object\n",
      "capital-gain      32561 non-null int64\n",
      "capital-loss      32561 non-null int64\n",
      "hours-per-week    32561 non-null int64\n",
      "native-country    32561 non-null object\n",
      "income            32561 non-null object\n",
      "dtypes: int64(6), object(9)\n",
      "memory usage: 3.7+ MB\n"
     ]
    }
   ],
   "source": [
    "data.info()"
   ]
  },
  {
   "cell_type": "code",
   "execution_count": 7,
   "metadata": {},
   "outputs": [
    {
     "data": {
      "text/plain": [
       "24"
      ]
     },
     "execution_count": 7,
     "metadata": {},
     "output_type": "execute_result"
    }
   ],
   "source": [
    "#Check Duplicate\n",
    "data.duplicated().sum()"
   ]
  },
  {
   "cell_type": "code",
   "execution_count": 3,
   "metadata": {},
   "outputs": [],
   "source": [
    "#Removing Duplicates\n",
    "census=data.drop_duplicates()"
   ]
  },
  {
   "cell_type": "code",
   "execution_count": 4,
   "metadata": {},
   "outputs": [
    {
     "data": {
      "text/plain": [
       "(32537, 15)"
      ]
     },
     "execution_count": 4,
     "metadata": {},
     "output_type": "execute_result"
    }
   ],
   "source": [
    "census.shape"
   ]
  },
  {
   "cell_type": "code",
   "execution_count": 5,
   "metadata": {},
   "outputs": [
    {
     "data": {
      "text/plain": [
       "<matplotlib.axes._subplots.AxesSubplot at 0xccc553d148>"
      ]
     },
     "execution_count": 5,
     "metadata": {},
     "output_type": "execute_result"
    },
    {
     "data": {
      "image/png": "[encoded data removed]",
      "text/plain": [
       "<Figure size 432x288 with 2 Axes>"
      ]
     },
     "metadata": {
      "needs_background": "light"
     },
     "output_type": "display_data"
    }
   ],
   "source": [
    "#To check missing value\n",
    "sns.heatmap(census.isnull())"
   ]
  },
  {
   "cell_type": "code",
   "execution_count": 6,
   "metadata": {},
   "outputs": [
    {
     "data": {
      "text/plain": [
       "age               0\n",
       "workclass         0\n",
       "fnlwgt            0\n",
       "education         0\n",
       "marital-status    0\n",
       "occupation        0\n",
       "handlers          0\n",
       "relationship      0\n",
       "race              0\n",
       "sex               0\n",
       "capital-gain      0\n",
       "capital-loss      0\n",
       "hours-per-week    0\n",
       "native-country    0\n",
       "income            0\n",
       "dtype: int64"
      ]
     },
     "execution_count": 6,
     "metadata": {},
     "output_type": "execute_result"
    }
   ],
   "source": [
    "census.isnull().sum()"
   ]
  },
  {
   "cell_type": "code",
   "execution_count": 7,
   "metadata": {},
   "outputs": [
    {
     "data": {
      "text/plain": [
       "age                  73\n",
       "workclass             9\n",
       "fnlwgt            21648\n",
       "education            16\n",
       "marital-status       16\n",
       "occupation            7\n",
       "handlers             15\n",
       "relationship          6\n",
       "race                  5\n",
       "sex                   2\n",
       "capital-gain        119\n",
       "capital-loss         92\n",
       "hours-per-week       94\n",
       "native-country       42\n",
       "income                2\n",
       "dtype: int64"
      ]
     },
     "execution_count": 7,
     "metadata": {},
     "output_type": "execute_result"
    }
   ],
   "source": [
    "census.nunique()"
   ]
  },
  {
   "cell_type": "code",
   "execution_count": 8,
   "metadata": {},
   "outputs": [],
   "source": [
    "from sklearn.preprocessing import LabelEncoder\n",
    "le=LabelEncoder()"
   ]
  },
  {
   "cell_type": "code",
   "execution_count": 9,
   "metadata": {},
   "outputs": [],
   "source": [
    "fea=['workclass','education', 'marital-status','occupation', 'handlers', 'relationship', 'race', 'sex','native-country']\n",
    "for fea in census.columns:\n",
    "    if census[fea].dtypes==\"object\":\n",
    "        census[fea]=le.fit_transform(census[fea])"
   ]
  },
  {
   "cell_type": "code",
   "execution_count": 10,
   "metadata": {},
   "outputs": [
    {
     "data": {
      "text/html": [
       "<div>\n",
       "<style scoped>\n",
       "    .dataframe tbody tr th:only-of-type {\n",
       "        vertical-align: middle;\n",
       "    }\n",
       "\n",
       "    .dataframe tbody tr th {\n",
       "        vertical-align: top;\n",
       "    }\n",
       "\n",
       "    .dataframe thead th {\n",
       "        text-align: right;\n",
       "    }\n",
       "</style>\n",
       "<table border=\"1\" class=\"dataframe\">\n",
       "  <thead>\n",
       "    <tr style=\"text-align: right;\">\n",
       "      <th></th>\n",
       "      <th>age</th>\n",
       "      <th>workclass</th>\n",
       "      <th>fnlwgt</th>\n",
       "      <th>education</th>\n",
       "      <th>marital-status</th>\n",
       "      <th>occupation</th>\n",
       "      <th>handlers</th>\n",
       "      <th>relationship</th>\n",
       "      <th>race</th>\n",
       "      <th>sex</th>\n",
       "      <th>capital-gain</th>\n",
       "      <th>capital-loss</th>\n",
       "      <th>hours-per-week</th>\n",
       "      <th>native-country</th>\n",
       "      <th>income</th>\n",
       "    </tr>\n",
       "  </thead>\n",
       "  <tbody>\n",
       "    <tr>\n",
       "      <td>0</td>\n",
       "      <td>39</td>\n",
       "      <td>7</td>\n",
       "      <td>77516</td>\n",
       "      <td>9</td>\n",
       "      <td>13</td>\n",
       "      <td>4</td>\n",
       "      <td>1</td>\n",
       "      <td>1</td>\n",
       "      <td>4</td>\n",
       "      <td>1</td>\n",
       "      <td>2174</td>\n",
       "      <td>0</td>\n",
       "      <td>40</td>\n",
       "      <td>39</td>\n",
       "      <td>0</td>\n",
       "    </tr>\n",
       "    <tr>\n",
       "      <td>1</td>\n",
       "      <td>50</td>\n",
       "      <td>6</td>\n",
       "      <td>83311</td>\n",
       "      <td>9</td>\n",
       "      <td>13</td>\n",
       "      <td>2</td>\n",
       "      <td>4</td>\n",
       "      <td>0</td>\n",
       "      <td>4</td>\n",
       "      <td>1</td>\n",
       "      <td>0</td>\n",
       "      <td>0</td>\n",
       "      <td>13</td>\n",
       "      <td>39</td>\n",
       "      <td>0</td>\n",
       "    </tr>\n",
       "  </tbody>\n",
       "</table>\n",
       "</div>"
      ],
      "text/plain": [
       "   age  workclass  fnlwgt  education  marital-status  occupation  handlers  \\\n",
       "0   39          7   77516          9              13           4         1   \n",
       "1   50          6   83311          9              13           2         4   \n",
       "\n",
       "   relationship  race  sex  capital-gain  capital-loss  hours-per-week  \\\n",
       "0             1     4    1          2174             0              40   \n",
       "1             0     4    1             0             0              13   \n",
       "\n",
       "   native-country  income  \n",
       "0              39       0  \n",
       "1              39       0  "
      ]
     },
     "execution_count": 10,
     "metadata": {},
     "output_type": "execute_result"
    }
   ],
   "source": [
    "census.head(2)"
   ]
  },
  {
   "cell_type": "code",
   "execution_count": 11,
   "metadata": {},
   "outputs": [
    {
     "data": {
      "text/plain": [
       "array([0, 1], dtype=int64)"
      ]
     },
     "execution_count": 11,
     "metadata": {},
     "output_type": "execute_result"
    }
   ],
   "source": [
    "census.income.unique()"
   ]
  },
  {
   "cell_type": "code",
   "execution_count": 12,
   "metadata": {},
   "outputs": [],
   "source": [
    "census.income = census.income.round()"
   ]
  },
  {
   "cell_type": "code",
   "execution_count": 13,
   "metadata": {},
   "outputs": [
    {
     "data": {
      "text/plain": [
       "array([0, 1], dtype=int64)"
      ]
     },
     "execution_count": 13,
     "metadata": {},
     "output_type": "execute_result"
    }
   ],
   "source": [
    "census.income.unique()"
   ]
  },
  {
   "cell_type": "code",
   "execution_count": 14,
   "metadata": {},
   "outputs": [
    {
     "data": {
      "text/plain": [
       "age                0.557663\n",
       "workclass         -0.751598\n",
       "fnlwgt             1.447703\n",
       "education         -0.934160\n",
       "marital-status    -0.309500\n",
       "occupation        -0.012753\n",
       "handlers           0.114586\n",
       "relationship       0.786548\n",
       "race              -2.435338\n",
       "sex               -0.719449\n",
       "capital-gain      11.949403\n",
       "capital-loss       4.592702\n",
       "hours-per-week     0.228759\n",
       "native-country    -3.661128\n",
       "income             1.211687\n",
       "dtype: float64"
      ]
     },
     "execution_count": 14,
     "metadata": {},
     "output_type": "execute_result"
    }
   ],
   "source": [
    "#Check Skewness\n",
    "census.skew()"
   ]
  },
  {
   "cell_type": "code",
   "execution_count": 15,
   "metadata": {},
   "outputs": [],
   "source": [
    "for col in census.columns:\n",
    "    if census.skew().loc[col] > 0.55:\n",
    "        census[col]=np.log1p(census[col])\n",
    "    if census.skew().loc[col] <= 0.55:\n",
    "        census[col]=np.square(census[col])"
   ]
  },
  {
   "cell_type": "code",
   "execution_count": 16,
   "metadata": {},
   "outputs": [
    {
     "data": {
      "text/plain": [
       "age               0.064173\n",
       "workclass         1.196993\n",
       "fnlwgt           -0.670895\n",
       "education         0.148813\n",
       "marital-status    0.567468\n",
       "occupation        1.163633\n",
       "handlers          0.763913\n",
       "relationship      0.870346\n",
       "race             -2.120397\n",
       "sex              -0.719449\n",
       "capital-gain      3.094667\n",
       "capital-loss      4.305701\n",
       "hours-per-week    2.494981\n",
       "native-country   -3.151969\n",
       "income            1.211687\n",
       "dtype: float64"
      ]
     },
     "execution_count": 16,
     "metadata": {},
     "output_type": "execute_result"
    }
   ],
   "source": [
    "census.skew()"
   ]
  },
  {
   "cell_type": "markdown",
   "metadata": {},
   "source": [
    "Plotting Outliers"
   ]
  },
  {
   "cell_type": "code",
   "execution_count": 17,
   "metadata": {},
   "outputs": [
    {
     "data": {
      "text/plain": [
       "<matplotlib.axes._subplots.AxesSubplot at 0xccc6cb5848>"
      ]
     },
     "execution_count": 17,
     "metadata": {},
     "output_type": "execute_result"
    },
    {
     "data": {
      "image/png": "[encoded data removed]",
      "text/plain": [
       "<Figure size 1080x360 with 1 Axes>"
      ]
     },
     "metadata": {
      "needs_background": "light"
     },
     "output_type": "display_data"
    }
   ],
   "source": [
    "census.plot(kind='box',grid=True,title=\"Boxplot for Census Income Dataset\",legend=True,rot=30,figsize=(15,5))"
   ]
  },
  {
   "cell_type": "code",
   "execution_count": 18,
   "metadata": {},
   "outputs": [
    {
     "name": "stdout",
     "output_type": "stream",
     "text": [
      "(32537, 15)\n",
      "(24834, 15)\n"
     ]
    }
   ],
   "source": [
    "#check for Outlier\n",
    "from scipy.stats import zscore\n",
    "z_score=abs(zscore(census))\n",
    "print(census.shape)\n",
    "census=census.loc[(z_score < 3).all(axis=1)]\n",
    "print(census.shape)"
   ]
  },
  {
   "cell_type": "markdown",
   "metadata": {},
   "source": [
    "Exploring Data Variables"
   ]
  },
  {
   "cell_type": "code",
   "execution_count": 19,
   "metadata": {},
   "outputs": [
    {
     "data": {
      "text/plain": [
       "age                  73\n",
       "workclass             9\n",
       "fnlwgt            21648\n",
       "education            16\n",
       "marital-status       16\n",
       "occupation            7\n",
       "handlers             15\n",
       "relationship          6\n",
       "race                  5\n",
       "sex                   2\n",
       "capital-gain        119\n",
       "capital-loss         92\n",
       "hours-per-week       94\n",
       "native-country       42\n",
       "income                2\n",
       "dtype: int64"
      ]
     },
     "execution_count": 19,
     "metadata": {},
     "output_type": "execute_result"
    }
   ],
   "source": [
    "data.nunique()"
   ]
  },
  {
   "cell_type": "code",
   "execution_count": 20,
   "metadata": {},
   "outputs": [
    {
     "data": {
      "text/plain": [
       "<matplotlib.axes._subplots.AxesSubplot at 0xccca322408>"
      ]
     },
     "execution_count": 20,
     "metadata": {},
     "output_type": "execute_result"
    },
    {
     "data": {
      "image/png": "[encoded data removed]",
      "text/plain": [
       "<Figure size 432x288 with 1 Axes>"
      ]
     },
     "metadata": {
      "needs_background": "light"
     },
     "output_type": "display_data"
    }
   ],
   "source": [
    "sns.countplot(y=\"workclass\",data=data)"
   ]
  },
  {
   "cell_type": "code",
   "execution_count": 29,
   "metadata": {},
   "outputs": [
    {
     "data": {
      "text/plain": [
       "<matplotlib.axes._subplots.AxesSubplot at 0x51e03ce688>"
      ]
     },
     "execution_count": 29,
     "metadata": {},
     "output_type": "execute_result"
    },
    {
     "data": {
      "image/png": "[encoded data removed]",
      "text/plain": [
       "<Figure size 432x288 with 1 Axes>"
      ]
     },
     "metadata": {
      "needs_background": "light"
     },
     "output_type": "display_data"
    }
   ],
   "source": [
    "sns.countplot(y=\"education\",data=data)"
   ]
  },
  {
   "cell_type": "code",
   "execution_count": 221,
   "metadata": {},
   "outputs": [
    {
     "data": {
      "text/plain": [
       "<matplotlib.axes._subplots.AxesSubplot at 0xf6b0f5a488>"
      ]
     },
     "execution_count": 221,
     "metadata": {},
     "output_type": "execute_result"
    },
    {
     "data": {
      "image/png": "[encoded data removed]",
      "text/plain": [
       "<Figure size 432x288 with 1 Axes>"
      ]
     },
     "metadata": {
      "needs_background": "light"
     },
     "output_type": "display_data"
    }
   ],
   "source": [
    "sns.countplot(y=\"marital-status\",data=data)"
   ]
  },
  {
   "cell_type": "code",
   "execution_count": 222,
   "metadata": {},
   "outputs": [
    {
     "data": {
      "text/plain": [
       "<matplotlib.axes._subplots.AxesSubplot at 0xf6b0ff9908>"
      ]
     },
     "execution_count": 222,
     "metadata": {},
     "output_type": "execute_result"
    },
    {
     "data": {
      "image/png": "[encoded data removed]",
      "text/plain": [
       "<Figure size 432x288 with 1 Axes>"
      ]
     },
     "metadata": {
      "needs_background": "light"
     },
     "output_type": "display_data"
    }
   ],
   "source": [
    "sns.countplot(y=\"occupation\",data=data)"
   ]
  },
  {
   "cell_type": "code",
   "execution_count": 223,
   "metadata": {},
   "outputs": [
    {
     "data": {
      "text/plain": [
       "<matplotlib.axes._subplots.AxesSubplot at 0xf6b106cfc8>"
      ]
     },
     "execution_count": 223,
     "metadata": {},
     "output_type": "execute_result"
    },
    {
     "data": {
      "image/png": "[encoded data removed]",
      "text/plain": [
       "<Figure size 432x288 with 1 Axes>"
      ]
     },
     "metadata": {
      "needs_background": "light"
     },
     "output_type": "display_data"
    }
   ],
   "source": [
    "sns.countplot(y=\"handlers\",data=data)"
   ]
  },
  {
   "cell_type": "code",
   "execution_count": 224,
   "metadata": {},
   "outputs": [
    {
     "data": {
      "text/plain": [
       "<matplotlib.axes._subplots.AxesSubplot at 0xf6b116c2c8>"
      ]
     },
     "execution_count": 224,
     "metadata": {},
     "output_type": "execute_result"
    },
    {
     "data": {
      "image/png": "[encoded data removed]",
      "text/plain": [
       "<Figure size 432x288 with 1 Axes>"
      ]
     },
     "metadata": {
      "needs_background": "light"
     },
     "output_type": "display_data"
    }
   ],
   "source": [
    "sns.countplot(y=\"relationship\",data=data)"
   ]
  },
  {
   "cell_type": "code",
   "execution_count": 225,
   "metadata": {},
   "outputs": [
    {
     "data": {
      "text/plain": [
       "<matplotlib.axes._subplots.AxesSubplot at 0xf6b11d7788>"
      ]
     },
     "execution_count": 225,
     "metadata": {},
     "output_type": "execute_result"
    },
    {
     "data": {
      "image/png": "[encoded data removed]",
      "text/plain": [
       "<Figure size 432x288 with 1 Axes>"
      ]
     },
     "metadata": {
      "needs_background": "light"
     },
     "output_type": "display_data"
    }
   ],
   "source": [
    "sns.countplot(y=\"race\",data=data)"
   ]
  },
  {
   "cell_type": "code",
   "execution_count": 226,
   "metadata": {},
   "outputs": [
    {
     "data": {
      "text/plain": [
       "<matplotlib.axes._subplots.AxesSubplot at 0xf6aa2ada08>"
      ]
     },
     "execution_count": 226,
     "metadata": {},
     "output_type": "execute_result"
    },
    {
     "data": {
      "image/png": "[encoded data removed]",
      "text/plain": [
       "<Figure size 432x288 with 1 Axes>"
      ]
     },
     "metadata": {
      "needs_background": "light"
     },
     "output_type": "display_data"
    }
   ],
   "source": [
    "sns.countplot(y=\"sex\",data=data)"
   ]
  },
  {
   "cell_type": "code",
   "execution_count": 227,
   "metadata": {},
   "outputs": [
    {
     "data": {
      "text/plain": [
       "<matplotlib.axes._subplots.AxesSubplot at 0xf6b12d0e88>"
      ]
     },
     "execution_count": 227,
     "metadata": {},
     "output_type": "execute_result"
    },
    {
     "data": {
      "image/png": "[encoded data removed]",
      "text/plain": [
       "<Figure size 432x288 with 1 Axes>"
      ]
     },
     "metadata": {
      "needs_background": "light"
     },
     "output_type": "display_data"
    }
   ],
   "source": [
    "sns.countplot(y=\"education\",data=data)"
   ]
  },
  {
   "cell_type": "code",
   "execution_count": 228,
   "metadata": {},
   "outputs": [
    {
     "data": {
      "text/plain": [
       "<matplotlib.axes._subplots.AxesSubplot at 0xf6b1e52348>"
      ]
     },
     "execution_count": 228,
     "metadata": {},
     "output_type": "execute_result"
    },
    {
     "data": {
      "image/png": "[encoded data removed]",
      "text/plain": [
       "<Figure size 432x288 with 1 Axes>"
      ]
     },
     "metadata": {
      "needs_background": "light"
     },
     "output_type": "display_data"
    }
   ],
   "source": [
    "sns.countplot(y=\"income\",data=data)"
   ]
  },
  {
   "cell_type": "code",
   "execution_count": 47,
   "metadata": {},
   "outputs": [
    {
     "data": {
      "text/plain": [
       "<matplotlib.axes._subplots.AxesSubplot at 0xf6a74e6308>"
      ]
     },
     "execution_count": 47,
     "metadata": {},
     "output_type": "execute_result"
    },
    {
     "data": {
      "image/png": "[encoded data removed]",
      "text/plain": [
       "<Figure size 432x288 with 1 Axes>"
      ]
     },
     "metadata": {
      "needs_background": "light"
     },
     "output_type": "display_data"
    }
   ],
   "source": [
    "#Education vs Income\n",
    "sns.countplot(y=\"education\",hue=\"income\",data=data)"
   ]
  },
  {
   "cell_type": "code",
   "execution_count": 48,
   "metadata": {},
   "outputs": [
    {
     "data": {
      "text/plain": [
       "<matplotlib.axes._subplots.AxesSubplot at 0xf6a75d2f88>"
      ]
     },
     "execution_count": 48,
     "metadata": {},
     "output_type": "execute_result"
    },
    {
     "data": {
      "image/png": "[encoded data removed]",
      "text/plain": [
       "<Figure size 432x288 with 1 Axes>"
      ]
     },
     "metadata": {
      "needs_background": "light"
     },
     "output_type": "display_data"
    }
   ],
   "source": [
    "#Sex vs Income\n",
    "sns.countplot(y=\"sex\",hue=\"income\",data=data)"
   ]
  },
  {
   "cell_type": "code",
   "execution_count": 49,
   "metadata": {},
   "outputs": [
    {
     "data": {
      "text/plain": [
       "<matplotlib.axes._subplots.AxesSubplot at 0xf6a763ce08>"
      ]
     },
     "execution_count": 49,
     "metadata": {},
     "output_type": "execute_result"
    },
    {
     "data": {
      "image/png": "[encoded data removed]",
      "text/plain": [
       "<Figure size 432x288 with 1 Axes>"
      ]
     },
     "metadata": {
      "needs_background": "light"
     },
     "output_type": "display_data"
    }
   ],
   "source": [
    "sns.countplot(y=\"workclass\",hue=\"income\",data=data)"
   ]
  },
  {
   "cell_type": "code",
   "execution_count": 50,
   "metadata": {},
   "outputs": [
    {
     "data": {
      "text/plain": [
       "<matplotlib.axes._subplots.AxesSubplot at 0xf6aa165608>"
      ]
     },
     "execution_count": 50,
     "metadata": {},
     "output_type": "execute_result"
    },
    {
     "data": {
      "image/png": "[encoded data removed]",
      "text/plain": [
       "<Figure size 432x288 with 1 Axes>"
      ]
     },
     "metadata": {
      "needs_background": "light"
     },
     "output_type": "display_data"
    }
   ],
   "source": [
    "sns.countplot(y=\"occupation\",hue=\"income\",data=data)"
   ]
  },
  {
   "cell_type": "code",
   "execution_count": 51,
   "metadata": {},
   "outputs": [
    {
     "data": {
      "text/plain": [
       "<matplotlib.axes._subplots.AxesSubplot at 0xf6aa1f9288>"
      ]
     },
     "execution_count": 51,
     "metadata": {},
     "output_type": "execute_result"
    },
    {
     "data": {
      "image/png": "[encoded data removed]",
      "text/plain": [
       "<Figure size 432x288 with 1 Axes>"
      ]
     },
     "metadata": {
      "needs_background": "light"
     },
     "output_type": "display_data"
    }
   ],
   "source": [
    "sns.countplot(y=\"workclass\",hue=\"income\",data=data)"
   ]
  },
  {
   "cell_type": "code",
   "execution_count": 338,
   "metadata": {},
   "outputs": [
    {
     "data": {
      "text/plain": [
       "<matplotlib.axes._subplots.AxesSubplot at 0xe3077db108>"
      ]
     },
     "execution_count": 338,
     "metadata": {},
     "output_type": "execute_result"
    },
    {
     "data": {
      "image/png": "[encoded data removed]",
      "text/plain": [
       "<Figure size 432x288 with 1 Axes>"
      ]
     },
     "metadata": {
      "needs_background": "light"
     },
     "output_type": "display_data"
    }
   ],
   "source": [
    "sns.countplot(y=\"race\",hue=\"income\",data=data)"
   ]
  },
  {
   "cell_type": "markdown",
   "metadata": {},
   "source": [
    "Summary Statistics"
   ]
  },
  {
   "cell_type": "code",
   "execution_count": 30,
   "metadata": {},
   "outputs": [
    {
     "data": {
      "text/html": [
       "<div>\n",
       "<style scoped>\n",
       "    .dataframe tbody tr th:only-of-type {\n",
       "        vertical-align: middle;\n",
       "    }\n",
       "\n",
       "    .dataframe tbody tr th {\n",
       "        vertical-align: top;\n",
       "    }\n",
       "\n",
       "    .dataframe thead th {\n",
       "        text-align: right;\n",
       "    }\n",
       "</style>\n",
       "<table border=\"1\" class=\"dataframe\">\n",
       "  <thead>\n",
       "    <tr style=\"text-align: right;\">\n",
       "      <th></th>\n",
       "      <th>age</th>\n",
       "      <th>workclass</th>\n",
       "      <th>fnlwgt</th>\n",
       "      <th>education</th>\n",
       "      <th>marital-status</th>\n",
       "      <th>occupation</th>\n",
       "      <th>handlers</th>\n",
       "      <th>relationship</th>\n",
       "      <th>race</th>\n",
       "      <th>sex</th>\n",
       "      <th>capital-gain</th>\n",
       "      <th>capital-loss</th>\n",
       "      <th>hours-per-week</th>\n",
       "      <th>native-country</th>\n",
       "      <th>income</th>\n",
       "    </tr>\n",
       "  </thead>\n",
       "  <tbody>\n",
       "    <tr>\n",
       "      <td>count</td>\n",
       "      <td>24834.000000</td>\n",
       "      <td>24834.000000</td>\n",
       "      <td>24834.000000</td>\n",
       "      <td>24834.000000</td>\n",
       "      <td>24834.000000</td>\n",
       "      <td>24834.000000</td>\n",
       "      <td>24834.000000</td>\n",
       "      <td>24834.000000</td>\n",
       "      <td>24834.000000</td>\n",
       "      <td>24834.000000</td>\n",
       "      <td>24834.000000</td>\n",
       "      <td>24834.000000</td>\n",
       "      <td>24834.000000</td>\n",
       "      <td>24834.000000</td>\n",
       "      <td>24834.000000</td>\n",
       "    </tr>\n",
       "    <tr>\n",
       "      <td>mean</td>\n",
       "      <td>12.956998</td>\n",
       "      <td>15.653177</td>\n",
       "      <td>144.232942</td>\n",
       "      <td>121.025046</td>\n",
       "      <td>104.499919</td>\n",
       "      <td>8.546871</td>\n",
       "      <td>60.253483</td>\n",
       "      <td>0.911318</td>\n",
       "      <td>14.363010</td>\n",
       "      <td>0.671982</td>\n",
       "      <td>0.155036</td>\n",
       "      <td>0.000203</td>\n",
       "      <td>1692.774624</td>\n",
       "      <td>1476.945720</td>\n",
       "      <td>0.133974</td>\n",
       "    </tr>\n",
       "    <tr>\n",
       "      <td>std</td>\n",
       "      <td>2.502769</td>\n",
       "      <td>7.988232</td>\n",
       "      <td>14.586565</td>\n",
       "      <td>69.737852</td>\n",
       "      <td>47.775615</td>\n",
       "      <td>7.012877</td>\n",
       "      <td>60.027717</td>\n",
       "      <td>1.042023</td>\n",
       "      <td>4.233179</td>\n",
       "      <td>0.469501</td>\n",
       "      <td>1.080860</td>\n",
       "      <td>0.032045</td>\n",
       "      <td>842.839390</td>\n",
       "      <td>187.698502</td>\n",
       "      <td>0.273711</td>\n",
       "    </tr>\n",
       "    <tr>\n",
       "      <td>min</td>\n",
       "      <td>8.354249</td>\n",
       "      <td>0.000000</td>\n",
       "      <td>99.634291</td>\n",
       "      <td>0.000000</td>\n",
       "      <td>1.000000</td>\n",
       "      <td>0.000000</td>\n",
       "      <td>0.000000</td>\n",
       "      <td>0.000000</td>\n",
       "      <td>1.000000</td>\n",
       "      <td>0.000000</td>\n",
       "      <td>0.000000</td>\n",
       "      <td>0.000000</td>\n",
       "      <td>1.000000</td>\n",
       "      <td>361.000000</td>\n",
       "      <td>0.000000</td>\n",
       "    </tr>\n",
       "    <tr>\n",
       "      <td>25%</td>\n",
       "      <td>10.862541</td>\n",
       "      <td>16.000000</td>\n",
       "      <td>136.466295</td>\n",
       "      <td>81.000000</td>\n",
       "      <td>81.000000</td>\n",
       "      <td>4.000000</td>\n",
       "      <td>9.000000</td>\n",
       "      <td>0.000000</td>\n",
       "      <td>16.000000</td>\n",
       "      <td>0.000000</td>\n",
       "      <td>0.000000</td>\n",
       "      <td>0.000000</td>\n",
       "      <td>1600.000000</td>\n",
       "      <td>1521.000000</td>\n",
       "      <td>0.000000</td>\n",
       "    </tr>\n",
       "    <tr>\n",
       "      <td>50%</td>\n",
       "      <td>13.038728</td>\n",
       "      <td>16.000000</td>\n",
       "      <td>146.422393</td>\n",
       "      <td>121.000000</td>\n",
       "      <td>100.000000</td>\n",
       "      <td>4.000000</td>\n",
       "      <td>36.000000</td>\n",
       "      <td>0.480453</td>\n",
       "      <td>16.000000</td>\n",
       "      <td>1.000000</td>\n",
       "      <td>0.000000</td>\n",
       "      <td>0.000000</td>\n",
       "      <td>1600.000000</td>\n",
       "      <td>1521.000000</td>\n",
       "      <td>0.000000</td>\n",
       "    </tr>\n",
       "    <tr>\n",
       "      <td>75%</td>\n",
       "      <td>14.823637</td>\n",
       "      <td>16.000000</td>\n",
       "      <td>153.303300</td>\n",
       "      <td>144.000000</td>\n",
       "      <td>121.000000</td>\n",
       "      <td>16.000000</td>\n",
       "      <td>100.000000</td>\n",
       "      <td>1.921812</td>\n",
       "      <td>16.000000</td>\n",
       "      <td>1.000000</td>\n",
       "      <td>0.000000</td>\n",
       "      <td>0.000000</td>\n",
       "      <td>2025.000000</td>\n",
       "      <td>1521.000000</td>\n",
       "      <td>0.000000</td>\n",
       "    </tr>\n",
       "    <tr>\n",
       "      <td>max</td>\n",
       "      <td>20.347853</td>\n",
       "      <td>36.000000</td>\n",
       "      <td>188.283356</td>\n",
       "      <td>225.000000</td>\n",
       "      <td>256.000000</td>\n",
       "      <td>25.000000</td>\n",
       "      <td>196.000000</td>\n",
       "      <td>3.210402</td>\n",
       "      <td>16.000000</td>\n",
       "      <td>1.000000</td>\n",
       "      <td>8.093768</td>\n",
       "      <td>5.049856</td>\n",
       "      <td>4900.000000</td>\n",
       "      <td>1681.000000</td>\n",
       "      <td>0.693147</td>\n",
       "    </tr>\n",
       "  </tbody>\n",
       "</table>\n",
       "</div>"
      ],
      "text/plain": [
       "                age     workclass        fnlwgt     education  marital-status  \\\n",
       "count  24834.000000  24834.000000  24834.000000  24834.000000    24834.000000   \n",
       "mean      12.956998     15.653177    144.232942    121.025046      104.499919   \n",
       "std        2.502769      7.988232     14.586565     69.737852       47.775615   \n",
       "min        8.354249      0.000000     99.634291      0.000000        1.000000   \n",
       "25%       10.862541     16.000000    136.466295     81.000000       81.000000   \n",
       "50%       13.038728     16.000000    146.422393    121.000000      100.000000   \n",
       "75%       14.823637     16.000000    153.303300    144.000000      121.000000   \n",
       "max       20.347853     36.000000    188.283356    225.000000      256.000000   \n",
       "\n",
       "         occupation      handlers  relationship          race           sex  \\\n",
       "count  24834.000000  24834.000000  24834.000000  24834.000000  24834.000000   \n",
       "mean       8.546871     60.253483      0.911318     14.363010      0.671982   \n",
       "std        7.012877     60.027717      1.042023      4.233179      0.469501   \n",
       "min        0.000000      0.000000      0.000000      1.000000      0.000000   \n",
       "25%        4.000000      9.000000      0.000000     16.000000      0.000000   \n",
       "50%        4.000000     36.000000      0.480453     16.000000      1.000000   \n",
       "75%       16.000000    100.000000      1.921812     16.000000      1.000000   \n",
       "max       25.000000    196.000000      3.210402     16.000000      1.000000   \n",
       "\n",
       "       capital-gain  capital-loss  hours-per-week  native-country  \\\n",
       "count  24834.000000  24834.000000    24834.000000    24834.000000   \n",
       "mean       0.155036      0.000203     1692.774624     1476.945720   \n",
       "std        1.080860      0.032045      842.839390      187.698502   \n",
       "min        0.000000      0.000000        1.000000      361.000000   \n",
       "25%        0.000000      0.000000     1600.000000     1521.000000   \n",
       "50%        0.000000      0.000000     1600.000000     1521.000000   \n",
       "75%        0.000000      0.000000     2025.000000     1521.000000   \n",
       "max        8.093768      5.049856     4900.000000     1681.000000   \n",
       "\n",
       "             income  \n",
       "count  24834.000000  \n",
       "mean       0.133974  \n",
       "std        0.273711  \n",
       "min        0.000000  \n",
       "25%        0.000000  \n",
       "50%        0.000000  \n",
       "75%        0.000000  \n",
       "max        0.693147  "
      ]
     },
     "execution_count": 30,
     "metadata": {},
     "output_type": "execute_result"
    }
   ],
   "source": [
    "census.describe()"
   ]
  },
  {
   "cell_type": "code",
   "execution_count": 31,
   "metadata": {},
   "outputs": [
    {
     "data": {
      "text/html": [
       "<div>\n",
       "<style scoped>\n",
       "    .dataframe tbody tr th:only-of-type {\n",
       "        vertical-align: middle;\n",
       "    }\n",
       "\n",
       "    .dataframe tbody tr th {\n",
       "        vertical-align: top;\n",
       "    }\n",
       "\n",
       "    .dataframe thead th {\n",
       "        text-align: right;\n",
       "    }\n",
       "</style>\n",
       "<table border=\"1\" class=\"dataframe\">\n",
       "  <thead>\n",
       "    <tr style=\"text-align: right;\">\n",
       "      <th></th>\n",
       "      <th>age</th>\n",
       "      <th>workclass</th>\n",
       "      <th>fnlwgt</th>\n",
       "      <th>education</th>\n",
       "      <th>marital-status</th>\n",
       "      <th>occupation</th>\n",
       "      <th>handlers</th>\n",
       "      <th>relationship</th>\n",
       "      <th>race</th>\n",
       "      <th>sex</th>\n",
       "      <th>capital-gain</th>\n",
       "      <th>capital-loss</th>\n",
       "      <th>hours-per-week</th>\n",
       "      <th>native-country</th>\n",
       "      <th>income</th>\n",
       "    </tr>\n",
       "  </thead>\n",
       "  <tbody>\n",
       "    <tr>\n",
       "      <td>age</td>\n",
       "      <td>1.000000</td>\n",
       "      <td>0.080348</td>\n",
       "      <td>-0.060944</td>\n",
       "      <td>-0.036101</td>\n",
       "      <td>0.090035</td>\n",
       "      <td>-0.496813</td>\n",
       "      <td>-0.003584</td>\n",
       "      <td>-0.310093</td>\n",
       "      <td>0.016205</td>\n",
       "      <td>0.149044</td>\n",
       "      <td>0.035666</td>\n",
       "      <td>-0.004103</td>\n",
       "      <td>0.160870</td>\n",
       "      <td>0.022726</td>\n",
       "      <td>0.264275</td>\n",
       "    </tr>\n",
       "    <tr>\n",
       "      <td>workclass</td>\n",
       "      <td>0.080348</td>\n",
       "      <td>1.000000</td>\n",
       "      <td>-0.031288</td>\n",
       "      <td>-0.011953</td>\n",
       "      <td>0.004107</td>\n",
       "      <td>-0.077654</td>\n",
       "      <td>0.111648</td>\n",
       "      <td>-0.115796</td>\n",
       "      <td>0.076057</td>\n",
       "      <td>0.123538</td>\n",
       "      <td>0.014975</td>\n",
       "      <td>0.000276</td>\n",
       "      <td>0.155236</td>\n",
       "      <td>-0.011374</td>\n",
       "      <td>0.034478</td>\n",
       "    </tr>\n",
       "    <tr>\n",
       "      <td>fnlwgt</td>\n",
       "      <td>-0.060944</td>\n",
       "      <td>-0.031288</td>\n",
       "      <td>1.000000</td>\n",
       "      <td>-0.017479</td>\n",
       "      <td>-0.039055</td>\n",
       "      <td>0.045042</td>\n",
       "      <td>-0.007244</td>\n",
       "      <td>0.018274</td>\n",
       "      <td>-0.069789</td>\n",
       "      <td>0.013274</td>\n",
       "      <td>-0.008986</td>\n",
       "      <td>-0.001602</td>\n",
       "      <td>-0.041225</td>\n",
       "      <td>-0.094084</td>\n",
       "      <td>-0.007654</td>\n",
       "    </tr>\n",
       "    <tr>\n",
       "      <td>education</td>\n",
       "      <td>-0.036101</td>\n",
       "      <td>-0.011953</td>\n",
       "      <td>-0.017479</td>\n",
       "      <td>1.000000</td>\n",
       "      <td>0.161612</td>\n",
       "      <td>0.003443</td>\n",
       "      <td>-0.017347</td>\n",
       "      <td>0.020704</td>\n",
       "      <td>0.004516</td>\n",
       "      <td>-0.049250</td>\n",
       "      <td>-0.008829</td>\n",
       "      <td>-0.011013</td>\n",
       "      <td>0.018468</td>\n",
       "      <td>0.093515</td>\n",
       "      <td>0.037119</td>\n",
       "    </tr>\n",
       "    <tr>\n",
       "      <td>marital-status</td>\n",
       "      <td>0.090035</td>\n",
       "      <td>0.004107</td>\n",
       "      <td>-0.039055</td>\n",
       "      <td>0.161612</td>\n",
       "      <td>1.000000</td>\n",
       "      <td>-0.049876</td>\n",
       "      <td>0.105517</td>\n",
       "      <td>-0.094848</td>\n",
       "      <td>0.032062</td>\n",
       "      <td>-0.004163</td>\n",
       "      <td>-0.022761</td>\n",
       "      <td>-0.009099</td>\n",
       "      <td>0.156907</td>\n",
       "      <td>0.099883</td>\n",
       "      <td>0.313635</td>\n",
       "    </tr>\n",
       "    <tr>\n",
       "      <td>occupation</td>\n",
       "      <td>-0.496813</td>\n",
       "      <td>-0.077654</td>\n",
       "      <td>0.045042</td>\n",
       "      <td>0.003443</td>\n",
       "      <td>-0.049876</td>\n",
       "      <td>1.000000</td>\n",
       "      <td>-0.003026</td>\n",
       "      <td>0.286562</td>\n",
       "      <td>-0.112894</td>\n",
       "      <td>-0.179164</td>\n",
       "      <td>-0.019485</td>\n",
       "      <td>0.006744</td>\n",
       "      <td>-0.197487</td>\n",
       "      <td>-0.025533</td>\n",
       "      <td>-0.274121</td>\n",
       "    </tr>\n",
       "    <tr>\n",
       "      <td>handlers</td>\n",
       "      <td>-0.003584</td>\n",
       "      <td>0.111648</td>\n",
       "      <td>-0.007244</td>\n",
       "      <td>-0.017347</td>\n",
       "      <td>0.105517</td>\n",
       "      <td>-0.003026</td>\n",
       "      <td>1.000000</td>\n",
       "      <td>-0.062387</td>\n",
       "      <td>0.011438</td>\n",
       "      <td>0.052921</td>\n",
       "      <td>-0.008522</td>\n",
       "      <td>-0.001190</td>\n",
       "      <td>0.064631</td>\n",
       "      <td>0.026313</td>\n",
       "      <td>0.056650</td>\n",
       "    </tr>\n",
       "    <tr>\n",
       "      <td>relationship</td>\n",
       "      <td>-0.310093</td>\n",
       "      <td>-0.115796</td>\n",
       "      <td>0.018274</td>\n",
       "      <td>0.020704</td>\n",
       "      <td>-0.094848</td>\n",
       "      <td>0.286562</td>\n",
       "      <td>-0.062387</td>\n",
       "      <td>1.000000</td>\n",
       "      <td>-0.127843</td>\n",
       "      <td>-0.554466</td>\n",
       "      <td>-0.012584</td>\n",
       "      <td>-0.002624</td>\n",
       "      <td>-0.257404</td>\n",
       "      <td>-0.000364</td>\n",
       "      <td>-0.223510</td>\n",
       "    </tr>\n",
       "    <tr>\n",
       "      <td>race</td>\n",
       "      <td>0.016205</td>\n",
       "      <td>0.076057</td>\n",
       "      <td>-0.069789</td>\n",
       "      <td>0.004516</td>\n",
       "      <td>0.032062</td>\n",
       "      <td>-0.112894</td>\n",
       "      <td>0.011438</td>\n",
       "      <td>-0.127843</td>\n",
       "      <td>1.000000</td>\n",
       "      <td>0.108278</td>\n",
       "      <td>0.007574</td>\n",
       "      <td>0.002454</td>\n",
       "      <td>0.066904</td>\n",
       "      <td>0.157780</td>\n",
       "      <td>0.072524</td>\n",
       "    </tr>\n",
       "    <tr>\n",
       "      <td>sex</td>\n",
       "      <td>0.149044</td>\n",
       "      <td>0.123538</td>\n",
       "      <td>0.013274</td>\n",
       "      <td>-0.049250</td>\n",
       "      <td>-0.004163</td>\n",
       "      <td>-0.179164</td>\n",
       "      <td>0.052921</td>\n",
       "      <td>-0.554466</td>\n",
       "      <td>0.108278</td>\n",
       "      <td>1.000000</td>\n",
       "      <td>0.013422</td>\n",
       "      <td>-0.009083</td>\n",
       "      <td>0.221424</td>\n",
       "      <td>-0.020478</td>\n",
       "      <td>0.193852</td>\n",
       "    </tr>\n",
       "    <tr>\n",
       "      <td>capital-gain</td>\n",
       "      <td>0.035666</td>\n",
       "      <td>0.014975</td>\n",
       "      <td>-0.008986</td>\n",
       "      <td>-0.008829</td>\n",
       "      <td>-0.022761</td>\n",
       "      <td>-0.019485</td>\n",
       "      <td>-0.008522</td>\n",
       "      <td>-0.012584</td>\n",
       "      <td>0.007574</td>\n",
       "      <td>0.013422</td>\n",
       "      <td>1.000000</td>\n",
       "      <td>-0.000910</td>\n",
       "      <td>-0.005796</td>\n",
       "      <td>0.001140</td>\n",
       "      <td>-0.004213</td>\n",
       "    </tr>\n",
       "    <tr>\n",
       "      <td>capital-loss</td>\n",
       "      <td>-0.004103</td>\n",
       "      <td>0.000276</td>\n",
       "      <td>-0.001602</td>\n",
       "      <td>-0.011013</td>\n",
       "      <td>-0.009099</td>\n",
       "      <td>0.006744</td>\n",
       "      <td>-0.001190</td>\n",
       "      <td>-0.002624</td>\n",
       "      <td>0.002454</td>\n",
       "      <td>-0.009083</td>\n",
       "      <td>-0.000910</td>\n",
       "      <td>1.000000</td>\n",
       "      <td>-0.000699</td>\n",
       "      <td>0.001489</td>\n",
       "      <td>-0.003106</td>\n",
       "    </tr>\n",
       "    <tr>\n",
       "      <td>hours-per-week</td>\n",
       "      <td>0.160870</td>\n",
       "      <td>0.155236</td>\n",
       "      <td>-0.041225</td>\n",
       "      <td>0.018468</td>\n",
       "      <td>0.156907</td>\n",
       "      <td>-0.197487</td>\n",
       "      <td>0.064631</td>\n",
       "      <td>-0.257404</td>\n",
       "      <td>0.066904</td>\n",
       "      <td>0.221424</td>\n",
       "      <td>-0.005796</td>\n",
       "      <td>-0.000699</td>\n",
       "      <td>1.000000</td>\n",
       "      <td>0.010854</td>\n",
       "      <td>0.221048</td>\n",
       "    </tr>\n",
       "    <tr>\n",
       "      <td>native-country</td>\n",
       "      <td>0.022726</td>\n",
       "      <td>-0.011374</td>\n",
       "      <td>-0.094084</td>\n",
       "      <td>0.093515</td>\n",
       "      <td>0.099883</td>\n",
       "      <td>-0.025533</td>\n",
       "      <td>0.026313</td>\n",
       "      <td>-0.000364</td>\n",
       "      <td>0.157780</td>\n",
       "      <td>-0.020478</td>\n",
       "      <td>0.001140</td>\n",
       "      <td>0.001489</td>\n",
       "      <td>0.010854</td>\n",
       "      <td>1.000000</td>\n",
       "      <td>0.035769</td>\n",
       "    </tr>\n",
       "    <tr>\n",
       "      <td>income</td>\n",
       "      <td>0.264275</td>\n",
       "      <td>0.034478</td>\n",
       "      <td>-0.007654</td>\n",
       "      <td>0.037119</td>\n",
       "      <td>0.313635</td>\n",
       "      <td>-0.274121</td>\n",
       "      <td>0.056650</td>\n",
       "      <td>-0.223510</td>\n",
       "      <td>0.072524</td>\n",
       "      <td>0.193852</td>\n",
       "      <td>-0.004213</td>\n",
       "      <td>-0.003106</td>\n",
       "      <td>0.221048</td>\n",
       "      <td>0.035769</td>\n",
       "      <td>1.000000</td>\n",
       "    </tr>\n",
       "  </tbody>\n",
       "</table>\n",
       "</div>"
      ],
      "text/plain": [
       "                     age  workclass    fnlwgt  education  marital-status  \\\n",
       "age             1.000000   0.080348 -0.060944  -0.036101        0.090035   \n",
       "workclass       0.080348   1.000000 -0.031288  -0.011953        0.004107   \n",
       "fnlwgt         -0.060944  -0.031288  1.000000  -0.017479       -0.039055   \n",
       "education      -0.036101  -0.011953 -0.017479   1.000000        0.161612   \n",
       "marital-status  0.090035   0.004107 -0.039055   0.161612        1.000000   \n",
       "occupation     -0.496813  -0.077654  0.045042   0.003443       -0.049876   \n",
       "handlers       -0.003584   0.111648 -0.007244  -0.017347        0.105517   \n",
       "relationship   -0.310093  -0.115796  0.018274   0.020704       -0.094848   \n",
       "race            0.016205   0.076057 -0.069789   0.004516        0.032062   \n",
       "sex             0.149044   0.123538  0.013274  -0.049250       -0.004163   \n",
       "capital-gain    0.035666   0.014975 -0.008986  -0.008829       -0.022761   \n",
       "capital-loss   -0.004103   0.000276 -0.001602  -0.011013       -0.009099   \n",
       "hours-per-week  0.160870   0.155236 -0.041225   0.018468        0.156907   \n",
       "native-country  0.022726  -0.011374 -0.094084   0.093515        0.099883   \n",
       "income          0.264275   0.034478 -0.007654   0.037119        0.313635   \n",
       "\n",
       "                occupation  handlers  relationship      race       sex  \\\n",
       "age              -0.496813 -0.003584     -0.310093  0.016205  0.149044   \n",
       "workclass        -0.077654  0.111648     -0.115796  0.076057  0.123538   \n",
       "fnlwgt            0.045042 -0.007244      0.018274 -0.069789  0.013274   \n",
       "education         0.003443 -0.017347      0.020704  0.004516 -0.049250   \n",
       "marital-status   -0.049876  0.105517     -0.094848  0.032062 -0.004163   \n",
       "occupation        1.000000 -0.003026      0.286562 -0.112894 -0.179164   \n",
       "handlers         -0.003026  1.000000     -0.062387  0.011438  0.052921   \n",
       "relationship      0.286562 -0.062387      1.000000 -0.127843 -0.554466   \n",
       "race             -0.112894  0.011438     -0.127843  1.000000  0.108278   \n",
       "sex              -0.179164  0.052921     -0.554466  0.108278  1.000000   \n",
       "capital-gain     -0.019485 -0.008522     -0.012584  0.007574  0.013422   \n",
       "capital-loss      0.006744 -0.001190     -0.002624  0.002454 -0.009083   \n",
       "hours-per-week   -0.197487  0.064631     -0.257404  0.066904  0.221424   \n",
       "native-country   -0.025533  0.026313     -0.000364  0.157780 -0.020478   \n",
       "income           -0.274121  0.056650     -0.223510  0.072524  0.193852   \n",
       "\n",
       "                capital-gain  capital-loss  hours-per-week  native-country  \\\n",
       "age                 0.035666     -0.004103        0.160870        0.022726   \n",
       "workclass           0.014975      0.000276        0.155236       -0.011374   \n",
       "fnlwgt             -0.008986     -0.001602       -0.041225       -0.094084   \n",
       "education          -0.008829     -0.011013        0.018468        0.093515   \n",
       "marital-status     -0.022761     -0.009099        0.156907        0.099883   \n",
       "occupation         -0.019485      0.006744       -0.197487       -0.025533   \n",
       "handlers           -0.008522     -0.001190        0.064631        0.026313   \n",
       "relationship       -0.012584     -0.002624       -0.257404       -0.000364   \n",
       "race                0.007574      0.002454        0.066904        0.157780   \n",
       "sex                 0.013422     -0.009083        0.221424       -0.020478   \n",
       "capital-gain        1.000000     -0.000910       -0.005796        0.001140   \n",
       "capital-loss       -0.000910      1.000000       -0.000699        0.001489   \n",
       "hours-per-week     -0.005796     -0.000699        1.000000        0.010854   \n",
       "native-country      0.001140      0.001489        0.010854        1.000000   \n",
       "income             -0.004213     -0.003106        0.221048        0.035769   \n",
       "\n",
       "                  income  \n",
       "age             0.264275  \n",
       "workclass       0.034478  \n",
       "fnlwgt         -0.007654  \n",
       "education       0.037119  \n",
       "marital-status  0.313635  \n",
       "occupation     -0.274121  \n",
       "handlers        0.056650  \n",
       "relationship   -0.223510  \n",
       "race            0.072524  \n",
       "sex             0.193852  \n",
       "capital-gain   -0.004213  \n",
       "capital-loss   -0.003106  \n",
       "hours-per-week  0.221048  \n",
       "native-country  0.035769  \n",
       "income          1.000000  "
      ]
     },
     "execution_count": 31,
     "metadata": {},
     "output_type": "execute_result"
    }
   ],
   "source": [
    "#Correlation\n",
    "census.corr()"
   ]
  },
  {
   "cell_type": "code",
   "execution_count": 22,
   "metadata": {},
   "outputs": [
    {
     "data": {
      "image/png": "[encoded data removed]",
      "text/plain": [
       "<Figure size 720x576 with 2 Axes>"
      ]
     },
     "metadata": {
      "needs_background": "light"
     },
     "output_type": "display_data"
    }
   ],
   "source": [
    "#showing the corelation with a heatmap\n",
    "plt.figure(figsize=(10,8))\n",
    "sns.heatmap(census.corr(),annot=True,fmt='.2f',vmax=1,vmin=0)\n",
    "plt.show()"
   ]
  },
  {
   "cell_type": "markdown",
   "metadata": {},
   "source": [
    "Features and Target Value"
   ]
  },
  {
   "cell_type": "code",
   "execution_count": 21,
   "metadata": {},
   "outputs": [],
   "source": [
    "x=census.drop(\"income\",axis=1)\n",
    "y=census[\"income\"]"
   ]
  },
  {
   "cell_type": "code",
   "execution_count": 22,
   "metadata": {},
   "outputs": [
    {
     "data": {
      "text/html": [
       "<div>\n",
       "<style scoped>\n",
       "    .dataframe tbody tr th:only-of-type {\n",
       "        vertical-align: middle;\n",
       "    }\n",
       "\n",
       "    .dataframe tbody tr th {\n",
       "        vertical-align: top;\n",
       "    }\n",
       "\n",
       "    .dataframe thead th {\n",
       "        text-align: right;\n",
       "    }\n",
       "</style>\n",
       "<table border=\"1\" class=\"dataframe\">\n",
       "  <thead>\n",
       "    <tr style=\"text-align: right;\">\n",
       "      <th></th>\n",
       "      <th>age</th>\n",
       "      <th>workclass</th>\n",
       "      <th>fnlwgt</th>\n",
       "      <th>education</th>\n",
       "      <th>marital-status</th>\n",
       "      <th>occupation</th>\n",
       "      <th>handlers</th>\n",
       "      <th>relationship</th>\n",
       "      <th>race</th>\n",
       "      <th>sex</th>\n",
       "      <th>capital-gain</th>\n",
       "      <th>capital-loss</th>\n",
       "      <th>hours-per-week</th>\n",
       "      <th>native-country</th>\n",
       "    </tr>\n",
       "  </thead>\n",
       "  <tbody>\n",
       "    <tr>\n",
       "      <td>1</td>\n",
       "      <td>15.459253</td>\n",
       "      <td>36</td>\n",
       "      <td>128.376783</td>\n",
       "      <td>81</td>\n",
       "      <td>169</td>\n",
       "      <td>4</td>\n",
       "      <td>16</td>\n",
       "      <td>0.000000</td>\n",
       "      <td>16</td>\n",
       "      <td>1</td>\n",
       "      <td>0.0</td>\n",
       "      <td>0.0</td>\n",
       "      <td>169</td>\n",
       "      <td>1521</td>\n",
       "    </tr>\n",
       "    <tr>\n",
       "      <td>2</td>\n",
       "      <td>13.421684</td>\n",
       "      <td>16</td>\n",
       "      <td>150.832739</td>\n",
       "      <td>121</td>\n",
       "      <td>81</td>\n",
       "      <td>0</td>\n",
       "      <td>36</td>\n",
       "      <td>0.480453</td>\n",
       "      <td>16</td>\n",
       "      <td>1</td>\n",
       "      <td>0.0</td>\n",
       "      <td>0.0</td>\n",
       "      <td>1600</td>\n",
       "      <td>1521</td>\n",
       "    </tr>\n",
       "  </tbody>\n",
       "</table>\n",
       "</div>"
      ],
      "text/plain": [
       "         age  workclass      fnlwgt  education  marital-status  occupation  \\\n",
       "1  15.459253         36  128.376783         81             169           4   \n",
       "2  13.421684         16  150.832739        121              81           0   \n",
       "\n",
       "   handlers  relationship  race  sex  capital-gain  capital-loss  \\\n",
       "1        16      0.000000    16    1           0.0           0.0   \n",
       "2        36      0.480453    16    1           0.0           0.0   \n",
       "\n",
       "   hours-per-week  native-country  \n",
       "1             169            1521  \n",
       "2            1600            1521  "
      ]
     },
     "execution_count": 22,
     "metadata": {},
     "output_type": "execute_result"
    }
   ],
   "source": [
    "x.head(2)"
   ]
  },
  {
   "cell_type": "code",
   "execution_count": 23,
   "metadata": {},
   "outputs": [
    {
     "data": {
      "text/plain": [
       "1    0.0\n",
       "2    0.0\n",
       "Name: income, dtype: float64"
      ]
     },
     "execution_count": 23,
     "metadata": {},
     "output_type": "execute_result"
    }
   ],
   "source": [
    "y.head(2)"
   ]
  },
  {
   "cell_type": "code",
   "execution_count": 24,
   "metadata": {},
   "outputs": [
    {
     "data": {
      "text/plain": [
       "array([0, 1], dtype=int64)"
      ]
     },
     "execution_count": 24,
     "metadata": {},
     "output_type": "execute_result"
    }
   ],
   "source": [
    "y=y.round().astype(int)\n",
    "y.unique()"
   ]
  },
  {
   "cell_type": "code",
   "execution_count": 25,
   "metadata": {},
   "outputs": [
    {
     "data": {
      "text/plain": [
       "(24834, 1)"
      ]
     },
     "execution_count": 25,
     "metadata": {},
     "output_type": "execute_result"
    }
   ],
   "source": [
    "y=np.array(y)\n",
    "y=y.reshape(-1,1)\n",
    "y.shape"
   ]
  },
  {
   "cell_type": "markdown",
   "metadata": {},
   "source": [
    "Standardisation"
   ]
  },
  {
   "cell_type": "code",
   "execution_count": 26,
   "metadata": {},
   "outputs": [
    {
     "data": {
      "text/plain": [
       "array([[ 0.99981491,  2.54715083, -1.08706045, ..., -0.00634579,\n",
       "        -1.80794268,  0.23471241],\n",
       "       [ 0.18567256,  0.0434176 ,  0.45246635, ..., -0.00634579,\n",
       "        -0.11007612,  0.23471241],\n",
       "       [ 1.18071459,  0.0434176 ,  0.59569025, ..., -0.00634579,\n",
       "        -0.11007612,  0.23471241],\n",
       "       ...,\n",
       "       [-0.74055919,  0.0434176 ,  0.75201278, ..., -0.00634579,\n",
       "        -0.29516849,  0.23471241],\n",
       "       [ 0.3330857 ,  0.0434176 , -0.10275334, ..., -0.00634579,\n",
       "        -0.11007612,  0.23471241],\n",
       "       [-1.24891164,  0.0434176 ,  0.33844428, ..., -0.00634579,\n",
       "        -1.53386359,  0.23471241]])"
      ]
     },
     "execution_count": 26,
     "metadata": {},
     "output_type": "execute_result"
    }
   ],
   "source": [
    "from sklearn.preprocessing import StandardScaler\n",
    "sc=StandardScaler()\n",
    "\n",
    "x=sc.fit_transform(x)\n",
    "x"
   ]
  },
  {
   "cell_type": "markdown",
   "metadata": {},
   "source": [
    "Spilt Train and Test"
   ]
  },
  {
   "cell_type": "code",
   "execution_count": 27,
   "metadata": {},
   "outputs": [],
   "source": [
    "from sklearn.model_selection import train_test_split, cross_val_score, cross_val_predict,GridSearchCV\n",
    "from sklearn.metrics import confusion_matrix,accuracy_score,classification_report,f1_score\n",
    "from sklearn.preprocessing import StandardScaler \n",
    "\n",
    "from sklearn.linear_model import LogisticRegression\n",
    "from sklearn.naive_bayes import GaussianNB\n",
    "from sklearn.neighbors import KNeighborsClassifier\n",
    "from sklearn.svm import SVC\n",
    "from sklearn.tree import DecisionTreeClassifier\n",
    "from sklearn.ensemble import GradientBoostingClassifier\n",
    "from sklearn.metrics import roc_curve,roc_auc_score,auc"
   ]
  },
  {
   "cell_type": "code",
   "execution_count": 28,
   "metadata": {},
   "outputs": [],
   "source": [
    "#create best random_state\n",
    "def rst(mod,x,y):\n",
    "    max_r=0\n",
    "    for rn_state in range (25,150):\n",
    "        x_train,x_test,y_train,y_test=train_test_split(x,y,test_size=0.3,random_state=rn_state)\n",
    "        mod.fit(x_train,y_train)\n",
    "        pred=mod.predict(x_test)\n",
    "        acs=accuracy_score(pred,y_test)\n",
    "        f1=f1_score(y_test,pred)\n",
    "        cnf=confusion_matrix(y_test,pred)\n",
    "        clr=classification_report(y_test,pred)\n",
    "        \n",
    "        fpr,tpr,thresholds=roc_curve(y_test,pred)\n",
    "        roc_auc=auc(fpr,tpr)\n",
    "\n",
    "        if acs > max_r:\n",
    "            max_r=acs\n",
    "            random_state=rn_state\n",
    "    print(\"random_state for mod\",\" is \",random_state,\"which gives accuracy score of: \",max_r)\n",
    "    #print('f1_score: ', f1)\n",
    "    print('confusion matrix: ',cnf)\n",
    "    print('classification report: ',clr)\n",
    "    print(\"fpr: \",fpr)\n",
    "    print(\"tpr: \",tpr)\n",
    "    print(\"thresholds: \",thresholds)\n",
    "    print(\"roc_auc: \",roc_auc)\n",
    "    print()\n",
    "    print('prediction: ',pred)\n",
    "     \n",
    "\n",
    "    plt.plot([0,1],[0,1],color='red',linestyle=\"dashdot\")\n",
    "    plt.plot(fpr,tpr,label=\"AUC= %0.4f\" % roc_auc)\n",
    "    plt.legend(loc='best',fontsize='medium',shadow=True)\n",
    "    plt.xlabel(\"FPR\")\n",
    "    plt.ylabel('TPR')\n",
    "    plt.title('RECEIVER OPERATING CHARACTERISTICS CURVE',size=15,weight='bold',loc='right')\n",
    "    plt.show()\n",
    "    \n",
    "    return random_state"
   ]
  },
  {
   "cell_type": "markdown",
   "metadata": {},
   "source": [
    "Logistic Regression"
   ]
  },
  {
   "cell_type": "code",
   "execution_count": 44,
   "metadata": {},
   "outputs": [
    {
     "name": "stdout",
     "output_type": "stream",
     "text": [
      "random_state for mod  is  34 which gives accuracy score of:  0.8362635887800295\n",
      "confusion matrix:  [[5758  261]\n",
      " [ 982  450]]\n",
      "classification report:                precision    recall  f1-score   support\n",
      "\n",
      "           0       0.85      0.96      0.90      6019\n",
      "           1       0.63      0.31      0.42      1432\n",
      "\n",
      "    accuracy                           0.83      7451\n",
      "   macro avg       0.74      0.64      0.66      7451\n",
      "weighted avg       0.81      0.83      0.81      7451\n",
      "\n",
      "fpr:  [0.         0.04336268 1.        ]\n",
      "tpr:  [0.         0.31424581 1.        ]\n",
      "thresholds:  [2 1 0]\n",
      "roc_auc:  0.6354415626122494\n",
      "\n",
      "prediction:  [0 0 0 ... 0 0 0]\n"
     ]
    },
    {
     "data": {
      "image/png": "[encoded data removed]",
      "text/plain": [
       "<Figure size 432x288 with 1 Axes>"
      ]
     },
     "metadata": {
      "needs_background": "light"
     },
     "output_type": "display_data"
    }
   ],
   "source": [
    "from sklearn.linear_model import LogisticRegression\n",
    "lr = LogisticRegression(solver=\"lbfgs\")\n",
    "lr_g=rst(lr,x,y)"
   ]
  },
  {
   "cell_type": "code",
   "execution_count": 45,
   "metadata": {},
   "outputs": [
    {
     "data": {
      "text/plain": [
       "0.8285822984377503"
      ]
     },
     "execution_count": 45,
     "metadata": {},
     "output_type": "execute_result"
    }
   ],
   "source": [
    "#Cross Validation\n",
    "accuracy_score_1=cross_val_score(lr,x,y,scoring='accuracy',cv=10).mean()\n",
    "accuracy_score_1"
   ]
  },
  {
   "cell_type": "markdown",
   "metadata": {},
   "source": [
    "DecisionTree"
   ]
  },
  {
   "cell_type": "code",
   "execution_count": 46,
   "metadata": {},
   "outputs": [
    {
     "data": {
      "text/plain": [
       "{'criterion': 'entropy', 'max_depth': 5}"
      ]
     },
     "execution_count": 46,
     "metadata": {},
     "output_type": "execute_result"
    }
   ],
   "source": [
    "from sklearn.tree import DecisionTreeClassifier\n",
    "dt=DecisionTreeClassifier()\n",
    "dt_param={'criterion':['gini','entropy'],'max_depth':range(5,10)}\n",
    "dt_g=GridSearchCV(dt,dt_param,cv=10)\n",
    "dt_g.fit(x,y)\n",
    "dt_g.best_params_"
   ]
  },
  {
   "cell_type": "code",
   "execution_count": 47,
   "metadata": {},
   "outputs": [
    {
     "name": "stdout",
     "output_type": "stream",
     "text": [
      "random_state for mod  is  34 which gives accuracy score of:  0.8542477519796\n",
      "confusion matrix:  [[5780  239]\n",
      " [ 879  553]]\n",
      "classification report:                precision    recall  f1-score   support\n",
      "\n",
      "           0       0.87      0.96      0.91      6019\n",
      "           1       0.70      0.39      0.50      1432\n",
      "\n",
      "    accuracy                           0.85      7451\n",
      "   macro avg       0.78      0.67      0.70      7451\n",
      "weighted avg       0.84      0.85      0.83      7451\n",
      "\n",
      "fpr:  [0.         0.03970759 1.        ]\n",
      "tpr:  [0.         0.38617318 1.        ]\n",
      "thresholds:  [2 1 0]\n",
      "roc_auc:  0.6732327958670913\n",
      "\n",
      "prediction:  [0 0 0 ... 0 0 0]\n"
     ]
    },
    {
     "data": {
      "image/png": "[encoded data removed]",
      "text/plain": [
       "<Figure size 432x288 with 1 Axes>"
      ]
     },
     "metadata": {
      "needs_background": "light"
     },
     "output_type": "display_data"
    }
   ],
   "source": [
    "dt=DecisionTreeClassifier(criterion='entropy',max_depth=5)\n",
    "dtc=rst(dt,x,y)"
   ]
  },
  {
   "cell_type": "code",
   "execution_count": 48,
   "metadata": {},
   "outputs": [
    {
     "data": {
      "text/plain": [
       "0.8452531481384202"
      ]
     },
     "execution_count": 48,
     "metadata": {},
     "output_type": "execute_result"
    }
   ],
   "source": [
    "#Cross Validation\n",
    "accuracy_score_3=cross_val_score(dt,x,y,scoring='accuracy',cv=10).mean()\n",
    "accuracy_score_3"
   ]
  },
  {
   "cell_type": "markdown",
   "metadata": {},
   "source": [
    "GaussianNB"
   ]
  },
  {
   "cell_type": "code",
   "execution_count": 49,
   "metadata": {},
   "outputs": [
    {
     "name": "stdout",
     "output_type": "stream",
     "text": [
      "random_state for mod  is  51 which gives accuracy score of:  0.7741242786203194\n",
      "confusion matrix:  [[1149 4870]\n",
      " [  15 1417]]\n",
      "classification report:                precision    recall  f1-score   support\n",
      "\n",
      "           0       0.99      0.19      0.32      6019\n",
      "           1       0.23      0.99      0.37      1432\n",
      "\n",
      "    accuracy                           0.34      7451\n",
      "   macro avg       0.61      0.59      0.34      7451\n",
      "weighted avg       0.84      0.34      0.33      7451\n",
      "\n",
      "fpr:  [0.        0.8091045 1.       ]\n",
      "tpr:  [0.         0.98952514 1.        ]\n",
      "thresholds:  [2 1 0]\n",
      "roc_auc:  0.5902103186278832\n",
      "\n",
      "prediction:  [1 1 1 ... 1 1 1]\n"
     ]
    },
    {
     "data": {
      "image/png": "[encoded data removed]",
      "text/plain": [
       "<Figure size 432x288 with 1 Axes>"
      ]
     },
     "metadata": {
      "needs_background": "light"
     },
     "output_type": "display_data"
    }
   ],
   "source": [
    "nb=GaussianNB()\n",
    "gnb=rst(nb,x,y)"
   ]
  },
  {
   "cell_type": "code",
   "execution_count": 74,
   "metadata": {},
   "outputs": [
    {
     "data": {
      "text/plain": [
       "0.42594485667426757"
      ]
     },
     "execution_count": 74,
     "metadata": {},
     "output_type": "execute_result"
    }
   ],
   "source": [
    "#Cross Validation\n",
    "accuracy_score_4=cross_val_score(nb,x,y,scoring='accuracy',cv=5).mean()\n",
    "accuracy_score_4"
   ]
  },
  {
   "cell_type": "markdown",
   "metadata": {},
   "source": [
    "SVC"
   ]
  },
  {
   "cell_type": "code",
   "execution_count": null,
   "metadata": {},
   "outputs": [],
   "source": [
    "sv=SVC()\n",
    "sv_param={'kernel':('rbf','linear','poly'),'degree':range(3,8)}\n",
    "sv_g=GridSearchCV(sv,sv_param,cv=15)\n",
    "sv_g.fit(x,y)\n",
    "sv_g.best_params_"
   ]
  },
  {
   "cell_type": "code",
   "execution_count": null,
   "metadata": {},
   "outputs": [],
   "source": [
    "sv=SVC()\n",
    "sv_param={'kernel':('rbf','linear','poly'),'degree':range(5,8)}\n",
    "sv_g=GridSearchCV(sv,sv_param,cv=15)\n",
    "sv_g.fit(x,y)\n",
    "sv_g.best_params_"
   ]
  },
  {
   "cell_type": "code",
   "execution_count": null,
   "metadata": {},
   "outputs": [],
   "source": []
  },
  {
   "cell_type": "markdown",
   "metadata": {},
   "source": [
    "Gradient Boosting"
   ]
  },
  {
   "cell_type": "code",
   "execution_count": 79,
   "metadata": {},
   "outputs": [
    {
     "name": "stdout",
     "output_type": "stream",
     "text": [
      "best parameters: {'learning_rate': 0.1, 'n_estimators': 250}\n",
      "\n",
      " best score: 0.8568141287464764\n"
     ]
    }
   ],
   "source": [
    "gb=GradientBoostingClassifier()\n",
    "x_train,x_test,y_train,y_test=train_test_split(x,y,test_size=0.3,random_state=85)\n",
    "\n",
    "gb_param= {\"learning_rate\": [0.0001,0.025,0.1,1.0], \"n_estimators\":[250,500,750,1000]}\n",
    "\n",
    "gb_g= GridSearchCV(gb,gb_param,cv=15)\n",
    "gb_g.fit(x_train,y_train)\n",
    "print(\"best parameters:\", gb_g.best_params_)\n",
    "print(\"\\n best score:\",gb_g.best_score_)"
   ]
  },
  {
   "cell_type": "code",
   "execution_count": 80,
   "metadata": {},
   "outputs": [
    {
     "name": "stdout",
     "output_type": "stream",
     "text": [
      "random_state for mod  is  112 which gives accuracy score of:  0.8699503422359415\n",
      "confusion matrix:  [[5681  338]\n",
      " [ 686  746]]\n",
      "classification report:                precision    recall  f1-score   support\n",
      "\n",
      "           0       0.89      0.94      0.92      6019\n",
      "           1       0.69      0.52      0.59      1432\n",
      "\n",
      "    accuracy                           0.86      7451\n",
      "   macro avg       0.79      0.73      0.76      7451\n",
      "weighted avg       0.85      0.86      0.85      7451\n",
      "\n",
      "fpr:  [0.         0.05615551 1.        ]\n",
      "tpr:  [0.         0.52094972 1.        ]\n",
      "thresholds:  [2 1 0]\n",
      "roc_auc:  0.732397106555498\n",
      "\n",
      "prediction:  [0 0 1 ... 0 0 0]\n"
     ]
    },
    {
     "data": {
      "image/png": "[encoded data removed]",
      "text/plain": [
       "<Figure size 432x288 with 1 Axes>"
      ]
     },
     "metadata": {
      "needs_background": "light"
     },
     "output_type": "display_data"
    }
   ],
   "source": [
    "gb=GradientBoostingClassifier(learning_rate=0.1, n_estimators= 250)\n",
    "gbc=rst(gb,x,y)"
   ]
  },
  {
   "cell_type": "code",
   "execution_count": 82,
   "metadata": {},
   "outputs": [
    {
     "data": {
      "text/plain": [
       "0.8579778011296465"
      ]
     },
     "execution_count": 82,
     "metadata": {},
     "output_type": "execute_result"
    }
   ],
   "source": [
    "#Cross Validation\n",
    "accuracy_score_6=cross_val_score(gb,x,y,scoring='accuracy',cv=15).mean()\n",
    "accuracy_score_6"
   ]
  },
  {
   "cell_type": "code",
   "execution_count": null,
   "metadata": {},
   "outputs": [],
   "source": [
    "import joblib\n",
    "joblib.dump(gb,\"Gradient Boosting Classifier for Census Income dataset.pkl\")"
   ]
  }
 ],
 "metadata": {
  "kernelspec": {
   "display_name": "Python 3",
   "language": "python",
   "name": "python3"
  },
  "language_info": {
   "codemirror_mode": {
    "name": "ipython",
    "version": 3
   },
   "file_extension": ".py",
   "mimetype": "text/x-python",
   "name": "python",
   "nbconvert_exporter": "python",
   "pygments_lexer": "ipython3",
   "version": "3.7.4"
  }
 },
 "nbformat": 4,
 "nbformat_minor": 2
}
