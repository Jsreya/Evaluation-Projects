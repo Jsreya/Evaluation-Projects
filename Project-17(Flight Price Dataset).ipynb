{
 "cells": [
  {
   "cell_type": "code",
   "execution_count": 141,
   "metadata": {},
   "outputs": [],
   "source": [
    "import pandas as pd\n",
    "import numpy as np\n",
    "import seaborn as sns\n",
    "import matplotlib.pyplot as plt\n",
    "import warnings\n",
    "warnings.filterwarnings('ignore')"
   ]
  },
  {
   "cell_type": "code",
   "execution_count": 142,
   "metadata": {},
   "outputs": [],
   "source": [
    "train=pd.read_excel('Flight_Price_Train.xlsx')\n",
    "test=pd.read_excel('Flight_Price_Test.xlsx')"
   ]
  },
  {
   "cell_type": "code",
   "execution_count": 8,
   "metadata": {
    "scrolled": true
   },
   "outputs": [
    {
     "data": {
      "text/html": [
       "<div>\n",
       "<style scoped>\n",
       "    .dataframe tbody tr th:only-of-type {\n",
       "        vertical-align: middle;\n",
       "    }\n",
       "\n",
       "    .dataframe tbody tr th {\n",
       "        vertical-align: top;\n",
       "    }\n",
       "\n",
       "    .dataframe thead th {\n",
       "        text-align: right;\n",
       "    }\n",
       "</style>\n",
       "<table border=\"1\" class=\"dataframe\">\n",
       "  <thead>\n",
       "    <tr style=\"text-align: right;\">\n",
       "      <th></th>\n",
       "      <th>Airline</th>\n",
       "      <th>Date_of_Journey</th>\n",
       "      <th>Source</th>\n",
       "      <th>Destination</th>\n",
       "      <th>Route</th>\n",
       "      <th>Dep_Time</th>\n",
       "      <th>Arrival_Time</th>\n",
       "      <th>Duration</th>\n",
       "      <th>Total_Stops</th>\n",
       "      <th>Additional_Info</th>\n",
       "      <th>Price</th>\n",
       "    </tr>\n",
       "  </thead>\n",
       "  <tbody>\n",
       "    <tr>\n",
       "      <td>0</td>\n",
       "      <td>IndiGo</td>\n",
       "      <td>24/03/2019</td>\n",
       "      <td>Banglore</td>\n",
       "      <td>New Delhi</td>\n",
       "      <td>BLR → DEL</td>\n",
       "      <td>22:20</td>\n",
       "      <td>01:10 22 Mar</td>\n",
       "      <td>2h 50m</td>\n",
       "      <td>non-stop</td>\n",
       "      <td>No info</td>\n",
       "      <td>3897</td>\n",
       "    </tr>\n",
       "    <tr>\n",
       "      <td>1</td>\n",
       "      <td>Air India</td>\n",
       "      <td>1/05/2019</td>\n",
       "      <td>Kolkata</td>\n",
       "      <td>Banglore</td>\n",
       "      <td>CCU → IXR → BBI → BLR</td>\n",
       "      <td>05:50</td>\n",
       "      <td>13:15</td>\n",
       "      <td>7h 25m</td>\n",
       "      <td>2 stops</td>\n",
       "      <td>No info</td>\n",
       "      <td>7662</td>\n",
       "    </tr>\n",
       "    <tr>\n",
       "      <td>2</td>\n",
       "      <td>Jet Airways</td>\n",
       "      <td>9/06/2019</td>\n",
       "      <td>Delhi</td>\n",
       "      <td>Cochin</td>\n",
       "      <td>DEL → LKO → BOM → COK</td>\n",
       "      <td>09:25</td>\n",
       "      <td>04:25 10 Jun</td>\n",
       "      <td>19h</td>\n",
       "      <td>2 stops</td>\n",
       "      <td>No info</td>\n",
       "      <td>13882</td>\n",
       "    </tr>\n",
       "    <tr>\n",
       "      <td>3</td>\n",
       "      <td>IndiGo</td>\n",
       "      <td>12/05/2019</td>\n",
       "      <td>Kolkata</td>\n",
       "      <td>Banglore</td>\n",
       "      <td>CCU → NAG → BLR</td>\n",
       "      <td>18:05</td>\n",
       "      <td>23:30</td>\n",
       "      <td>5h 25m</td>\n",
       "      <td>1 stop</td>\n",
       "      <td>No info</td>\n",
       "      <td>6218</td>\n",
       "    </tr>\n",
       "    <tr>\n",
       "      <td>4</td>\n",
       "      <td>IndiGo</td>\n",
       "      <td>01/03/2019</td>\n",
       "      <td>Banglore</td>\n",
       "      <td>New Delhi</td>\n",
       "      <td>BLR → NAG → DEL</td>\n",
       "      <td>16:50</td>\n",
       "      <td>21:35</td>\n",
       "      <td>4h 45m</td>\n",
       "      <td>1 stop</td>\n",
       "      <td>No info</td>\n",
       "      <td>13302</td>\n",
       "    </tr>\n",
       "  </tbody>\n",
       "</table>\n",
       "</div>"
      ],
      "text/plain": [
       "       Airline Date_of_Journey    Source Destination                  Route  \\\n",
       "0       IndiGo      24/03/2019  Banglore   New Delhi              BLR → DEL   \n",
       "1    Air India       1/05/2019   Kolkata    Banglore  CCU → IXR → BBI → BLR   \n",
       "2  Jet Airways       9/06/2019     Delhi      Cochin  DEL → LKO → BOM → COK   \n",
       "3       IndiGo      12/05/2019   Kolkata    Banglore        CCU → NAG → BLR   \n",
       "4       IndiGo      01/03/2019  Banglore   New Delhi        BLR → NAG → DEL   \n",
       "\n",
       "  Dep_Time  Arrival_Time Duration Total_Stops Additional_Info  Price  \n",
       "0    22:20  01:10 22 Mar   2h 50m    non-stop         No info   3897  \n",
       "1    05:50         13:15   7h 25m     2 stops         No info   7662  \n",
       "2    09:25  04:25 10 Jun      19h     2 stops         No info  13882  \n",
       "3    18:05         23:30   5h 25m      1 stop         No info   6218  \n",
       "4    16:50         21:35   4h 45m      1 stop         No info  13302  "
      ]
     },
     "execution_count": 8,
     "metadata": {},
     "output_type": "execute_result"
    }
   ],
   "source": [
    "train.head()"
   ]
  },
  {
   "cell_type": "code",
   "execution_count": 9,
   "metadata": {},
   "outputs": [
    {
     "data": {
      "text/html": [
       "<div>\n",
       "<style scoped>\n",
       "    .dataframe tbody tr th:only-of-type {\n",
       "        vertical-align: middle;\n",
       "    }\n",
       "\n",
       "    .dataframe tbody tr th {\n",
       "        vertical-align: top;\n",
       "    }\n",
       "\n",
       "    .dataframe thead th {\n",
       "        text-align: right;\n",
       "    }\n",
       "</style>\n",
       "<table border=\"1\" class=\"dataframe\">\n",
       "  <thead>\n",
       "    <tr style=\"text-align: right;\">\n",
       "      <th></th>\n",
       "      <th>Airline</th>\n",
       "      <th>Date_of_Journey</th>\n",
       "      <th>Source</th>\n",
       "      <th>Destination</th>\n",
       "      <th>Route</th>\n",
       "      <th>Dep_Time</th>\n",
       "      <th>Arrival_Time</th>\n",
       "      <th>Duration</th>\n",
       "      <th>Total_Stops</th>\n",
       "      <th>Additional_Info</th>\n",
       "    </tr>\n",
       "  </thead>\n",
       "  <tbody>\n",
       "    <tr>\n",
       "      <td>0</td>\n",
       "      <td>Jet Airways</td>\n",
       "      <td>6/06/2019</td>\n",
       "      <td>Delhi</td>\n",
       "      <td>Cochin</td>\n",
       "      <td>DEL → BOM → COK</td>\n",
       "      <td>17:30</td>\n",
       "      <td>04:25 07 Jun</td>\n",
       "      <td>10h 55m</td>\n",
       "      <td>1 stop</td>\n",
       "      <td>No info</td>\n",
       "    </tr>\n",
       "    <tr>\n",
       "      <td>1</td>\n",
       "      <td>IndiGo</td>\n",
       "      <td>12/05/2019</td>\n",
       "      <td>Kolkata</td>\n",
       "      <td>Banglore</td>\n",
       "      <td>CCU → MAA → BLR</td>\n",
       "      <td>06:20</td>\n",
       "      <td>10:20</td>\n",
       "      <td>4h</td>\n",
       "      <td>1 stop</td>\n",
       "      <td>No info</td>\n",
       "    </tr>\n",
       "    <tr>\n",
       "      <td>2</td>\n",
       "      <td>Jet Airways</td>\n",
       "      <td>21/05/2019</td>\n",
       "      <td>Delhi</td>\n",
       "      <td>Cochin</td>\n",
       "      <td>DEL → BOM → COK</td>\n",
       "      <td>19:15</td>\n",
       "      <td>19:00 22 May</td>\n",
       "      <td>23h 45m</td>\n",
       "      <td>1 stop</td>\n",
       "      <td>In-flight meal not included</td>\n",
       "    </tr>\n",
       "    <tr>\n",
       "      <td>3</td>\n",
       "      <td>Multiple carriers</td>\n",
       "      <td>21/05/2019</td>\n",
       "      <td>Delhi</td>\n",
       "      <td>Cochin</td>\n",
       "      <td>DEL → BOM → COK</td>\n",
       "      <td>08:00</td>\n",
       "      <td>21:00</td>\n",
       "      <td>13h</td>\n",
       "      <td>1 stop</td>\n",
       "      <td>No info</td>\n",
       "    </tr>\n",
       "    <tr>\n",
       "      <td>4</td>\n",
       "      <td>Air Asia</td>\n",
       "      <td>24/06/2019</td>\n",
       "      <td>Banglore</td>\n",
       "      <td>Delhi</td>\n",
       "      <td>BLR → DEL</td>\n",
       "      <td>23:55</td>\n",
       "      <td>02:45 25 Jun</td>\n",
       "      <td>2h 50m</td>\n",
       "      <td>non-stop</td>\n",
       "      <td>No info</td>\n",
       "    </tr>\n",
       "  </tbody>\n",
       "</table>\n",
       "</div>"
      ],
      "text/plain": [
       "             Airline Date_of_Journey    Source Destination            Route  \\\n",
       "0        Jet Airways       6/06/2019     Delhi      Cochin  DEL → BOM → COK   \n",
       "1             IndiGo      12/05/2019   Kolkata    Banglore  CCU → MAA → BLR   \n",
       "2        Jet Airways      21/05/2019     Delhi      Cochin  DEL → BOM → COK   \n",
       "3  Multiple carriers      21/05/2019     Delhi      Cochin  DEL → BOM → COK   \n",
       "4           Air Asia      24/06/2019  Banglore       Delhi        BLR → DEL   \n",
       "\n",
       "  Dep_Time  Arrival_Time Duration Total_Stops              Additional_Info  \n",
       "0    17:30  04:25 07 Jun  10h 55m      1 stop                      No info  \n",
       "1    06:20         10:20       4h      1 stop                      No info  \n",
       "2    19:15  19:00 22 May  23h 45m      1 stop  In-flight meal not included  \n",
       "3    08:00         21:00      13h      1 stop                      No info  \n",
       "4    23:55  02:45 25 Jun   2h 50m    non-stop                      No info  "
      ]
     },
     "execution_count": 9,
     "metadata": {},
     "output_type": "execute_result"
    }
   ],
   "source": [
    "test.head()"
   ]
  },
  {
   "cell_type": "code",
   "execution_count": 97,
   "metadata": {},
   "outputs": [
    {
     "name": "stdout",
     "output_type": "stream",
     "text": [
      "(10683, 11) (2671, 10)\n"
     ]
    }
   ],
   "source": [
    "print(train.shape,test.shape)"
   ]
  },
  {
   "cell_type": "code",
   "execution_count": 11,
   "metadata": {},
   "outputs": [
    {
     "name": "stdout",
     "output_type": "stream",
     "text": [
      "Index(['Airline', 'Date_of_Journey', 'Source', 'Destination', 'Route',\n",
      "       'Dep_Time', 'Arrival_Time', 'Duration', 'Total_Stops',\n",
      "       'Additional_Info', 'Price'],\n",
      "      dtype='object') Index(['Airline', 'Date_of_Journey', 'Source', 'Destination', 'Route',\n",
      "       'Dep_Time', 'Arrival_Time', 'Duration', 'Total_Stops',\n",
      "       'Additional_Info'],\n",
      "      dtype='object')\n"
     ]
    }
   ],
   "source": [
    "print(train.columns,test.columns)"
   ]
  },
  {
   "cell_type": "code",
   "execution_count": 12,
   "metadata": {},
   "outputs": [
    {
     "name": "stdout",
     "output_type": "stream",
     "text": [
      "<class 'pandas.core.frame.DataFrame'>\n",
      "RangeIndex: 10683 entries, 0 to 10682\n",
      "Data columns (total 11 columns):\n",
      "Airline            10683 non-null object\n",
      "Date_of_Journey    10683 non-null object\n",
      "Source             10683 non-null object\n",
      "Destination        10683 non-null object\n",
      "Route              10682 non-null object\n",
      "Dep_Time           10683 non-null object\n",
      "Arrival_Time       10683 non-null object\n",
      "Duration           10683 non-null object\n",
      "Total_Stops        10682 non-null object\n",
      "Additional_Info    10683 non-null object\n",
      "Price              10683 non-null int64\n",
      "dtypes: int64(1), object(10)\n",
      "memory usage: 918.2+ KB\n"
     ]
    }
   ],
   "source": [
    "train.info()"
   ]
  },
  {
   "cell_type": "code",
   "execution_count": 13,
   "metadata": {},
   "outputs": [
    {
     "name": "stdout",
     "output_type": "stream",
     "text": [
      "<class 'pandas.core.frame.DataFrame'>\n",
      "RangeIndex: 2671 entries, 0 to 2670\n",
      "Data columns (total 10 columns):\n",
      "Airline            2671 non-null object\n",
      "Date_of_Journey    2671 non-null object\n",
      "Source             2671 non-null object\n",
      "Destination        2671 non-null object\n",
      "Route              2671 non-null object\n",
      "Dep_Time           2671 non-null object\n",
      "Arrival_Time       2671 non-null object\n",
      "Duration           2671 non-null object\n",
      "Total_Stops        2671 non-null object\n",
      "Additional_Info    2671 non-null object\n",
      "dtypes: object(10)\n",
      "memory usage: 208.8+ KB\n"
     ]
    }
   ],
   "source": [
    "test.info()"
   ]
  },
  {
   "cell_type": "code",
   "execution_count": 143,
   "metadata": {},
   "outputs": [
    {
     "data": {
      "text/plain": [
       "220"
      ]
     },
     "execution_count": 143,
     "metadata": {},
     "output_type": "execute_result"
    }
   ],
   "source": [
    "#Check Duplicate\n",
    "train.duplicated().sum()"
   ]
  },
  {
   "cell_type": "code",
   "execution_count": 144,
   "metadata": {},
   "outputs": [],
   "source": [
    "# dropping duplicate values \n",
    "train.drop_duplicates(keep=False,inplace=True) "
   ]
  },
  {
   "cell_type": "code",
   "execution_count": 145,
   "metadata": {},
   "outputs": [
    {
     "data": {
      "text/plain": [
       "26"
      ]
     },
     "execution_count": 145,
     "metadata": {},
     "output_type": "execute_result"
    }
   ],
   "source": [
    "#Check Duplicate\n",
    "test.duplicated().sum()"
   ]
  },
  {
   "cell_type": "code",
   "execution_count": 146,
   "metadata": {},
   "outputs": [],
   "source": [
    "# dropping duplicate values \n",
    "test.drop_duplicates(keep=False,inplace=True) "
   ]
  },
  {
   "cell_type": "code",
   "execution_count": 102,
   "metadata": {},
   "outputs": [
    {
     "data": {
      "text/plain": [
       "<matplotlib.axes._subplots.AxesSubplot at 0x75d0d6c688>"
      ]
     },
     "execution_count": 102,
     "metadata": {},
     "output_type": "execute_result"
    },
    {
     "data": {
      "image/png": "[encoded data removed]",
      "text/plain": [
       "<Figure size 432x288 with 2 Axes>"
      ]
     },
     "metadata": {
      "needs_background": "light"
     },
     "output_type": "display_data"
    }
   ],
   "source": [
    "#To check missing value\n",
    "sns.heatmap(train.isnull())"
   ]
  },
  {
   "cell_type": "code",
   "execution_count": 147,
   "metadata": {},
   "outputs": [
    {
     "data": {
      "text/plain": [
       "Airline            0\n",
       "Date_of_Journey    0\n",
       "Source             0\n",
       "Destination        0\n",
       "Route              1\n",
       "Dep_Time           0\n",
       "Arrival_Time       0\n",
       "Duration           0\n",
       "Total_Stops        1\n",
       "Additional_Info    0\n",
       "Price              0\n",
       "dtype: int64"
      ]
     },
     "execution_count": 147,
     "metadata": {},
     "output_type": "execute_result"
    }
   ],
   "source": [
    "train.isnull().sum()"
   ]
  },
  {
   "cell_type": "code",
   "execution_count": 148,
   "metadata": {},
   "outputs": [],
   "source": [
    "train = train.dropna(axis = 0)"
   ]
  },
  {
   "cell_type": "code",
   "execution_count": 105,
   "metadata": {},
   "outputs": [
    {
     "data": {
      "text/plain": [
       "<matplotlib.axes._subplots.AxesSubplot at 0x75dce95208>"
      ]
     },
     "execution_count": 105,
     "metadata": {},
     "output_type": "execute_result"
    },
    {
     "data": {
      "image/png": "[encoded data removed]",
      "text/plain": [
       "<Figure size 432x288 with 2 Axes>"
      ]
     },
     "metadata": {
      "needs_background": "light"
     },
     "output_type": "display_data"
    }
   ],
   "source": [
    "#To check missing value\n",
    "sns.heatmap(test.isnull())"
   ]
  },
  {
   "cell_type": "code",
   "execution_count": 106,
   "metadata": {},
   "outputs": [
    {
     "data": {
      "text/plain": [
       "Airline            0\n",
       "Date_of_Journey    0\n",
       "Source             0\n",
       "Destination        0\n",
       "Route              0\n",
       "Dep_Time           0\n",
       "Arrival_Time       0\n",
       "Duration           0\n",
       "Total_Stops        0\n",
       "Additional_Info    0\n",
       "dtype: int64"
      ]
     },
     "execution_count": 106,
     "metadata": {},
     "output_type": "execute_result"
    }
   ],
   "source": [
    "test.isnull().sum()"
   ]
  },
  {
   "cell_type": "code",
   "execution_count": 150,
   "metadata": {},
   "outputs": [],
   "source": [
    "data=pd.concat([train,test]) "
   ]
  },
  {
   "cell_type": "code",
   "execution_count": 151,
   "metadata": {},
   "outputs": [
    {
     "data": {
      "text/plain": [
       "Additional_Info      10\n",
       "Airline              12\n",
       "Arrival_Time       1445\n",
       "Date_of_Journey      44\n",
       "Dep_Time            223\n",
       "Destination           6\n",
       "Duration            373\n",
       "Price              1862\n",
       "Route               132\n",
       "Source                5\n",
       "Total_Stops           5\n",
       "dtype: int64"
      ]
     },
     "execution_count": 151,
     "metadata": {},
     "output_type": "execute_result"
    }
   ],
   "source": [
    "data.nunique()"
   ]
  },
  {
   "cell_type": "code",
   "execution_count": 109,
   "metadata": {},
   "outputs": [
    {
     "data": {
      "text/plain": [
       "array(['No info', 'In-flight meal not included',\n",
       "       'No check-in baggage included', '1 Short layover', 'No Info',\n",
       "       '1 Long layover', 'Change airports', 'Business class',\n",
       "       'Red-eye flight', '2 Long layover'], dtype=object)"
      ]
     },
     "execution_count": 109,
     "metadata": {},
     "output_type": "execute_result"
    }
   ],
   "source": [
    "#Additional_Info \n",
    "data.Additional_Info.unique()"
   ]
  },
  {
   "cell_type": "code",
   "execution_count": 110,
   "metadata": {},
   "outputs": [
    {
     "data": {
      "text/plain": [
       "<matplotlib.axes._subplots.AxesSubplot at 0x75dce3ac08>"
      ]
     },
     "execution_count": 110,
     "metadata": {},
     "output_type": "execute_result"
    },
    {
     "data": {
      "image/png": "[encoded data removed]",
      "text/plain": [
       "<Figure size 432x288 with 1 Axes>"
      ]
     },
     "metadata": {
      "needs_background": "light"
     },
     "output_type": "display_data"
    }
   ],
   "source": [
    "sns.countplot(y='Additional_Info',data=data)"
   ]
  },
  {
   "cell_type": "code",
   "execution_count": 92,
   "metadata": {},
   "outputs": [
    {
     "data": {
      "text/plain": [
       "array(['IndiGo', 'Air India', 'Jet Airways', 'SpiceJet',\n",
       "       'Multiple carriers', 'GoAir', 'Vistara', 'Air Asia',\n",
       "       'Vistara Premium economy', 'Jet Airways Business',\n",
       "       'Multiple carriers Premium economy', 'Trujet'], dtype=object)"
      ]
     },
     "execution_count": 92,
     "metadata": {},
     "output_type": "execute_result"
    }
   ],
   "source": [
    "#Airline\n",
    "data.Airline.unique()"
   ]
  },
  {
   "cell_type": "code",
   "execution_count": 93,
   "metadata": {},
   "outputs": [
    {
     "data": {
      "text/plain": [
       "<matplotlib.axes._subplots.AxesSubplot at 0x8b2edf0088>"
      ]
     },
     "execution_count": 93,
     "metadata": {},
     "output_type": "execute_result"
    },
    {
     "data": {
      "image/png": "[encoded data removed]",
      "text/plain": [
       "<Figure size 432x288 with 1 Axes>"
      ]
     },
     "metadata": {
      "needs_background": "light"
     },
     "output_type": "display_data"
    }
   ],
   "source": [
    "sns.countplot(y='Airline',data=data)"
   ]
  },
  {
   "cell_type": "code",
   "execution_count": 94,
   "metadata": {},
   "outputs": [
    {
     "data": {
      "text/plain": [
       "array(['New Delhi', 'Banglore', 'Cochin', 'Kolkata', 'Delhi', 'Hyderabad'],\n",
       "      dtype=object)"
      ]
     },
     "execution_count": 94,
     "metadata": {},
     "output_type": "execute_result"
    }
   ],
   "source": [
    "#Destination\n",
    "data.Destination.unique()"
   ]
  },
  {
   "cell_type": "code",
   "execution_count": 36,
   "metadata": {},
   "outputs": [
    {
     "data": {
      "text/plain": [
       "<matplotlib.axes._subplots.AxesSubplot at 0x8b2758a508>"
      ]
     },
     "execution_count": 36,
     "metadata": {},
     "output_type": "execute_result"
    },
    {
     "data": {
      "image/png": "[encoded data removed]",
      "text/plain": [
       "<Figure size 432x288 with 1 Axes>"
      ]
     },
     "metadata": {
      "needs_background": "light"
     },
     "output_type": "display_data"
    }
   ],
   "source": [
    "sns.countplot(y='Destination',data=data)"
   ]
  },
  {
   "cell_type": "code",
   "execution_count": 37,
   "metadata": {},
   "outputs": [
    {
     "data": {
      "text/plain": [
       "array(['Banglore', 'Kolkata', 'Delhi', 'Chennai', 'Mumbai'], dtype=object)"
      ]
     },
     "execution_count": 37,
     "metadata": {},
     "output_type": "execute_result"
    }
   ],
   "source": [
    "#Source \n",
    "data.Source.unique()"
   ]
  },
  {
   "cell_type": "code",
   "execution_count": 38,
   "metadata": {},
   "outputs": [
    {
     "data": {
      "text/plain": [
       "<matplotlib.axes._subplots.AxesSubplot at 0x8b275f62c8>"
      ]
     },
     "execution_count": 38,
     "metadata": {},
     "output_type": "execute_result"
    },
    {
     "data": {
      "image/png": "[encoded data removed]",
      "text/plain": [
       "<Figure size 432x288 with 1 Axes>"
      ]
     },
     "metadata": {
      "needs_background": "light"
     },
     "output_type": "display_data"
    }
   ],
   "source": [
    "sns.countplot(y='Source',data=data)"
   ]
  },
  {
   "cell_type": "code",
   "execution_count": 39,
   "metadata": {},
   "outputs": [
    {
     "data": {
      "text/plain": [
       "array(['non-stop', '2 stops', '1 stop', '3 stops', nan, '4 stops'],\n",
       "      dtype=object)"
      ]
     },
     "execution_count": 39,
     "metadata": {},
     "output_type": "execute_result"
    }
   ],
   "source": [
    "#Total_Stops\n",
    "data.Total_Stops.unique()"
   ]
  },
  {
   "cell_type": "code",
   "execution_count": 40,
   "metadata": {},
   "outputs": [
    {
     "data": {
      "text/plain": [
       "<matplotlib.axes._subplots.AxesSubplot at 0x8b275e7708>"
      ]
     },
     "execution_count": 40,
     "metadata": {},
     "output_type": "execute_result"
    },
    {
     "data": {
      "image/png": "[encoded data removed]",
      "text/plain": [
       "<Figure size 432x288 with 1 Axes>"
      ]
     },
     "metadata": {
      "needs_background": "light"
     },
     "output_type": "display_data"
    }
   ],
   "source": [
    "sns.countplot(y='Total_Stops',data=data)"
   ]
  },
  {
   "cell_type": "code",
   "execution_count": 52,
   "metadata": {},
   "outputs": [
    {
     "data": {
      "text/plain": [
       "([0, 1, 2, 3, 4, 5, 6, 7, 8, 9, 10, 11],\n",
       " <a list of 12 Text xticklabel objects>)"
      ]
     },
     "execution_count": 52,
     "metadata": {},
     "output_type": "execute_result"
    },
    {
     "data": {
      "image/png": "[encoded data removed]",
      "text/plain": [
       "<Figure size 432x288 with 1 Axes>"
      ]
     },
     "metadata": {
      "needs_background": "light"
     },
     "output_type": "display_data"
    }
   ],
   "source": [
    "sns.lineplot(y='Price',x='Airline',data=data)\n",
    "plt.xticks(rotation=75)"
   ]
  },
  {
   "cell_type": "code",
   "execution_count": 60,
   "metadata": {},
   "outputs": [
    {
     "data": {
      "text/plain": [
       "(array([0, 1, 2, 3, 4, 5]), <a list of 6 Text xticklabel objects>)"
      ]
     },
     "execution_count": 60,
     "metadata": {},
     "output_type": "execute_result"
    },
    {
     "data": {
      "image/png": "[encoded data removed]",
      "text/plain": [
       "<Figure size 432x288 with 1 Axes>"
      ]
     },
     "metadata": {
      "needs_background": "light"
     },
     "output_type": "display_data"
    }
   ],
   "source": [
    "sns.barplot(y='Price',x='Destination',data=data)\n",
    "plt.xticks(rotation=45)"
   ]
  },
  {
   "cell_type": "code",
   "execution_count": 67,
   "metadata": {},
   "outputs": [
    {
     "data": {
      "text/plain": [
       "(array([0, 1, 2, 3, 4]), <a list of 5 Text xticklabel objects>)"
      ]
     },
     "execution_count": 67,
     "metadata": {},
     "output_type": "execute_result"
    },
    {
     "data": {
      "image/png": "[encoded data removed]",
      "text/plain": [
       "<Figure size 432x288 with 1 Axes>"
      ]
     },
     "metadata": {
      "needs_background": "light"
     },
     "output_type": "display_data"
    }
   ],
   "source": [
    "sns.barplot(y='Price',x='Source',data=data)\n",
    "plt.xticks(rotation=45)"
   ]
  },
  {
   "cell_type": "code",
   "execution_count": 75,
   "metadata": {},
   "outputs": [
    {
     "data": {
      "text/plain": [
       "(array([0, 1, 2, 3, 4]), <a list of 5 Text xticklabel objects>)"
      ]
     },
     "execution_count": 75,
     "metadata": {},
     "output_type": "execute_result"
    },
    {
     "data": {
      "image/png": "[encoded data removed]",
      "text/plain": [
       "<Figure size 432x288 with 1 Axes>"
      ]
     },
     "metadata": {
      "needs_background": "light"
     },
     "output_type": "display_data"
    }
   ],
   "source": [
    "sns.barplot(y='Price',x='Total_Stops',data=data)\n",
    "plt.xticks(rotation=75)"
   ]
  },
  {
   "cell_type": "code",
   "execution_count": 152,
   "metadata": {},
   "outputs": [],
   "source": [
    "#Date_of_Journey\n",
    "train[\"Date\"]=train['Date_of_Journey'].str.split('/').str[0]\n",
    "train[\"Month\"]=train['Date_of_Journey'].str.split('/').str[1]\n",
    "train[\"Year\"]=train['Date_of_Journey'].str.split('/').str[2]\n",
    "train.drop(labels = 'Date_of_Journey', axis = 1, inplace = True)\n",
    "\n",
    "test[\"Date\"]=test['Date_of_Journey'].str.split('/').str[0]\n",
    "test[\"Month\"]=test['Date_of_Journey'].str.split('/').str[1]\n",
    "test[\"Year\"]=test['Date_of_Journey'].str.split('/').str[2]\n",
    "test.drop(labels = 'Date_of_Journey', axis = 1, inplace = True)"
   ]
  },
  {
   "cell_type": "code",
   "execution_count": 153,
   "metadata": {},
   "outputs": [],
   "source": [
    "#Depart_Time and Arrival_Time\n",
    "train['Depart_Time_Hour'] = pd.to_datetime(train.Dep_Time).dt.hour\n",
    "train['Depart_Time_Minutes'] = pd.to_datetime(train.Dep_Time).dt.minute\n",
    "train.drop(labels = 'Dep_Time', axis = 1, inplace = True)\n",
    "train['Arr_Time_Hour'] = pd.to_datetime(train.Arrival_Time).dt.hour\n",
    "train['Arr_Time_Minutes'] = pd.to_datetime(train.Arrival_Time).dt.minute\n",
    "train['Arr_Time_Minutes'] = pd.to_datetime(train.Arrival_Time).dt.day\n",
    "train['Arr_Time_Minutes'] = pd.to_datetime(train.Arrival_Time).dt.month\n",
    "train.drop(labels = 'Arrival_Time', axis = 1, inplace = True)\n",
    "\n",
    "test['Depart_Time_Hour'] = pd.to_datetime(test.Dep_Time).dt.hour\n",
    "test['Depart_Time_Minutes'] = pd.to_datetime(test.Dep_Time).dt.minute\n",
    "test.drop(labels = 'Dep_Time', axis = 1, inplace = True)\n",
    "test['Arr_Time_Hour'] = pd.to_datetime(test.Arrival_Time).dt.hour\n",
    "test['Arr_Time_Minutes'] = pd.to_datetime(test.Arrival_Time).dt.minute\n",
    "test['Arr_Time_Minutes'] = pd.to_datetime(test.Arrival_Time).dt.day\n",
    "test['Arr_Time_Minutes'] = pd.to_datetime(test.Arrival_Time).dt.month\n",
    "test.drop(labels = 'Arrival_Time', axis = 1, inplace = True)"
   ]
  },
  {
   "cell_type": "code",
   "execution_count": 154,
   "metadata": {},
   "outputs": [],
   "source": [
    "#Total_Stops\n",
    "train['Total_Stops']=train['Total_Stops'].replace('non-stop','0 stop')\n",
    "train['Stop']=train['Total_Stops'].str.split(' ').str[0]\n",
    "train.drop(labels = 'Total_Stops', axis = 1, inplace = True)\n",
    "\n",
    "test['Total_Stops']=test['Total_Stops'].replace('non-stop','0 stop')\n",
    "test['Stop']=test['Total_Stops'].str.split(' ').str[0]\n",
    "test.drop(labels = 'Total_Stops', axis = 1, inplace = True)"
   ]
  },
  {
   "cell_type": "code",
   "execution_count": 155,
   "metadata": {},
   "outputs": [],
   "source": [
    "#train.drop(labels = 'Route', axis = 1, inplace = True)\n",
    "#test.drop(labels = 'Route', axis = 1, inplace = True)"
   ]
  },
  {
   "cell_type": "code",
   "execution_count": 156,
   "metadata": {},
   "outputs": [],
   "source": [
    "train.drop(labels = 'Duration', axis = 1, inplace = True)\n",
    "test.drop(labels = 'Duration', axis = 1, inplace = True)"
   ]
  },
  {
   "cell_type": "code",
   "execution_count": 157,
   "metadata": {},
   "outputs": [
    {
     "data": {
      "text/html": [
       "<div>\n",
       "<style scoped>\n",
       "    .dataframe tbody tr th:only-of-type {\n",
       "        vertical-align: middle;\n",
       "    }\n",
       "\n",
       "    .dataframe tbody tr th {\n",
       "        vertical-align: top;\n",
       "    }\n",
       "\n",
       "    .dataframe thead th {\n",
       "        text-align: right;\n",
       "    }\n",
       "</style>\n",
       "<table border=\"1\" class=\"dataframe\">\n",
       "  <thead>\n",
       "    <tr style=\"text-align: right;\">\n",
       "      <th></th>\n",
       "      <th>Airline</th>\n",
       "      <th>Source</th>\n",
       "      <th>Destination</th>\n",
       "      <th>Route</th>\n",
       "      <th>Additional_Info</th>\n",
       "      <th>Price</th>\n",
       "      <th>Date</th>\n",
       "      <th>Month</th>\n",
       "      <th>Year</th>\n",
       "      <th>Depart_Time_Hour</th>\n",
       "      <th>Depart_Time_Minutes</th>\n",
       "      <th>Arr_Time_Hour</th>\n",
       "      <th>Arr_Time_Minutes</th>\n",
       "      <th>Stop</th>\n",
       "    </tr>\n",
       "  </thead>\n",
       "  <tbody>\n",
       "    <tr>\n",
       "      <td>0</td>\n",
       "      <td>IndiGo</td>\n",
       "      <td>Banglore</td>\n",
       "      <td>New Delhi</td>\n",
       "      <td>BLR → DEL</td>\n",
       "      <td>No info</td>\n",
       "      <td>3897</td>\n",
       "      <td>24</td>\n",
       "      <td>03</td>\n",
       "      <td>2019</td>\n",
       "      <td>22</td>\n",
       "      <td>20</td>\n",
       "      <td>1</td>\n",
       "      <td>3</td>\n",
       "      <td>0</td>\n",
       "    </tr>\n",
       "    <tr>\n",
       "      <td>1</td>\n",
       "      <td>Air India</td>\n",
       "      <td>Kolkata</td>\n",
       "      <td>Banglore</td>\n",
       "      <td>CCU → IXR → BBI → BLR</td>\n",
       "      <td>No info</td>\n",
       "      <td>7662</td>\n",
       "      <td>1</td>\n",
       "      <td>05</td>\n",
       "      <td>2019</td>\n",
       "      <td>5</td>\n",
       "      <td>50</td>\n",
       "      <td>13</td>\n",
       "      <td>4</td>\n",
       "      <td>2</td>\n",
       "    </tr>\n",
       "  </tbody>\n",
       "</table>\n",
       "</div>"
      ],
      "text/plain": [
       "     Airline    Source Destination                  Route Additional_Info  \\\n",
       "0     IndiGo  Banglore   New Delhi              BLR → DEL         No info   \n",
       "1  Air India   Kolkata    Banglore  CCU → IXR → BBI → BLR         No info   \n",
       "\n",
       "   Price Date Month  Year  Depart_Time_Hour  Depart_Time_Minutes  \\\n",
       "0   3897   24    03  2019                22                   20   \n",
       "1   7662    1    05  2019                 5                   50   \n",
       "\n",
       "   Arr_Time_Hour  Arr_Time_Minutes Stop  \n",
       "0              1                 3    0  \n",
       "1             13                 4    2  "
      ]
     },
     "execution_count": 157,
     "metadata": {},
     "output_type": "execute_result"
    }
   ],
   "source": [
    "train.head(2)"
   ]
  },
  {
   "cell_type": "code",
   "execution_count": 159,
   "metadata": {},
   "outputs": [
    {
     "data": {
      "text/html": [
       "<div>\n",
       "<style scoped>\n",
       "    .dataframe tbody tr th:only-of-type {\n",
       "        vertical-align: middle;\n",
       "    }\n",
       "\n",
       "    .dataframe tbody tr th {\n",
       "        vertical-align: top;\n",
       "    }\n",
       "\n",
       "    .dataframe thead th {\n",
       "        text-align: right;\n",
       "    }\n",
       "</style>\n",
       "<table border=\"1\" class=\"dataframe\">\n",
       "  <thead>\n",
       "    <tr style=\"text-align: right;\">\n",
       "      <th></th>\n",
       "      <th>Airline</th>\n",
       "      <th>Source</th>\n",
       "      <th>Destination</th>\n",
       "      <th>Route</th>\n",
       "      <th>Additional_Info</th>\n",
       "      <th>Date</th>\n",
       "      <th>Month</th>\n",
       "      <th>Year</th>\n",
       "      <th>Depart_Time_Hour</th>\n",
       "      <th>Depart_Time_Minutes</th>\n",
       "      <th>Arr_Time_Hour</th>\n",
       "      <th>Arr_Time_Minutes</th>\n",
       "      <th>Stop</th>\n",
       "    </tr>\n",
       "  </thead>\n",
       "  <tbody>\n",
       "    <tr>\n",
       "      <td>0</td>\n",
       "      <td>Jet Airways</td>\n",
       "      <td>Delhi</td>\n",
       "      <td>Cochin</td>\n",
       "      <td>DEL → BOM → COK</td>\n",
       "      <td>No info</td>\n",
       "      <td>6</td>\n",
       "      <td>06</td>\n",
       "      <td>2019</td>\n",
       "      <td>17</td>\n",
       "      <td>30</td>\n",
       "      <td>4</td>\n",
       "      <td>6</td>\n",
       "      <td>1</td>\n",
       "    </tr>\n",
       "    <tr>\n",
       "      <td>1</td>\n",
       "      <td>IndiGo</td>\n",
       "      <td>Kolkata</td>\n",
       "      <td>Banglore</td>\n",
       "      <td>CCU → MAA → BLR</td>\n",
       "      <td>No info</td>\n",
       "      <td>12</td>\n",
       "      <td>05</td>\n",
       "      <td>2019</td>\n",
       "      <td>6</td>\n",
       "      <td>20</td>\n",
       "      <td>10</td>\n",
       "      <td>4</td>\n",
       "      <td>1</td>\n",
       "    </tr>\n",
       "  </tbody>\n",
       "</table>\n",
       "</div>"
      ],
      "text/plain": [
       "       Airline   Source Destination            Route Additional_Info Date  \\\n",
       "0  Jet Airways    Delhi      Cochin  DEL → BOM → COK         No info    6   \n",
       "1       IndiGo  Kolkata    Banglore  CCU → MAA → BLR         No info   12   \n",
       "\n",
       "  Month  Year  Depart_Time_Hour  Depart_Time_Minutes  Arr_Time_Hour  \\\n",
       "0    06  2019                17                   30              4   \n",
       "1    05  2019                 6                   20             10   \n",
       "\n",
       "   Arr_Time_Minutes Stop  \n",
       "0                 6    1  \n",
       "1                 4    1  "
      ]
     },
     "execution_count": 159,
     "metadata": {},
     "output_type": "execute_result"
    }
   ],
   "source": [
    "test.head(2)"
   ]
  },
  {
   "cell_type": "markdown",
   "metadata": {},
   "source": [
    "Label Encoder"
   ]
  },
  {
   "cell_type": "code",
   "execution_count": 160,
   "metadata": {},
   "outputs": [],
   "source": [
    "from sklearn.preprocessing import LabelEncoder\n",
    "le=LabelEncoder() "
   ]
  },
  {
   "cell_type": "code",
   "execution_count": 161,
   "metadata": {},
   "outputs": [],
   "source": [
    "train['Airline']= le.fit_transform(train['Airline']) \n",
    "train['Source']= le.fit_transform(train['Source'])\n",
    "train['Destination']= le.fit_transform(train['Destination'])\n",
    "train['Additional_Info']= le.fit_transform(train['Additional_Info'])\n",
    "train['Year']= le.fit_transform(train['Year'])\n",
    "\n",
    "test['Airline']= le.fit_transform(test['Airline']) \n",
    "test['Source']= le.fit_transform(test['Source']) \n",
    "test['Destination']= le.fit_transform(test['Destination']) \n",
    "test['Additional_Info']= le.fit_transform(test['Additional_Info']) \n",
    "test['Year']= le.fit_transform(test['Year']) "
   ]
  },
  {
   "cell_type": "code",
   "execution_count": 162,
   "metadata": {},
   "outputs": [],
   "source": [
    "train['Route']= le.fit_transform(train['Route'])\n",
    "test['Route']= le.fit_transform(test['Route'])"
   ]
  },
  {
   "cell_type": "code",
   "execution_count": 166,
   "metadata": {},
   "outputs": [
    {
     "name": "stdout",
     "output_type": "stream",
     "text": [
      "<class 'pandas.core.frame.DataFrame'>\n",
      "Int64Index: 2619 entries, 0 to 2670\n",
      "Data columns (total 13 columns):\n",
      "Airline                2619 non-null int32\n",
      "Source                 2619 non-null int32\n",
      "Destination            2619 non-null int32\n",
      "Route                  2619 non-null int32\n",
      "Additional_Info        2619 non-null int32\n",
      "Date                   2619 non-null object\n",
      "Month                  2619 non-null object\n",
      "Year                   2619 non-null int32\n",
      "Depart_Time_Hour       2619 non-null int64\n",
      "Depart_Time_Minutes    2619 non-null int64\n",
      "Arr_Time_Hour          2619 non-null int64\n",
      "Arr_Time_Minutes       2619 non-null int64\n",
      "Stop                   2619 non-null object\n",
      "dtypes: int32(6), int64(4), object(3)\n",
      "memory usage: 225.1+ KB\n"
     ]
    }
   ],
   "source": [
    "test.info()"
   ]
  },
  {
   "cell_type": "code",
   "execution_count": 38,
   "metadata": {},
   "outputs": [
    {
     "name": "stdout",
     "output_type": "stream",
     "text": [
      "<class 'pandas.core.frame.DataFrame'>\n",
      "Int64Index: 10267 entries, 0 to 10682\n",
      "Data columns (total 14 columns):\n",
      "Airline                10267 non-null int32\n",
      "Source                 10267 non-null int32\n",
      "Destination            10267 non-null int32\n",
      "Route                  10267 non-null int32\n",
      "Additional_Info        10267 non-null int32\n",
      "Price                  10267 non-null int64\n",
      "Date                   10267 non-null object\n",
      "Month                  10267 non-null object\n",
      "Year                   10267 non-null int32\n",
      "Depart_Time_Hour       10267 non-null int64\n",
      "Depart_Time_Minutes    10267 non-null int64\n",
      "Arr_Time_Hour          10267 non-null int64\n",
      "Arr_Time_Minutes       10267 non-null int64\n",
      "Stop                   10267 non-null object\n",
      "dtypes: int32(6), int64(5), object(3)\n",
      "memory usage: 962.5+ KB\n"
     ]
    }
   ],
   "source": [
    "train.info()"
   ]
  },
  {
   "cell_type": "code",
   "execution_count": 167,
   "metadata": {},
   "outputs": [],
   "source": [
    "train[\"Date\"] = train[\"Date\"].astype(str).astype(int)\n",
    "train[\"Month\"] = train[\"Month\"].astype(str).astype(int)\n",
    "train[\"Year\"] = train[\"Year\"].astype(str).astype(int)\n",
    "train[\"Stop\"] = train[\"Stop\"].astype(str).astype(int)"
   ]
  },
  {
   "cell_type": "code",
   "execution_count": 168,
   "metadata": {},
   "outputs": [],
   "source": [
    "test[\"Date\"] = test[\"Date\"].astype(str).astype(int)\n",
    "test[\"Month\"] = test[\"Month\"].astype(str).astype(int)\n",
    "test[\"Year\"] = test[\"Year\"].astype(str).astype(int)\n",
    "test[\"Stop\"] = train[\"Stop\"].astype(str).astype(int)"
   ]
  },
  {
   "cell_type": "code",
   "execution_count": 169,
   "metadata": {},
   "outputs": [],
   "source": [
    "train.drop(labels = 'Year', axis = 1, inplace = True)\n",
    "test.drop(labels = 'Year', axis = 1, inplace = True)"
   ]
  },
  {
   "cell_type": "code",
   "execution_count": 170,
   "metadata": {},
   "outputs": [
    {
     "name": "stdout",
     "output_type": "stream",
     "text": [
      "<class 'pandas.core.frame.DataFrame'>\n",
      "Int64Index: 2619 entries, 0 to 2670\n",
      "Data columns (total 12 columns):\n",
      "Airline                2619 non-null int32\n",
      "Source                 2619 non-null int32\n",
      "Destination            2619 non-null int32\n",
      "Route                  2619 non-null int32\n",
      "Additional_Info        2619 non-null int32\n",
      "Date                   2619 non-null int32\n",
      "Month                  2619 non-null int32\n",
      "Depart_Time_Hour       2619 non-null int64\n",
      "Depart_Time_Minutes    2619 non-null int64\n",
      "Arr_Time_Hour          2619 non-null int64\n",
      "Arr_Time_Minutes       2619 non-null int64\n",
      "Stop                   2520 non-null float64\n",
      "dtypes: float64(1), int32(7), int64(4)\n",
      "memory usage: 194.4 KB\n"
     ]
    }
   ],
   "source": [
    "test.info()"
   ]
  },
  {
   "cell_type": "code",
   "execution_count": 172,
   "metadata": {},
   "outputs": [
    {
     "data": {
      "text/plain": [
       "array([ 0.,  2.,  1., nan,  3.])"
      ]
     },
     "execution_count": 172,
     "metadata": {},
     "output_type": "execute_result"
    }
   ],
   "source": [
    "test.Stop.unique()"
   ]
  },
  {
   "cell_type": "code",
   "execution_count": 173,
   "metadata": {},
   "outputs": [
    {
     "data": {
      "text/plain": [
       "Airline                 0\n",
       "Source                  0\n",
       "Destination             0\n",
       "Route                   0\n",
       "Additional_Info         0\n",
       "Date                    0\n",
       "Month                   0\n",
       "Depart_Time_Hour        0\n",
       "Depart_Time_Minutes     0\n",
       "Arr_Time_Hour           0\n",
       "Arr_Time_Minutes        0\n",
       "Stop                   99\n",
       "dtype: int64"
      ]
     },
     "execution_count": 173,
     "metadata": {},
     "output_type": "execute_result"
    }
   ],
   "source": [
    "test.isnull().sum()"
   ]
  },
  {
   "cell_type": "code",
   "execution_count": 174,
   "metadata": {},
   "outputs": [],
   "source": [
    "test= test.dropna(axis = 0)"
   ]
  },
  {
   "cell_type": "code",
   "execution_count": 176,
   "metadata": {
    "scrolled": true
   },
   "outputs": [
    {
     "data": {
      "text/plain": [
       "Airline                0.716525\n",
       "Source                -0.416284\n",
       "Destination            1.208785\n",
       "Route                 -0.464774\n",
       "Additional_Info       -1.812518\n",
       "Price                  1.898154\n",
       "Date                   0.130118\n",
       "Month                 -0.369000\n",
       "Depart_Time_Hour       0.103590\n",
       "Depart_Time_Minutes    0.177835\n",
       "Arr_Time_Hour         -0.387376\n",
       "Arr_Time_Minutes       0.847414\n",
       "Stop                   0.339346\n",
       "dtype: float64"
      ]
     },
     "execution_count": 176,
     "metadata": {},
     "output_type": "execute_result"
    }
   ],
   "source": [
    "#Check Skewness\n",
    "train.skew()"
   ]
  },
  {
   "cell_type": "code",
   "execution_count": 177,
   "metadata": {},
   "outputs": [],
   "source": [
    "for col in train.columns:\n",
    "    if train.skew().loc[col] > 0.55:\n",
    "        train[col]=np.log1p(train[col])\n",
    "    if train.skew().loc[col] < -0.55:\n",
    "        train[col]=np.square(train[col])"
   ]
  },
  {
   "cell_type": "code",
   "execution_count": 178,
   "metadata": {},
   "outputs": [
    {
     "data": {
      "text/plain": [
       "Airline                0.370743\n",
       "Source                -0.416284\n",
       "Destination            0.270652\n",
       "Route                 -0.464774\n",
       "Additional_Info       -1.561826\n",
       "Price                 -0.204284\n",
       "Date                   0.130118\n",
       "Month                 -0.369000\n",
       "Depart_Time_Hour       0.103590\n",
       "Depart_Time_Minutes    0.177835\n",
       "Arr_Time_Hour         -0.387376\n",
       "Arr_Time_Minutes       0.455582\n",
       "Stop                   0.339346\n",
       "dtype: float64"
      ]
     },
     "execution_count": 178,
     "metadata": {},
     "output_type": "execute_result"
    }
   ],
   "source": [
    "train.skew()"
   ]
  },
  {
   "cell_type": "code",
   "execution_count": 179,
   "metadata": {
    "scrolled": true
   },
   "outputs": [
    {
     "data": {
      "text/plain": [
       "Airline                0.482954\n",
       "Source                -0.425959\n",
       "Destination            1.261061\n",
       "Route                 -0.272400\n",
       "Additional_Info       -1.707063\n",
       "Date                   0.209267\n",
       "Month                 -0.394003\n",
       "Depart_Time_Hour       0.075433\n",
       "Depart_Time_Minutes    0.126278\n",
       "Arr_Time_Hour         -0.460949\n",
       "Arr_Time_Minutes       0.828023\n",
       "Stop                   0.273099\n",
       "dtype: float64"
      ]
     },
     "execution_count": 179,
     "metadata": {},
     "output_type": "execute_result"
    }
   ],
   "source": [
    "#Check Skewness\n",
    "test.skew()"
   ]
  },
  {
   "cell_type": "code",
   "execution_count": 180,
   "metadata": {},
   "outputs": [],
   "source": [
    "for col in test.columns:\n",
    "    if test.skew().loc[col] > 0.55:\n",
    "        test[col]=np.log1p(test[col])\n",
    "    if test.skew().loc[col] < -0.55:\n",
    "        test[col]=np.square(test[col])"
   ]
  },
  {
   "cell_type": "code",
   "execution_count": 181,
   "metadata": {},
   "outputs": [
    {
     "data": {
      "text/plain": [
       "Airline                0.482954\n",
       "Source                -0.425959\n",
       "Destination            0.277436\n",
       "Route                 -0.272400\n",
       "Additional_Info       -1.623207\n",
       "Date                   0.209267\n",
       "Month                 -0.394003\n",
       "Depart_Time_Hour       0.075433\n",
       "Depart_Time_Minutes    0.126278\n",
       "Arr_Time_Hour         -0.460949\n",
       "Arr_Time_Minutes       0.441054\n",
       "Stop                   0.273099\n",
       "dtype: float64"
      ]
     },
     "execution_count": 181,
     "metadata": {},
     "output_type": "execute_result"
    }
   ],
   "source": [
    "test.skew()"
   ]
  },
  {
   "cell_type": "markdown",
   "metadata": {},
   "source": [
    "Plotting Outliers"
   ]
  },
  {
   "cell_type": "code",
   "execution_count": 182,
   "metadata": {},
   "outputs": [
    {
     "data": {
      "text/plain": [
       "<matplotlib.axes._subplots.AxesSubplot at 0x75d0cbe308>"
      ]
     },
     "execution_count": 182,
     "metadata": {},
     "output_type": "execute_result"
    },
    {
     "data": {
      "image/png": "[encoded data removed]",
      "text/plain": [
       "<Figure size 1080x360 with 1 Axes>"
      ]
     },
     "metadata": {
      "needs_background": "light"
     },
     "output_type": "display_data"
    }
   ],
   "source": [
    "train.plot(kind='box',grid=True,title=\"Boxplot for Training Dataset\",legend=True,rot=30,figsize=(15,5))"
   ]
  },
  {
   "cell_type": "code",
   "execution_count": 183,
   "metadata": {},
   "outputs": [
    {
     "name": "stdout",
     "output_type": "stream",
     "text": [
      "(10267, 13)\n",
      "(10194, 13)\n"
     ]
    }
   ],
   "source": [
    "#check for Outlier\n",
    "from scipy.stats import zscore\n",
    "z_score=abs(zscore(train))\n",
    "print(train.shape)\n",
    "train=train.loc[(z_score < 3).all(axis=1)]\n",
    "print(train.shape)"
   ]
  },
  {
   "cell_type": "code",
   "execution_count": 185,
   "metadata": {},
   "outputs": [
    {
     "data": {
      "text/plain": [
       "<matplotlib.axes._subplots.AxesSubplot at 0x75da147048>"
      ]
     },
     "execution_count": 185,
     "metadata": {},
     "output_type": "execute_result"
    },
    {
     "data": {
      "image/png": "[encoded data removed]",
      "text/plain": [
       "<Figure size 1080x360 with 1 Axes>"
      ]
     },
     "metadata": {
      "needs_background": "light"
     },
     "output_type": "display_data"
    }
   ],
   "source": [
    "test.plot(kind='box',grid=True,title=\"Boxplot for Testing Dataset\",legend=True,rot=30,figsize=(15,5))"
   ]
  },
  {
   "cell_type": "code",
   "execution_count": 186,
   "metadata": {},
   "outputs": [
    {
     "name": "stdout",
     "output_type": "stream",
     "text": [
      "(2520, 12)\n",
      "(2511, 12)\n"
     ]
    }
   ],
   "source": [
    "#check for Outlier\n",
    "from scipy.stats import zscore\n",
    "z_score=abs(zscore(test))\n",
    "print(test.shape)\n",
    "test=test.loc[(z_score < 3).all(axis=1)]\n",
    "print(test.shape)"
   ]
  },
  {
   "cell_type": "code",
   "execution_count": 51,
   "metadata": {},
   "outputs": [
    {
     "data": {
      "text/html": [
       "<div>\n",
       "<style scoped>\n",
       "    .dataframe tbody tr th:only-of-type {\n",
       "        vertical-align: middle;\n",
       "    }\n",
       "\n",
       "    .dataframe tbody tr th {\n",
       "        vertical-align: top;\n",
       "    }\n",
       "\n",
       "    .dataframe thead th {\n",
       "        text-align: right;\n",
       "    }\n",
       "</style>\n",
       "<table border=\"1\" class=\"dataframe\">\n",
       "  <thead>\n",
       "    <tr style=\"text-align: right;\">\n",
       "      <th></th>\n",
       "      <th>Airline</th>\n",
       "      <th>Source</th>\n",
       "      <th>Destination</th>\n",
       "      <th>Route</th>\n",
       "      <th>Additional_Info</th>\n",
       "      <th>Price</th>\n",
       "      <th>Date</th>\n",
       "      <th>Month</th>\n",
       "      <th>Depart_Time_Hour</th>\n",
       "      <th>Depart_Time_Minutes</th>\n",
       "      <th>Arr_Time_Hour</th>\n",
       "      <th>Arr_Time_Minutes</th>\n",
       "      <th>Stop</th>\n",
       "    </tr>\n",
       "  </thead>\n",
       "  <tbody>\n",
       "    <tr>\n",
       "      <td>count</td>\n",
       "      <td>10194.000000</td>\n",
       "      <td>10194.000000</td>\n",
       "      <td>10194.000000</td>\n",
       "      <td>10194.000000</td>\n",
       "      <td>10194.000000</td>\n",
       "      <td>10194.000000</td>\n",
       "      <td>10194.000000</td>\n",
       "      <td>10194.000000</td>\n",
       "      <td>10194.000000</td>\n",
       "      <td>10194.000000</td>\n",
       "      <td>10194.000000</td>\n",
       "      <td>10194.000000</td>\n",
       "      <td>10194.000000</td>\n",
       "    </tr>\n",
       "    <tr>\n",
       "      <td>mean</td>\n",
       "      <td>2.486826</td>\n",
       "      <td>1.960565</td>\n",
       "      <td>0.724609</td>\n",
       "      <td>73.936433</td>\n",
       "      <td>56.323033</td>\n",
       "      <td>8.968452</td>\n",
       "      <td>13.463410</td>\n",
       "      <td>4.700412</td>\n",
       "      <td>12.487836</td>\n",
       "      <td>24.327546</td>\n",
       "      <td>13.417697</td>\n",
       "      <td>1.515977</td>\n",
       "      <td>0.772219</td>\n",
       "    </tr>\n",
       "    <tr>\n",
       "      <td>std</td>\n",
       "      <td>1.437040</td>\n",
       "      <td>1.192053</td>\n",
       "      <td>0.564982</td>\n",
       "      <td>36.537294</td>\n",
       "      <td>15.152093</td>\n",
       "      <td>0.510665</td>\n",
       "      <td>8.443096</td>\n",
       "      <td>1.160227</td>\n",
       "      <td>5.711610</td>\n",
       "      <td>18.848342</td>\n",
       "      <td>6.852609</td>\n",
       "      <td>0.212517</td>\n",
       "      <td>0.631671</td>\n",
       "    </tr>\n",
       "    <tr>\n",
       "      <td>min</td>\n",
       "      <td>0.000000</td>\n",
       "      <td>0.000000</td>\n",
       "      <td>0.000000</td>\n",
       "      <td>0.000000</td>\n",
       "      <td>16.000000</td>\n",
       "      <td>7.473069</td>\n",
       "      <td>1.000000</td>\n",
       "      <td>3.000000</td>\n",
       "      <td>0.000000</td>\n",
       "      <td>0.000000</td>\n",
       "      <td>0.000000</td>\n",
       "      <td>1.386294</td>\n",
       "      <td>0.000000</td>\n",
       "    </tr>\n",
       "    <tr>\n",
       "      <td>25%</td>\n",
       "      <td>1.921812</td>\n",
       "      <td>2.000000</td>\n",
       "      <td>0.000000</td>\n",
       "      <td>48.000000</td>\n",
       "      <td>64.000000</td>\n",
       "      <td>8.555067</td>\n",
       "      <td>6.000000</td>\n",
       "      <td>3.000000</td>\n",
       "      <td>8.000000</td>\n",
       "      <td>5.000000</td>\n",
       "      <td>8.000000</td>\n",
       "      <td>1.386294</td>\n",
       "      <td>0.000000</td>\n",
       "    </tr>\n",
       "    <tr>\n",
       "      <td>50%</td>\n",
       "      <td>2.590290</td>\n",
       "      <td>2.000000</td>\n",
       "      <td>0.693147</td>\n",
       "      <td>73.000000</td>\n",
       "      <td>64.000000</td>\n",
       "      <td>8.992309</td>\n",
       "      <td>12.000000</td>\n",
       "      <td>5.000000</td>\n",
       "      <td>11.000000</td>\n",
       "      <td>25.000000</td>\n",
       "      <td>14.000000</td>\n",
       "      <td>1.386294</td>\n",
       "      <td>1.000000</td>\n",
       "    </tr>\n",
       "    <tr>\n",
       "      <td>75%</td>\n",
       "      <td>2.590290</td>\n",
       "      <td>3.000000</td>\n",
       "      <td>1.098612</td>\n",
       "      <td>104.000000</td>\n",
       "      <td>64.000000</td>\n",
       "      <td>9.408617</td>\n",
       "      <td>21.000000</td>\n",
       "      <td>6.000000</td>\n",
       "      <td>18.000000</td>\n",
       "      <td>40.000000</td>\n",
       "      <td>19.000000</td>\n",
       "      <td>1.791759</td>\n",
       "      <td>1.000000</td>\n",
       "    </tr>\n",
       "    <tr>\n",
       "      <td>max</td>\n",
       "      <td>6.174761</td>\n",
       "      <td>4.000000</td>\n",
       "      <td>1.791759</td>\n",
       "      <td>127.000000</td>\n",
       "      <td>81.000000</td>\n",
       "      <td>10.518241</td>\n",
       "      <td>27.000000</td>\n",
       "      <td>6.000000</td>\n",
       "      <td>23.000000</td>\n",
       "      <td>55.000000</td>\n",
       "      <td>23.000000</td>\n",
       "      <td>1.945910</td>\n",
       "      <td>2.000000</td>\n",
       "    </tr>\n",
       "  </tbody>\n",
       "</table>\n",
       "</div>"
      ],
      "text/plain": [
       "            Airline        Source   Destination         Route  \\\n",
       "count  10194.000000  10194.000000  10194.000000  10194.000000   \n",
       "mean       2.486826      1.960565      0.724609     73.936433   \n",
       "std        1.437040      1.192053      0.564982     36.537294   \n",
       "min        0.000000      0.000000      0.000000      0.000000   \n",
       "25%        1.921812      2.000000      0.000000     48.000000   \n",
       "50%        2.590290      2.000000      0.693147     73.000000   \n",
       "75%        2.590290      3.000000      1.098612    104.000000   \n",
       "max        6.174761      4.000000      1.791759    127.000000   \n",
       "\n",
       "       Additional_Info         Price          Date         Month  \\\n",
       "count     10194.000000  10194.000000  10194.000000  10194.000000   \n",
       "mean         56.323033      8.968452     13.463410      4.700412   \n",
       "std          15.152093      0.510665      8.443096      1.160227   \n",
       "min          16.000000      7.473069      1.000000      3.000000   \n",
       "25%          64.000000      8.555067      6.000000      3.000000   \n",
       "50%          64.000000      8.992309     12.000000      5.000000   \n",
       "75%          64.000000      9.408617     21.000000      6.000000   \n",
       "max          81.000000     10.518241     27.000000      6.000000   \n",
       "\n",
       "       Depart_Time_Hour  Depart_Time_Minutes  Arr_Time_Hour  Arr_Time_Minutes  \\\n",
       "count      10194.000000         10194.000000   10194.000000      10194.000000   \n",
       "mean          12.487836            24.327546      13.417697          1.515977   \n",
       "std            5.711610            18.848342       6.852609          0.212517   \n",
       "min            0.000000             0.000000       0.000000          1.386294   \n",
       "25%            8.000000             5.000000       8.000000          1.386294   \n",
       "50%           11.000000            25.000000      14.000000          1.386294   \n",
       "75%           18.000000            40.000000      19.000000          1.791759   \n",
       "max           23.000000            55.000000      23.000000          1.945910   \n",
       "\n",
       "               Stop  \n",
       "count  10194.000000  \n",
       "mean       0.772219  \n",
       "std        0.631671  \n",
       "min        0.000000  \n",
       "25%        0.000000  \n",
       "50%        1.000000  \n",
       "75%        1.000000  \n",
       "max        2.000000  "
      ]
     },
     "execution_count": 51,
     "metadata": {},
     "output_type": "execute_result"
    }
   ],
   "source": [
    "train.describe()"
   ]
  },
  {
   "cell_type": "code",
   "execution_count": 52,
   "metadata": {},
   "outputs": [
    {
     "data": {
      "text/html": [
       "<div>\n",
       "<style scoped>\n",
       "    .dataframe tbody tr th:only-of-type {\n",
       "        vertical-align: middle;\n",
       "    }\n",
       "\n",
       "    .dataframe tbody tr th {\n",
       "        vertical-align: top;\n",
       "    }\n",
       "\n",
       "    .dataframe thead th {\n",
       "        text-align: right;\n",
       "    }\n",
       "</style>\n",
       "<table border=\"1\" class=\"dataframe\">\n",
       "  <thead>\n",
       "    <tr style=\"text-align: right;\">\n",
       "      <th></th>\n",
       "      <th>Airline</th>\n",
       "      <th>Source</th>\n",
       "      <th>Destination</th>\n",
       "      <th>Route</th>\n",
       "      <th>Additional_Info</th>\n",
       "      <th>Price</th>\n",
       "      <th>Date</th>\n",
       "      <th>Month</th>\n",
       "      <th>Depart_Time_Hour</th>\n",
       "      <th>Depart_Time_Minutes</th>\n",
       "      <th>Arr_Time_Hour</th>\n",
       "      <th>Arr_Time_Minutes</th>\n",
       "      <th>Stop</th>\n",
       "    </tr>\n",
       "  </thead>\n",
       "  <tbody>\n",
       "    <tr>\n",
       "      <td>Airline</td>\n",
       "      <td>1.000000</td>\n",
       "      <td>-0.008978</td>\n",
       "      <td>0.021453</td>\n",
       "      <td>0.040747</td>\n",
       "      <td>-0.101656</td>\n",
       "      <td>-0.035226</td>\n",
       "      <td>0.027248</td>\n",
       "      <td>0.031115</td>\n",
       "      <td>-0.033407</td>\n",
       "      <td>-0.063607</td>\n",
       "      <td>-0.007457</td>\n",
       "      <td>-0.071892</td>\n",
       "      <td>-0.177131</td>\n",
       "    </tr>\n",
       "    <tr>\n",
       "      <td>Source</td>\n",
       "      <td>-0.008978</td>\n",
       "      <td>1.000000</td>\n",
       "      <td>-0.620007</td>\n",
       "      <td>0.399316</td>\n",
       "      <td>-0.045235</td>\n",
       "      <td>0.024664</td>\n",
       "      <td>-0.001186</td>\n",
       "      <td>0.172837</td>\n",
       "      <td>0.061256</td>\n",
       "      <td>-0.052661</td>\n",
       "      <td>0.030276</td>\n",
       "      <td>0.199436</td>\n",
       "      <td>0.204091</td>\n",
       "    </tr>\n",
       "    <tr>\n",
       "      <td>Destination</td>\n",
       "      <td>0.021453</td>\n",
       "      <td>-0.620007</td>\n",
       "      <td>1.000000</td>\n",
       "      <td>-0.340416</td>\n",
       "      <td>0.067816</td>\n",
       "      <td>-0.206679</td>\n",
       "      <td>-0.003238</td>\n",
       "      <td>-0.278955</td>\n",
       "      <td>-0.109889</td>\n",
       "      <td>0.100969</td>\n",
       "      <td>-0.058709</td>\n",
       "      <td>-0.315394</td>\n",
       "      <td>-0.301259</td>\n",
       "    </tr>\n",
       "    <tr>\n",
       "      <td>Route</td>\n",
       "      <td>0.040747</td>\n",
       "      <td>0.399316</td>\n",
       "      <td>-0.340416</td>\n",
       "      <td>1.000000</td>\n",
       "      <td>0.029100</td>\n",
       "      <td>0.240177</td>\n",
       "      <td>0.071670</td>\n",
       "      <td>0.221286</td>\n",
       "      <td>-0.074418</td>\n",
       "      <td>-0.070009</td>\n",
       "      <td>0.028608</td>\n",
       "      <td>0.216977</td>\n",
       "      <td>0.440686</td>\n",
       "    </tr>\n",
       "    <tr>\n",
       "      <td>Additional_Info</td>\n",
       "      <td>-0.101656</td>\n",
       "      <td>-0.045235</td>\n",
       "      <td>0.067816</td>\n",
       "      <td>0.029100</td>\n",
       "      <td>1.000000</td>\n",
       "      <td>-0.067538</td>\n",
       "      <td>-0.037777</td>\n",
       "      <td>-0.068214</td>\n",
       "      <td>-0.070633</td>\n",
       "      <td>-0.003185</td>\n",
       "      <td>0.019592</td>\n",
       "      <td>-0.169932</td>\n",
       "      <td>-0.075574</td>\n",
       "    </tr>\n",
       "    <tr>\n",
       "      <td>Price</td>\n",
       "      <td>-0.035226</td>\n",
       "      <td>0.024664</td>\n",
       "      <td>-0.206679</td>\n",
       "      <td>0.240177</td>\n",
       "      <td>-0.067538</td>\n",
       "      <td>1.000000</td>\n",
       "      <td>-0.128564</td>\n",
       "      <td>-0.071379</td>\n",
       "      <td>-0.006783</td>\n",
       "      <td>-0.062625</td>\n",
       "      <td>0.076399</td>\n",
       "      <td>0.250681</td>\n",
       "      <td>0.696959</td>\n",
       "    </tr>\n",
       "    <tr>\n",
       "      <td>Date</td>\n",
       "      <td>0.027248</td>\n",
       "      <td>-0.001186</td>\n",
       "      <td>-0.003238</td>\n",
       "      <td>0.071670</td>\n",
       "      <td>-0.037777</td>\n",
       "      <td>-0.128564</td>\n",
       "      <td>1.000000</td>\n",
       "      <td>-0.045366</td>\n",
       "      <td>-0.008908</td>\n",
       "      <td>0.001659</td>\n",
       "      <td>-0.001616</td>\n",
       "      <td>-0.043018</td>\n",
       "      <td>-0.022515</td>\n",
       "    </tr>\n",
       "    <tr>\n",
       "      <td>Month</td>\n",
       "      <td>0.031115</td>\n",
       "      <td>0.172837</td>\n",
       "      <td>-0.278955</td>\n",
       "      <td>0.221286</td>\n",
       "      <td>-0.068214</td>\n",
       "      <td>-0.071379</td>\n",
       "      <td>-0.045366</td>\n",
       "      <td>1.000000</td>\n",
       "      <td>0.043346</td>\n",
       "      <td>-0.062487</td>\n",
       "      <td>0.007004</td>\n",
       "      <td>0.408909</td>\n",
       "      <td>0.028159</td>\n",
       "    </tr>\n",
       "    <tr>\n",
       "      <td>Depart_Time_Hour</td>\n",
       "      <td>-0.033407</td>\n",
       "      <td>0.061256</td>\n",
       "      <td>-0.109889</td>\n",
       "      <td>-0.074418</td>\n",
       "      <td>-0.070633</td>\n",
       "      <td>-0.006783</td>\n",
       "      <td>-0.008908</td>\n",
       "      <td>0.043346</td>\n",
       "      <td>1.000000</td>\n",
       "      <td>-0.007232</td>\n",
       "      <td>-0.009380</td>\n",
       "      <td>0.399814</td>\n",
       "      <td>-0.064099</td>\n",
       "    </tr>\n",
       "    <tr>\n",
       "      <td>Depart_Time_Minutes</td>\n",
       "      <td>-0.063607</td>\n",
       "      <td>-0.052661</td>\n",
       "      <td>0.100969</td>\n",
       "      <td>-0.070009</td>\n",
       "      <td>-0.003185</td>\n",
       "      <td>-0.062625</td>\n",
       "      <td>0.001659</td>\n",
       "      <td>-0.062487</td>\n",
       "      <td>-0.007232</td>\n",
       "      <td>1.000000</td>\n",
       "      <td>0.049857</td>\n",
       "      <td>-0.052966</td>\n",
       "      <td>-0.007181</td>\n",
       "    </tr>\n",
       "    <tr>\n",
       "      <td>Arr_Time_Hour</td>\n",
       "      <td>-0.007457</td>\n",
       "      <td>0.030276</td>\n",
       "      <td>-0.058709</td>\n",
       "      <td>0.028608</td>\n",
       "      <td>0.019592</td>\n",
       "      <td>0.076399</td>\n",
       "      <td>-0.001616</td>\n",
       "      <td>0.007004</td>\n",
       "      <td>-0.009380</td>\n",
       "      <td>0.049857</td>\n",
       "      <td>1.000000</td>\n",
       "      <td>-0.410027</td>\n",
       "      <td>0.062711</td>\n",
       "    </tr>\n",
       "    <tr>\n",
       "      <td>Arr_Time_Minutes</td>\n",
       "      <td>-0.071892</td>\n",
       "      <td>0.199436</td>\n",
       "      <td>-0.315394</td>\n",
       "      <td>0.216977</td>\n",
       "      <td>-0.169932</td>\n",
       "      <td>0.250681</td>\n",
       "      <td>-0.043018</td>\n",
       "      <td>0.408909</td>\n",
       "      <td>0.399814</td>\n",
       "      <td>-0.052966</td>\n",
       "      <td>-0.410027</td>\n",
       "      <td>1.000000</td>\n",
       "      <td>0.348026</td>\n",
       "    </tr>\n",
       "    <tr>\n",
       "      <td>Stop</td>\n",
       "      <td>-0.177131</td>\n",
       "      <td>0.204091</td>\n",
       "      <td>-0.301259</td>\n",
       "      <td>0.440686</td>\n",
       "      <td>-0.075574</td>\n",
       "      <td>0.696959</td>\n",
       "      <td>-0.022515</td>\n",
       "      <td>0.028159</td>\n",
       "      <td>-0.064099</td>\n",
       "      <td>-0.007181</td>\n",
       "      <td>0.062711</td>\n",
       "      <td>0.348026</td>\n",
       "      <td>1.000000</td>\n",
       "    </tr>\n",
       "  </tbody>\n",
       "</table>\n",
       "</div>"
      ],
      "text/plain": [
       "                      Airline    Source  Destination     Route  \\\n",
       "Airline              1.000000 -0.008978     0.021453  0.040747   \n",
       "Source              -0.008978  1.000000    -0.620007  0.399316   \n",
       "Destination          0.021453 -0.620007     1.000000 -0.340416   \n",
       "Route                0.040747  0.399316    -0.340416  1.000000   \n",
       "Additional_Info     -0.101656 -0.045235     0.067816  0.029100   \n",
       "Price               -0.035226  0.024664    -0.206679  0.240177   \n",
       "Date                 0.027248 -0.001186    -0.003238  0.071670   \n",
       "Month                0.031115  0.172837    -0.278955  0.221286   \n",
       "Depart_Time_Hour    -0.033407  0.061256    -0.109889 -0.074418   \n",
       "Depart_Time_Minutes -0.063607 -0.052661     0.100969 -0.070009   \n",
       "Arr_Time_Hour       -0.007457  0.030276    -0.058709  0.028608   \n",
       "Arr_Time_Minutes    -0.071892  0.199436    -0.315394  0.216977   \n",
       "Stop                -0.177131  0.204091    -0.301259  0.440686   \n",
       "\n",
       "                     Additional_Info     Price      Date     Month  \\\n",
       "Airline                    -0.101656 -0.035226  0.027248  0.031115   \n",
       "Source                     -0.045235  0.024664 -0.001186  0.172837   \n",
       "Destination                 0.067816 -0.206679 -0.003238 -0.278955   \n",
       "Route                       0.029100  0.240177  0.071670  0.221286   \n",
       "Additional_Info             1.000000 -0.067538 -0.037777 -0.068214   \n",
       "Price                      -0.067538  1.000000 -0.128564 -0.071379   \n",
       "Date                       -0.037777 -0.128564  1.000000 -0.045366   \n",
       "Month                      -0.068214 -0.071379 -0.045366  1.000000   \n",
       "Depart_Time_Hour           -0.070633 -0.006783 -0.008908  0.043346   \n",
       "Depart_Time_Minutes        -0.003185 -0.062625  0.001659 -0.062487   \n",
       "Arr_Time_Hour               0.019592  0.076399 -0.001616  0.007004   \n",
       "Arr_Time_Minutes           -0.169932  0.250681 -0.043018  0.408909   \n",
       "Stop                       -0.075574  0.696959 -0.022515  0.028159   \n",
       "\n",
       "                     Depart_Time_Hour  Depart_Time_Minutes  Arr_Time_Hour  \\\n",
       "Airline                     -0.033407            -0.063607      -0.007457   \n",
       "Source                       0.061256            -0.052661       0.030276   \n",
       "Destination                 -0.109889             0.100969      -0.058709   \n",
       "Route                       -0.074418            -0.070009       0.028608   \n",
       "Additional_Info             -0.070633            -0.003185       0.019592   \n",
       "Price                       -0.006783            -0.062625       0.076399   \n",
       "Date                        -0.008908             0.001659      -0.001616   \n",
       "Month                        0.043346            -0.062487       0.007004   \n",
       "Depart_Time_Hour             1.000000            -0.007232      -0.009380   \n",
       "Depart_Time_Minutes         -0.007232             1.000000       0.049857   \n",
       "Arr_Time_Hour               -0.009380             0.049857       1.000000   \n",
       "Arr_Time_Minutes             0.399814            -0.052966      -0.410027   \n",
       "Stop                        -0.064099            -0.007181       0.062711   \n",
       "\n",
       "                     Arr_Time_Minutes      Stop  \n",
       "Airline                     -0.071892 -0.177131  \n",
       "Source                       0.199436  0.204091  \n",
       "Destination                 -0.315394 -0.301259  \n",
       "Route                        0.216977  0.440686  \n",
       "Additional_Info             -0.169932 -0.075574  \n",
       "Price                        0.250681  0.696959  \n",
       "Date                        -0.043018 -0.022515  \n",
       "Month                        0.408909  0.028159  \n",
       "Depart_Time_Hour             0.399814 -0.064099  \n",
       "Depart_Time_Minutes         -0.052966 -0.007181  \n",
       "Arr_Time_Hour               -0.410027  0.062711  \n",
       "Arr_Time_Minutes             1.000000  0.348026  \n",
       "Stop                         0.348026  1.000000  "
      ]
     },
     "execution_count": 52,
     "metadata": {},
     "output_type": "execute_result"
    }
   ],
   "source": [
    "train.corr()"
   ]
  },
  {
   "cell_type": "code",
   "execution_count": 130,
   "metadata": {},
   "outputs": [
    {
     "data": {
      "image/png": "[encoded data removed]",
      "text/plain": [
       "<Figure size 720x576 with 2 Axes>"
      ]
     },
     "metadata": {
      "needs_background": "light"
     },
     "output_type": "display_data"
    }
   ],
   "source": [
    "#showing the corelation with a heatmap\n",
    "plt.figure(figsize=(10,8))\n",
    "sns.heatmap(train.corr(),annot=True,fmt='.2f',vmax=1,vmin=0)\n",
    "plt.show()"
   ]
  },
  {
   "cell_type": "markdown",
   "metadata": {},
   "source": [
    "Features and Target Value"
   ]
  },
  {
   "cell_type": "code",
   "execution_count": 187,
   "metadata": {},
   "outputs": [],
   "source": [
    "x=train.drop(\"Price\",axis=1)\n",
    "y=train[\"Price\"]"
   ]
  },
  {
   "cell_type": "code",
   "execution_count": 188,
   "metadata": {},
   "outputs": [
    {
     "data": {
      "text/html": [
       "<div>\n",
       "<style scoped>\n",
       "    .dataframe tbody tr th:only-of-type {\n",
       "        vertical-align: middle;\n",
       "    }\n",
       "\n",
       "    .dataframe tbody tr th {\n",
       "        vertical-align: top;\n",
       "    }\n",
       "\n",
       "    .dataframe thead th {\n",
       "        text-align: right;\n",
       "    }\n",
       "</style>\n",
       "<table border=\"1\" class=\"dataframe\">\n",
       "  <thead>\n",
       "    <tr style=\"text-align: right;\">\n",
       "      <th></th>\n",
       "      <th>Airline</th>\n",
       "      <th>Source</th>\n",
       "      <th>Destination</th>\n",
       "      <th>Route</th>\n",
       "      <th>Additional_Info</th>\n",
       "      <th>Date</th>\n",
       "      <th>Month</th>\n",
       "      <th>Depart_Time_Hour</th>\n",
       "      <th>Depart_Time_Minutes</th>\n",
       "      <th>Arr_Time_Hour</th>\n",
       "      <th>Arr_Time_Minutes</th>\n",
       "      <th>Stop</th>\n",
       "    </tr>\n",
       "  </thead>\n",
       "  <tbody>\n",
       "    <tr>\n",
       "      <td>0</td>\n",
       "      <td>1.921812</td>\n",
       "      <td>0</td>\n",
       "      <td>1.791759</td>\n",
       "      <td>18</td>\n",
       "      <td>64</td>\n",
       "      <td>24</td>\n",
       "      <td>3</td>\n",
       "      <td>22</td>\n",
       "      <td>20</td>\n",
       "      <td>1</td>\n",
       "      <td>1.386294</td>\n",
       "      <td>0</td>\n",
       "    </tr>\n",
       "    <tr>\n",
       "      <td>1</td>\n",
       "      <td>0.480453</td>\n",
       "      <td>3</td>\n",
       "      <td>0.000000</td>\n",
       "      <td>84</td>\n",
       "      <td>64</td>\n",
       "      <td>1</td>\n",
       "      <td>5</td>\n",
       "      <td>5</td>\n",
       "      <td>50</td>\n",
       "      <td>13</td>\n",
       "      <td>1.609438</td>\n",
       "      <td>2</td>\n",
       "    </tr>\n",
       "  </tbody>\n",
       "</table>\n",
       "</div>"
      ],
      "text/plain": [
       "    Airline  Source  Destination  Route  Additional_Info  Date  Month  \\\n",
       "0  1.921812       0     1.791759     18               64    24      3   \n",
       "1  0.480453       3     0.000000     84               64     1      5   \n",
       "\n",
       "   Depart_Time_Hour  Depart_Time_Minutes  Arr_Time_Hour  Arr_Time_Minutes  \\\n",
       "0                22                   20              1          1.386294   \n",
       "1                 5                   50             13          1.609438   \n",
       "\n",
       "   Stop  \n",
       "0     0  \n",
       "1     2  "
      ]
     },
     "execution_count": 188,
     "metadata": {},
     "output_type": "execute_result"
    }
   ],
   "source": [
    "x.head(2)"
   ]
  },
  {
   "cell_type": "code",
   "execution_count": 189,
   "metadata": {},
   "outputs": [
    {
     "data": {
      "text/plain": [
       "0    8.268219\n",
       "1    8.944159\n",
       "Name: Price, dtype: float64"
      ]
     },
     "execution_count": 189,
     "metadata": {},
     "output_type": "execute_result"
    }
   ],
   "source": [
    "y.head(2)"
   ]
  },
  {
   "cell_type": "code",
   "execution_count": 190,
   "metadata": {},
   "outputs": [
    {
     "data": {
      "text/plain": [
       "(10194, 1)"
      ]
     },
     "execution_count": 190,
     "metadata": {},
     "output_type": "execute_result"
    }
   ],
   "source": [
    "y=np.array(y)\n",
    "y=y.reshape(-1,1)\n",
    "y.shape"
   ]
  },
  {
   "cell_type": "markdown",
   "metadata": {},
   "source": [
    "Standardisation"
   ]
  },
  {
   "cell_type": "code",
   "execution_count": 191,
   "metadata": {},
   "outputs": [
    {
     "data": {
      "text/plain": [
       "array([[-0.39319843, -1.6447773 ,  1.88891361, ..., -1.81220113,\n",
       "        -1.82548515, -1.2225616 ],\n",
       "       [-1.39625338,  0.87201342, -1.28259605, ..., -0.06095739,\n",
       "        -0.29907664,  1.9437984 ],\n",
       "       [ 0.07200177,  0.03308318, -0.05568864, ..., -1.37439019,\n",
       "         2.00255422,  1.9437984 ],\n",
       "       ...,\n",
       "       [ 0.07200177, -1.6447773 ,  0.66200619, ..., -0.35283135,\n",
       "        -0.29907664, -1.2225616 ],\n",
       "       [ 2.27080422, -1.6447773 ,  1.88891361, ...,  0.08497959,\n",
       "        -0.29907664, -1.2225616 ],\n",
       "       [-1.39625338,  0.03308318, -0.05568864, ...,  0.81466448,\n",
       "        -0.29907664,  1.9437984 ]])"
      ]
     },
     "execution_count": 191,
     "metadata": {},
     "output_type": "execute_result"
    }
   ],
   "source": [
    "from sklearn.preprocessing import StandardScaler\n",
    "sc=StandardScaler()\n",
    "\n",
    "x=sc.fit_transform(x)\n",
    "x\n"
   ]
  },
  {
   "cell_type": "markdown",
   "metadata": {},
   "source": [
    "Spilt Train and Test"
   ]
  },
  {
   "cell_type": "code",
   "execution_count": 192,
   "metadata": {},
   "outputs": [],
   "source": [
    "from sklearn.model_selection import train_test_split,GridSearchCV,cross_val_score\n",
    "from sklearn.linear_model import LinearRegression,Lasso\n",
    "from sklearn.tree import DecisionTreeRegressor\n",
    "from sklearn.svm import SVR\n",
    "from sklearn.neighbors import KNeighborsRegressor\n",
    "from sklearn.ensemble import RandomForestRegressor\n",
    "from sklearn.metrics import mean_squared_error,mean_absolute_error,r2_score"
   ]
  },
  {
   "cell_type": "code",
   "execution_count": 193,
   "metadata": {},
   "outputs": [],
   "source": [
    "def mod(model,x,y):\n",
    "    max_r=0\n",
    "    for i in range(30,150):\n",
    "        x_train,x_test,y_train,y_test=train_test_split(x,y,test_size=0.30,random_state=i)\n",
    "        model.fit(x_train,y_train)\n",
    "        pred=model.predict(x_test)\n",
    "        r2score=r2_score(y_test,pred)\n",
    "        MAE= mean_absolute_error(y_test,pred)\n",
    "        MSE= mean_squared_error(y_test,pred)\n",
    "        RMSE=np.sqrt(MSE)\n",
    "        if r2score > max_r:\n",
    "            max_r=r2score\n",
    "            random_state=i\n",
    "    print('the random state at ', mod,'\\nis: ',random_state, \n",
    "          '\\nand it produces \\n r2 score of ',r2score,\n",
    "          '\\n mean abs error value of ', MAE,\n",
    "          '\\n mean squared error value of',MSE,\n",
    "          '\\n & root mean sq error ', RMSE)\n",
    "    print()\n",
    "    print('prediction: ',pred)\n",
    "    return random_state"
   ]
  },
  {
   "cell_type": "markdown",
   "metadata": {},
   "source": [
    "LinearRegression"
   ]
  },
  {
   "cell_type": "code",
   "execution_count": 61,
   "metadata": {},
   "outputs": [
    {
     "name": "stdout",
     "output_type": "stream",
     "text": [
      "the random state at  <function mod at 0x00000075D9FBD678> \n",
      "is:  53 \n",
      "and it produces \n",
      " r2 score of  0.5418264448439887 \n",
      " mean abs error value of  0.28542872449059087 \n",
      " mean squared error value of 0.12144661698804608 \n",
      " & root mean sq error  0.34849191811008484\n",
      "\n",
      "prediction:  [[9.06880894]\n",
      " [9.30722525]\n",
      " [9.35857574]\n",
      " ...\n",
      " [8.65182964]\n",
      " [8.3711079 ]\n",
      " [8.2875416 ]]\n"
     ]
    },
    {
     "data": {
      "text/plain": [
       "53"
      ]
     },
     "execution_count": 61,
     "metadata": {},
     "output_type": "execute_result"
    }
   ],
   "source": [
    "lr=LinearRegression()\n",
    "mod(lr,x,y)"
   ]
  },
  {
   "cell_type": "code",
   "execution_count": 62,
   "metadata": {},
   "outputs": [
    {
     "name": "stdout",
     "output_type": "stream",
     "text": [
      "the r2 score at liner regression model is= 0.5484384192874713\n"
     ]
    }
   ],
   "source": [
    "#cross validation\n",
    "lr_scr=cross_val_score(lr,x,y,cv=10,scoring='r2')\n",
    "print('the r2 score at liner regression model is=', lr_scr.mean())"
   ]
  },
  {
   "cell_type": "markdown",
   "metadata": {},
   "source": [
    "Decision Tree Regressor"
   ]
  },
  {
   "cell_type": "code",
   "execution_count": 63,
   "metadata": {},
   "outputs": [
    {
     "data": {
      "text/plain": [
       "{'criterion': 'friedman_mse', 'max_depth': 9}"
      ]
     },
     "execution_count": 63,
     "metadata": {},
     "output_type": "execute_result"
    }
   ],
   "source": [
    "dtr=DecisionTreeRegressor()\n",
    "dtr_para={'criterion':['mse','friedman_mse','mae'],'max_depth':[6,8,9]}\n",
    "dtr_grid=GridSearchCV(dtr,dtr_para,cv=10)\n",
    "dtr_grid.fit(x,y)\n",
    "dtr_grid.best_params_"
   ]
  },
  {
   "cell_type": "code",
   "execution_count": 64,
   "metadata": {},
   "outputs": [
    {
     "name": "stdout",
     "output_type": "stream",
     "text": [
      "the random state at  <function mod at 0x00000075D9FBD678> \n",
      "is:  147 \n",
      "and it produces \n",
      " r2 score of  0.8973002509376673 \n",
      " mean abs error value of  0.10595368003475412 \n",
      " mean squared error value of 0.027222298076314287 \n",
      " & root mean sq error  0.1649918121493133\n",
      "\n",
      "prediction:  [8.78995486 9.47834956 9.07423036 ... 8.46046802 8.1824766  7.59941984]\n"
     ]
    },
    {
     "data": {
      "text/plain": [
       "147"
      ]
     },
     "execution_count": 64,
     "metadata": {},
     "output_type": "execute_result"
    }
   ],
   "source": [
    "dtr=DecisionTreeRegressor(criterion='friedman_mse',max_depth=9)\n",
    "mod(dtr,x,y)"
   ]
  },
  {
   "cell_type": "code",
   "execution_count": 65,
   "metadata": {},
   "outputs": [
    {
     "name": "stdout",
     "output_type": "stream",
     "text": [
      "the r2 score at DTR model is= 0.8998590320824322\n"
     ]
    }
   ],
   "source": [
    "#Cross Validation\n",
    "dtr_scr=cross_val_score(dtr,x,y,cv=10,scoring='r2')\n",
    "print('the r2 score at DTR model is=', dtr_scr.mean())"
   ]
  },
  {
   "cell_type": "markdown",
   "metadata": {},
   "source": [
    "KNeighbors Regressor"
   ]
  },
  {
   "cell_type": "code",
   "execution_count": 66,
   "metadata": {},
   "outputs": [
    {
     "data": {
      "text/plain": [
       "{'algorithm': 'brute', 'n_neighbors': 4}"
      ]
     },
     "execution_count": 66,
     "metadata": {},
     "output_type": "execute_result"
    }
   ],
   "source": [
    "knr=KNeighborsRegressor()\n",
    "k_para={'n_neighbors': range(4,20),'algorithm':['ball_tree', 'kd_tree', 'brute','auto']}\n",
    "k_grid=GridSearchCV(knr,k_para,cv=20)\n",
    "k_grid.fit(x,y)\n",
    "k_grid.best_params_"
   ]
  },
  {
   "cell_type": "code",
   "execution_count": 69,
   "metadata": {},
   "outputs": [
    {
     "name": "stdout",
     "output_type": "stream",
     "text": [
      "the random state at  <function mod at 0x00000075D9FBD678> \n",
      "is:  143 \n",
      "and it produces \n",
      " r2 score of  0.8407885757814842 \n",
      " mean abs error value of  0.13071866130553056 \n",
      " mean squared error value of 0.04220166930106532 \n",
      " & root mean sq error  0.20543044881678402\n",
      "\n",
      "prediction:  [[9.10873545]\n",
      " [9.43254117]\n",
      " [9.05518926]\n",
      " ...\n",
      " [8.54144217]\n",
      " [8.17301131]\n",
      " [7.60333573]]\n"
     ]
    },
    {
     "data": {
      "text/plain": [
       "143"
      ]
     },
     "execution_count": 69,
     "metadata": {},
     "output_type": "execute_result"
    }
   ],
   "source": [
    "knr=KNeighborsRegressor(algorithm='brute',n_neighbors=4)\n",
    "mod(knr,x,y)"
   ]
  },
  {
   "cell_type": "code",
   "execution_count": 70,
   "metadata": {},
   "outputs": [
    {
     "name": "stdout",
     "output_type": "stream",
     "text": [
      "the r2 score at KNR model is= 0.8649781290338142\n"
     ]
    }
   ],
   "source": [
    "#Cross Validation\n",
    "knr_scr=cross_val_score(knr,x,y,cv=20,scoring='r2')\n",
    "print('the r2 score at KNR model is=', knr_scr.mean())"
   ]
  },
  {
   "cell_type": "markdown",
   "metadata": {},
   "source": [
    "Random Forest Regressor"
   ]
  },
  {
   "cell_type": "code",
   "execution_count": 82,
   "metadata": {},
   "outputs": [
    {
     "data": {
      "text/plain": [
       "{'criterion': 'mse', 'max_depth': 9, 'n_estimators': 100}"
      ]
     },
     "execution_count": 82,
     "metadata": {},
     "output_type": "execute_result"
    }
   ],
   "source": [
    "rf=RandomForestRegressor()\n",
    "rf_para={'criterion':['mse','mae'],'max_depth':[6,8,9],'n_estimators' : [100]}\n",
    "rf_grid=GridSearchCV(rf,rf_para,cv=10)\n",
    "rf_grid.fit(x,y)\n",
    "rf_grid.best_params_"
   ]
  },
  {
   "cell_type": "code",
   "execution_count": 83,
   "metadata": {},
   "outputs": [
    {
     "name": "stdout",
     "output_type": "stream",
     "text": [
      "the random state at  <function mod at 0x00000075D0D3B948> \n",
      "is:  143 \n",
      "and it produces \n",
      " r2 score of  0.9179457869228003 \n",
      " mean abs error value of  0.10011036145285414 \n",
      " mean squared error value of 0.021749851067788015 \n",
      " & root mean sq error  0.1474783071091746\n",
      "\n",
      "prediction:  [8.89387518 9.45382782 9.08815301 ... 8.43270835 8.19278779 7.61225212]\n"
     ]
    },
    {
     "data": {
      "text/plain": [
       "143"
      ]
     },
     "execution_count": 83,
     "metadata": {},
     "output_type": "execute_result"
    }
   ],
   "source": [
    "rf=RandomForestRegressor(criterion='mse',max_depth=9,n_estimators=100)\n",
    "mod(rf,x,y)"
   ]
  },
  {
   "cell_type": "code",
   "execution_count": 84,
   "metadata": {},
   "outputs": [
    {
     "name": "stdout",
     "output_type": "stream",
     "text": [
      "the r2 score at Random Forest Regressor model is= 0.9195967862240412\n"
     ]
    }
   ],
   "source": [
    "#Cross Validation\n",
    "rf_scr=cross_val_score(rf,x,y,cv=10,scoring='r2')\n",
    "print('the r2 score at Random Forest Regressor model is=', rf_scr.mean())"
   ]
  },
  {
   "cell_type": "markdown",
   "metadata": {},
   "source": [
    "AdaBoost Regressor"
   ]
  },
  {
   "cell_type": "code",
   "execution_count": 73,
   "metadata": {},
   "outputs": [
    {
     "name": "stdout",
     "output_type": "stream",
     "text": [
      "best parameters: {'learning_rate': 0.025, 'n_estimators': 500}\n",
      "\n",
      " best score: 0.6988893896644581\n"
     ]
    }
   ],
   "source": [
    "from sklearn.ensemble import AdaBoostRegressor\n",
    "ada=AdaBoostRegressor()\n",
    "x_train,x_test,y_train,y_test=train_test_split(x,y,test_size=0.3,random_state=42)\n",
    "\n",
    "ada_param= {\"learning_rate\": [0.0001,0.025,0.1,1.0],\"n_estimators\":[250,500,750,1000]}\n",
    "\n",
    "ada_g= GridSearchCV(ada,ada_param,cv=10)\n",
    "ada_g.fit(x_train,y_train)\n",
    "print(\"best parameters:\", ada_g.best_params_)\n",
    "print(\"\\n best score:\",ada_g.best_score_)"
   ]
  },
  {
   "cell_type": "code",
   "execution_count": 74,
   "metadata": {},
   "outputs": [
    {
     "name": "stdout",
     "output_type": "stream",
     "text": [
      "the random state at  <function mod at 0x00000075D9FBD678> \n",
      "is:  51 \n",
      "and it produces \n",
      " r2 score of  0.6921536489230506 \n",
      " mean abs error value of  0.23202813555578336 \n",
      " mean squared error value of 0.08159985985589967 \n",
      " & root mean sq error  0.28565689184036797\n",
      "\n",
      "prediction:  [9.21067548 9.33019156 9.19055758 ... 8.51227073 8.50488179 8.12581833]\n"
     ]
    },
    {
     "data": {
      "text/plain": [
       "51"
      ]
     },
     "execution_count": 74,
     "metadata": {},
     "output_type": "execute_result"
    }
   ],
   "source": [
    "ada=AdaBoostRegressor(learning_rate=0.025, n_estimators=500)\n",
    "mod(ada,x,y)"
   ]
  },
  {
   "cell_type": "code",
   "execution_count": 75,
   "metadata": {},
   "outputs": [
    {
     "name": "stdout",
     "output_type": "stream",
     "text": [
      "the r2 score at AdaBoost Reg model is= 0.6958480413981982\n"
     ]
    }
   ],
   "source": [
    "#Cross Validation\n",
    "ada_scr=cross_val_score(ada,x,y,cv=10,scoring='r2')\n",
    "print('the r2 score at AdaBoost Reg model is=', ada_scr.mean())"
   ]
  },
  {
   "cell_type": "code",
   "execution_count": 194,
   "metadata": {},
   "outputs": [
    {
     "data": {
      "text/plain": [
       "['RF_FlightPrice.pkl']"
      ]
     },
     "execution_count": 194,
     "metadata": {},
     "output_type": "execute_result"
    }
   ],
   "source": [
    "import joblib\n",
    "joblib.dump(rf,\"RF_FlightPrice.pkl\")"
   ]
  },
  {
   "cell_type": "code",
   "execution_count": 198,
   "metadata": {},
   "outputs": [
    {
     "data": {
      "text/plain": [
       "array([8.5476109 , 8.5476109 , 8.5476109 , ..., 8.5476109 , 8.92269545,\n",
       "       8.5476109 ])"
      ]
     },
     "execution_count": 198,
     "metadata": {},
     "output_type": "execute_result"
    }
   ],
   "source": [
    "# Load the model from the file\n",
    "model = joblib.load('RF_FlightPrice.pkl') \n",
    "# Use the loaded model to make predictions \n",
    "model.predict(test)"
   ]
  }
 ],
 "metadata": {
  "kernelspec": {
   "display_name": "Python 3",
   "language": "python",
   "name": "python3"
  }
 },
 "nbformat": 4,
 "nbformat_minor": 2
}
